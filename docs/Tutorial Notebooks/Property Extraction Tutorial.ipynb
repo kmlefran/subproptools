{
 "cells": [
  {
   "cell_type": "code",
   "execution_count": 1,
   "metadata": {},
   "outputs": [
    {
     "ename": "TypeError",
     "evalue": "'type' object is not iterable",
     "output_type": "error",
     "traceback": [
      "\u001b[0;31m---------------------------------------------------------------------------\u001b[0m",
      "\u001b[0;31mTypeError\u001b[0m                                 Traceback (most recent call last)",
      "Cell \u001b[0;32mIn[1], line 2\u001b[0m\n\u001b[1;32m      1\u001b[0m \u001b[39mimport\u001b[39;00m \u001b[39msubproptools\u001b[39;00m\n\u001b[0;32m----> 2\u001b[0m \u001b[39mfrom\u001b[39;00m \u001b[39msubproptools\u001b[39;00m \u001b[39mimport\u001b[39;00m qtaimExtract \u001b[39mas\u001b[39;00m qt\n\u001b[1;32m      3\u001b[0m \u001b[39mimport\u001b[39;00m \u001b[39mpandas\u001b[39;00m \u001b[39mas\u001b[39;00m \u001b[39mpd\u001b[39;00m\n\u001b[1;32m      4\u001b[0m \u001b[39mimport\u001b[39;00m \u001b[39mnumpy\u001b[39;00m \u001b[39mas\u001b[39;00m \u001b[39mnp\u001b[39;00m\n",
      "File \u001b[0;32m~/anaconda3/envs/my-subprop-env/lib/python3.11/site-packages/subproptools/qtaimExtract.py:526\u001b[0m\n\u001b[1;32m    523\u001b[0m     groupDict\u001b[39m.\u001b[39mupdate({\u001b[39m'\u001b[39m\u001b[39m|Mu_Bond|\u001b[39m\u001b[39m'\u001b[39m : [math\u001b[39m.\u001b[39msqrt(groupDict[\u001b[39m'\u001b[39m\u001b[39mMu_X\u001b[39m\u001b[39m'\u001b[39m][\u001b[39m0\u001b[39m]\u001b[39m*\u001b[39m\u001b[39m*\u001b[39m\u001b[39m2\u001b[39m \u001b[39m+\u001b[39m groupDict[\u001b[39m'\u001b[39m\u001b[39mMu_Y\u001b[39m\u001b[39m'\u001b[39m][\u001b[39m0\u001b[39m]\u001b[39m*\u001b[39m\u001b[39m*\u001b[39m\u001b[39m2\u001b[39m \u001b[39m+\u001b[39m groupDict[\u001b[39m'\u001b[39m\u001b[39mMu_Z\u001b[39m\u001b[39m'\u001b[39m][\u001b[39m0\u001b[39m]\u001b[39m*\u001b[39m\u001b[39m*\u001b[39m\u001b[39m2\u001b[39m)]})     \n\u001b[1;32m    524\u001b[0m     \u001b[39mreturn\u001b[39;00m groupDict\n\u001b[0;32m--> 526\u001b[0m \u001b[39mdef\u001b[39;00m \u001b[39m_check_num_atoms\u001b[39m(atom_label_list:\u001b[39mlist\u001b[39m[\u001b[39mstr\u001b[39m],atom_int_list:\u001b[39mlist\u001b[39;49m(\u001b[39mstr\u001b[39;49m)) \u001b[39m-\u001b[39m\u001b[39m>\u001b[39m \u001b[39mNone\u001b[39;00m:\n\u001b[1;32m    527\u001b[0m     num_atoms \u001b[39m=\u001b[39m \u001b[39mlen\u001b[39m(atom_label_list)\n\u001b[1;32m    528\u001b[0m     max_int  \u001b[39m=\u001b[39m \u001b[39mmax\u001b[39m(atom_int_list)\n",
      "\u001b[0;31mTypeError\u001b[0m: 'type' object is not iterable"
     ]
    }
   ],
   "source": [
    "import subproptools\n",
    "from subproptools import qtaimExtract as qt\n",
    "import pandas as pd\n",
    "import numpy as np\n",
    "import math\n",
    "\n"
   ]
  },
  {
   "cell_type": "markdown",
   "metadata": {},
   "source": [
    "# Accessing documentation\n",
    "\n",
    "\n",
    "All user facing functions are thoroughly documented, doc strings can be accessed as below"
   ]
  },
  {
   "cell_type": "code",
   "execution_count": null,
   "metadata": {},
   "outputs": [
    {
     "name": "stdout",
     "output_type": "stream",
     "text": [
      "Help on function extract_sub_props in module subproptools.qtaimExtract:\n",
      "\n",
      "extract_sub_props(sumFileNoExt, subAtoms, groupProps=True, bcpId=[[1, 2]], lapRhoCpAtoms=[])\n",
      "    returns a dictionary of all group properties - bcp, group, atomic, and vscc\n",
      "    Args:\n",
      "        sumFileNoExt - a sumfile name, without the .sum\n",
      "        subAtoms - indices of atoms in the molecule comprising group - starts at 1\n",
      "        groupProps - boolean - do you want to compute group properties\n",
      "        bcpId - list of 2 length lists. Pass empty list if no bcp properties wanted. 2 length lists are indices of atoms that you want BCPs for\n",
      "        lapRhoCpAtoms = list of atom indices that you want to find laprhoCPs for. Defaults to empty\n",
      "    vol surface is 0.001 au isodensity\n",
      "    \n",
      "    Returns:\n",
      "        nested dictionaries\n",
      "        {'Group': dictionary of group properties,\n",
      "        'Atomic': \n",
      "            {'C1':dictionary of properties for C1, \n",
      "             'H2':dictionary of properties for H2,...},\n",
      "        'BCP':\n",
      "            {'C1-H2':dictionary of properties for C1-H2 BCP,\n",
      "            repeat for all requested BCPs in bcpId},\n",
      "        'VSCC':{'C1':\n",
      "            {1:dictionary of VSCC properties for 1st VSCC on C1,\n",
      "            2:dictionary of VSCC properties for 2nd VSCC on C1,\n",
      "            (repeat for all VSCC)\n",
      "            }\n",
      "            {'F2':same structure as dicitionary for C1}\n",
      "            },\n",
      "            (repeat for all requested atoms in lapRhoCpAtoms)\n",
      "            }\n",
      "\n"
     ]
    }
   ],
   "source": [
    "help(qt.extract_sub_props)"
   ]
  },
  {
   "cell_type": "markdown",
   "metadata": {},
   "source": [
    "# User facing functions\n",
    "\n",
    "The following are the user facing functions that you are intended to call. Examples of each of these will be provided.\n",
    "\n",
    "* extract_sub_props - gets substituent properties for a batch of sum files found defined by input file\n",
    "* get_atomic_props - gets atomic properties for all atoms in file\n",
    "* get_bcp_properties - gets BCP properties for selected bonds\n",
    "* get_cc_props - gets VSCC properties\n",
    "* get_sub_di - gets the delocalization index between one substituent and the remainder of the molecule\n",
    "* get_sub_props - gets substituent properties for one substituent and one sum file\n",
    "* get_xyz - gets atom list and xyz coordinates in sum file\n",
    "\n",
    "# get_atomic_props\n",
    "\n",
    "The simplest function, will extract a variety of properties for a sum file. Note that the .sum file is passed as the variable 'data' which includes a list of the lines of the file. I don't anticipate this being called often, but it has functionality that may be important in some cases, if you're looking for specific atoms in a small study.\n",
    "\n",
    "This returns a dictionary of one element lists. These are lists as extract_sub_prop will later take these types of dictionaries to create data frames, which require lists.\n",
    "\n",
    "Usage as below\n",
    "\n"
   ]
  },
  {
   "cell_type": "code",
   "execution_count": null,
   "metadata": {},
   "outputs": [
    {
     "name": "stdout",
     "output_type": "stream",
     "text": [
      "['Atom', 'Charge', 'X', 'Y', 'Z']\n",
      "['Atom', 'q(A)', 'L(A)', 'K(A)', 'K_Scaled(A)', '|Mu_Intra(A)|']\n",
      "['Atom', 'Mu_Intra_X(A)', 'Mu_Bond_X(A)', 'Mu_X(A)']\n",
      "['Atom', 'Mu_Intra_Y(A)', 'Mu_Bond_Y(A)', 'Mu_Y(A)']\n",
      "['Atom', 'Mu_Intra_Z(A)', 'Mu_Bond_Z(A)', 'Mu_Z(A)']\n",
      "['Atom', '|Mu_Intra(A)|', '|Mu_Bond(A)|', '|Mu(A)|']\n",
      "['Atom', 'Q_XX(A)', 'Q_XY(A)', 'Q_XZ(A)', 'Q_YY(A)', 'Q_YZ(A)', 'Q_ZZ(A)']\n",
      "['Atom', 'R-2(A)', 'R-1(A)', 'R0(A)', 'R+1(A)', 'R+2(A)']\n",
      "['Atom', 'Area(A)', 'Vol(A)', 'N(Vol(A))', 'N(Vol(A))/Vol(A)', '%N(Vol(A))']\n"
     ]
    },
    {
     "data": {
      "text/plain": [
       "['P1', 'H2', 'H3', 'O4', 'C5', 'H6', 'H7', 'H8']"
      ]
     },
     "execution_count": 7,
     "metadata": {},
     "output_type": "execute_result"
    }
   ],
   "source": [
    "#create the data object\n",
    "sumFile = open('SubH_POCH3H_wb97xd_aug-cc-pvtz_reor.sum',\"r\") #open file, read lines, close file\n",
    "data = sumFile.readlines()\n",
    "sumFile.close()\n",
    "atomic_props = qt.get_atomic_props(data)\n",
    "#The keys of the outer dictionary are the atoms\n",
    "list(atomic_props.keys())"
   ]
  },
  {
   "cell_type": "code",
   "execution_count": null,
   "metadata": {},
   "outputs": [
    {
     "data": {
      "text/plain": [
       "['xyz',\n",
       " 'q',\n",
       " 'K',\n",
       " 'K_Scaled',\n",
       " 'Mu_Intra_X',\n",
       " 'Mu_Intra_Y',\n",
       " 'Mu_Intra_Z',\n",
       " 'Mu_Bond_X',\n",
       " 'Mu_Bond_Y',\n",
       " 'Mu_Bond_Z',\n",
       " 'Mu_X',\n",
       " 'Mu_Y',\n",
       " 'Mu_Z',\n",
       " '|Mu_Intra|',\n",
       " '|Mu_Bond|',\n",
       " '|Mu|',\n",
       " 'Q_XX',\n",
       " 'Q_XY',\n",
       " 'Q_XZ',\n",
       " 'Q_YY',\n",
       " 'Q_YZ',\n",
       " 'Q_ZZ',\n",
       " 'R+2',\n",
       " 'R+1',\n",
       " 'Vol',\n",
       " 'quadContrib']"
      ]
     },
     "execution_count": 8,
     "metadata": {},
     "output_type": "execute_result"
    }
   ],
   "source": [
    "# Each of the above keys is itself a dictionary, each with the following keys. Note Mu_Intra corresponds to mu^p in KLG's papers, and Mu_Bond corresponds to mu^c\n",
    "list(atomic_props['P1'].keys())"
   ]
  },
  {
   "cell_type": "code",
   "execution_count": null,
   "metadata": {},
   "outputs": [
    {
     "data": {
      "text/plain": [
       "['Q_xx', 'Q_xy', 'Q_xz', 'Q_yy', 'Q_yz', 'Q_zz']"
      ]
     },
     "execution_count": 9,
     "metadata": {},
     "output_type": "execute_result"
    }
   ],
   "source": [
    "#quad contrib specifically is also a dictionary. This contains the atomic contribution to the molecular quadrupole moment, as opposed to Q_XX which is the atomic quadrupole\n",
    "list(atomic_props['P1']['quadContrib'].keys())"
   ]
  },
  {
   "cell_type": "code",
   "execution_count": null,
   "metadata": {},
   "outputs": [
    {
     "data": {
      "text/plain": [
       "0.44284903526"
      ]
     },
     "execution_count": 11,
     "metadata": {},
     "output_type": "execute_result"
    }
   ],
   "source": [
    "# Example - access x-component of dipole for atom H2, without the [0] at the end, this would be a list, as described above:\n",
    "atomic_props['H2']['Mu_X'][0]"
   ]
  },
  {
   "cell_type": "markdown",
   "metadata": {},
   "source": [
    "# extract_sub_props\n",
    "\n"
   ]
  },
  {
   "cell_type": "code",
   "execution_count": null,
   "metadata": {},
   "outputs": [
    {
     "ename": "TypeError",
     "evalue": "extract_sub_props() got an unexpected keyword argument 'data'",
     "output_type": "error",
     "traceback": [
      "\u001b[0;31m---------------------------------------------------------------------------\u001b[0m",
      "\u001b[0;31mTypeError\u001b[0m                                 Traceback (most recent call last)",
      "Cell \u001b[0;32mIn[14], line 1\u001b[0m\n\u001b[0;32m----> 1\u001b[0m qt\u001b[39m.\u001b[39;49mextract_sub_props(data\u001b[39m=\u001b[39;49mdata, subAtoms\u001b[39m=\u001b[39;49m[\u001b[39m1\u001b[39;49m,\u001b[39m3\u001b[39;49m,\u001b[39m4\u001b[39;49m,\u001b[39m5\u001b[39;49m,\u001b[39m6\u001b[39;49m,\u001b[39m7\u001b[39;49m,\u001b[39m8\u001b[39;49m],sumFileNoExt\u001b[39m=\u001b[39;49m\u001b[39m'\u001b[39;49m\u001b[39mSubH_POCH3H_wb97xd_aug-cc-pvtz_reor\u001b[39;49m\u001b[39m'\u001b[39;49m)\n",
      "\u001b[0;31mTypeError\u001b[0m: extract_sub_props() got an unexpected keyword argument 'data'"
     ]
    }
   ],
   "source": [
    "qt.extract_sub_props(data=data, subAtoms=[1,3,4,5,6,7,8],sumFileNoExt='SubH_POCH3H_wb97xd_aug-cc-pvtz_reor')\n"
   ]
  },
  {
   "cell_type": "code",
   "execution_count": null,
   "metadata": {},
   "outputs": [
    {
     "data": {
      "text/plain": [
       "list"
      ]
     },
     "execution_count": 15,
     "metadata": {},
     "output_type": "execute_result"
    }
   ],
   "source": [
    "type(data)"
   ]
  },
  {
   "cell_type": "code",
   "execution_count": null,
   "metadata": {},
   "outputs": [],
   "source": []
  }
 ],
 "metadata": {
  "kernelspec": {
   "display_name": "my-subprop-env",
   "language": "python",
   "name": "python3"
  },
  "language_info": {
   "codemirror_mode": {
    "name": "ipython",
    "version": 3
   },
   "file_extension": ".py",
   "mimetype": "text/x-python",
   "name": "python",
   "nbconvert_exporter": "python",
   "pygments_lexer": "ipython3",
   "version": "3.11.4"
  },
  "orig_nbformat": 4
 },
 "nbformat": 4,
 "nbformat_minor": 2
}
