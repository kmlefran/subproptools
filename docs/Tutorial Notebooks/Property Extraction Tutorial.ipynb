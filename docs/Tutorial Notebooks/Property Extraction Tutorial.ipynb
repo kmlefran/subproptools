{
 "cells": [
  {
   "cell_type": "code",
   "execution_count": 1,
   "metadata": {},
   "outputs": [],
   "source": [
    "import subproptools\n",
    "from subproptools import qtaimExtract as qt\n",
    "import pandas as pd\n",
    "import numpy as np\n",
    "import math\n",
    "\n"
   ]
  },
  {
   "cell_type": "markdown",
   "metadata": {},
   "source": [
    "# Accessing documentation\n",
    "\n",
    "\n",
    "All user facing functions are thoroughly documented, doc strings can be accessed as below"
   ]
  },
  {
   "cell_type": "code",
   "execution_count": 2,
   "metadata": {},
   "outputs": [
    {
     "name": "stdout",
     "output_type": "stream",
     "text": [
      "Help on function extract_sub_props in module subproptools.qtaimExtract:\n",
      "\n",
      "extract_sub_props(data: list[str], subAtoms: list[int], sumFileNoExt: str, groupProps=True, bcpId=[[1, 2]], lapRhoCpAtoms=[])\n",
      "    returns a dictionary of all group properties - bcp, group, atomic, and vscc\n",
      "    Args:\n",
      "        data: list[str] - lines of a .sum file\n",
      "        subAtoms - indices of atoms in the molecule comprising group - starts at 1\n",
      "        groupProps - boolean - do you want to compute group properties\n",
      "        bcpId - list of 2 length lists. Pass empty list if no bcp properties wanted. 2 length lists are indices of atoms that you want BCPs for\n",
      "        lapRhoCpAtoms = list of atom indices that you want to find laprhoCPs for. Defaults to empty\n",
      "    vol surface is 0.001 au isodensity\n",
      "    \n",
      "    Returns:\n",
      "        nested dictionaries\n",
      "        {'Group': dictionary of group properties,\n",
      "        'Atomic': \n",
      "            {'C1':dictionary of properties for C1, \n",
      "             'H2':dictionary of properties for H2,...},\n",
      "        'BCP':\n",
      "            {'C1-H2':dictionary of properties for C1-H2 BCP,\n",
      "            repeat for all requested BCPs in bcpId},\n",
      "        'VSCC':{'C1':\n",
      "            {1:dictionary of VSCC properties for 1st VSCC on C1,\n",
      "            2:dictionary of VSCC properties for 2nd VSCC on C1,\n",
      "            (repeat for all VSCC)\n",
      "            }\n",
      "            {'F2':same structure as dicitionary for C1}\n",
      "            },\n",
      "            (repeat for all requested atoms in lapRhoCpAtoms)\n",
      "            }\n",
      "\n"
     ]
    }
   ],
   "source": [
    "help(qt.extract_sub_props)"
   ]
  },
  {
   "cell_type": "markdown",
   "metadata": {},
   "source": [
    "# User facing functions\n",
    "\n",
    "The following are the user facing functions that you are intended to call. Examples of each of these will be provided.\n",
    "\n",
    "* extract_sub_props - gets substituent properties for a batch of sum files found defined by input file\n",
    "* get_atomic_props - gets atomic properties for all atoms in file\n",
    "* get_bcp_properties - gets BCP properties for selected bonds\n",
    "* get_cc_props - gets VSCC properties\n",
    "* get_sub_di - gets the delocalization index between one substituent and the remainder of the molecule\n",
    "* get_sub_props - gets substituent properties for one substituent and one sum file\n",
    "* get_xyz - gets atom list and xyz coordinates in sum file\n",
    "\n",
    "# get_atomic_props\n",
    "\n",
    "The simplest function, will extract a variety of properties for a sum file. Note that the .sum file is passed as the variable 'data' which includes a list of the lines of the file. I don't anticipate this being called often, but it has functionality that may be important in some cases, if you're looking for specific atoms in a small study.\n",
    "\n",
    "This returns a dictionary of one element lists. These are lists as extract_sub_prop will later take these types of dictionaries to create data frames, which require lists.\n",
    "\n",
    "Usage as below\n",
    "\n"
   ]
  },
  {
   "cell_type": "code",
   "execution_count": 3,
   "metadata": {},
   "outputs": [
    {
     "name": "stdout",
     "output_type": "stream",
     "text": [
      "['Atom', 'Charge', 'X', 'Y', 'Z']\n",
      "['Atom', 'q(A)', 'L(A)', 'K(A)', 'K_Scaled(A)', '|Mu_Intra(A)|']\n",
      "['Atom', 'Mu_Intra_X(A)', 'Mu_Bond_X(A)', 'Mu_X(A)']\n",
      "['Atom', 'Mu_Intra_Y(A)', 'Mu_Bond_Y(A)', 'Mu_Y(A)']\n",
      "['Atom', 'Mu_Intra_Z(A)', 'Mu_Bond_Z(A)', 'Mu_Z(A)']\n",
      "['Atom', '|Mu_Intra(A)|', '|Mu_Bond(A)|', '|Mu(A)|']\n",
      "['Atom', 'Q_XX(A)', 'Q_XY(A)', 'Q_XZ(A)', 'Q_YY(A)', 'Q_YZ(A)', 'Q_ZZ(A)']\n",
      "['Atom', 'R-2(A)', 'R-1(A)', 'R0(A)', 'R+1(A)', 'R+2(A)']\n",
      "['Atom', 'Area(A)', 'Vol(A)', 'N(Vol(A))', 'N(Vol(A))/Vol(A)', '%N(Vol(A))']\n"
     ]
    },
    {
     "data": {
      "text/plain": [
       "['P1', 'H2', 'H3', 'O4', 'C5', 'H6', 'H7', 'H8']"
      ]
     },
     "execution_count": 3,
     "metadata": {},
     "output_type": "execute_result"
    }
   ],
   "source": [
    "#create the data object\n",
    "sumFile = open('SubH_POCH3H_wb97xd_aug-cc-pvtz_reor.sum',\"r\") #open file, read lines, close file\n",
    "data = sumFile.readlines()\n",
    "sumFile.close()\n",
    "atomic_props = qt.get_atomic_props(data)\n",
    "#The keys of the outer dictionary are the atoms\n",
    "list(atomic_props.keys())"
   ]
  },
  {
   "cell_type": "code",
   "execution_count": 4,
   "metadata": {},
   "outputs": [
    {
     "data": {
      "text/plain": [
       "['xyz',\n",
       " 'q',\n",
       " 'K',\n",
       " 'K_Scaled',\n",
       " 'Mu_Intra_X',\n",
       " 'Mu_Intra_Y',\n",
       " 'Mu_Intra_Z',\n",
       " 'Mu_Bond_X',\n",
       " 'Mu_Bond_Y',\n",
       " 'Mu_Bond_Z',\n",
       " 'Mu_X',\n",
       " 'Mu_Y',\n",
       " 'Mu_Z',\n",
       " '|Mu_Intra|',\n",
       " '|Mu_Bond|',\n",
       " '|Mu|',\n",
       " 'Q_XX',\n",
       " 'Q_XY',\n",
       " 'Q_XZ',\n",
       " 'Q_YY',\n",
       " 'Q_YZ',\n",
       " 'Q_ZZ',\n",
       " 'R+2',\n",
       " 'R+1',\n",
       " 'Vol',\n",
       " 'quadContrib']"
      ]
     },
     "execution_count": 4,
     "metadata": {},
     "output_type": "execute_result"
    }
   ],
   "source": [
    "# Each of the above keys is itself a dictionary, each with the following keys. Note Mu_Intra corresponds to mu^p in KLG's papers, and Mu_Bond corresponds to mu^c\n",
    "list(atomic_props['P1'].keys())"
   ]
  },
  {
   "cell_type": "code",
   "execution_count": 5,
   "metadata": {},
   "outputs": [
    {
     "data": {
      "text/plain": [
       "['Q_xx', 'Q_xy', 'Q_xz', 'Q_yy', 'Q_yz', 'Q_zz']"
      ]
     },
     "execution_count": 5,
     "metadata": {},
     "output_type": "execute_result"
    }
   ],
   "source": [
    "#quad contrib specifically is also a dictionary. This contains the atomic contribution to the molecular quadrupole moment, as opposed to Q_XX which is the atomic quadrupole\n",
    "list(atomic_props['P1']['quadContrib'].keys())"
   ]
  },
  {
   "cell_type": "code",
   "execution_count": 6,
   "metadata": {},
   "outputs": [
    {
     "data": {
      "text/plain": [
       "0.44284903526"
      ]
     },
     "execution_count": 6,
     "metadata": {},
     "output_type": "execute_result"
    }
   ],
   "source": [
    "# Example - access x-component of dipole for atom H2, without the [0] at the end, this would be a list, as described above:\n",
    "atomic_props['H2']['Mu_X'][0]"
   ]
  },
  {
   "cell_type": "markdown",
   "metadata": {},
   "source": [
    "# get_bcp_properties\n",
    "\n",
    "get_bcp_properties takes the data object created earlier and a list of labels of the atoms for which the bcp should be found. See below. It returns a dictionary, see below for keys.\n",
    "\n",
    "This is also a dictionary of single element lists"
   ]
  },
  {
   "cell_type": "code",
   "execution_count": 13,
   "metadata": {},
   "outputs": [
    {
     "data": {
      "text/plain": [
       "{'xyz': array([-1.28673557e+00, -1.84401138e-05,  4.95375845e-03]),\n",
       " 'rho': [0.17523377789],\n",
       " 'lambda1': [-0.30195221336],\n",
       " 'lambda2': [-0.28264812538],\n",
       " 'lambda3': [0.44212073332],\n",
       " 'DelSqRho': [-0.14247960542],\n",
       " 'Ellipticity': [0.068297243967],\n",
       " 'V': [-0.33081070884],\n",
       " 'G': [0.14759540374],\n",
       " 'H': [-0.18321530510000003]}"
      ]
     },
     "execution_count": 13,
     "metadata": {},
     "output_type": "execute_result"
    }
   ],
   "source": [
    "qt.get_bcp_properties(data,['P1','H2'])"
   ]
  },
  {
   "cell_type": "markdown",
   "metadata": {},
   "source": [
    "# get_cc_props and identify_vscc\n",
    "\n",
    "get_cc_props Takes the file name and the atom label you want to find ccs for and returns a dicionary, each key in the outermost being a numerical label for the cc, and the subdictionary contains the properties for the cc\n",
    "\n",
    "You can narrow this down further to valence shell charge concentrations using identify_vscc, which also requires the atomic propert dictionary"
   ]
  },
  {
   "cell_type": "code",
   "execution_count": 16,
   "metadata": {},
   "outputs": [
    {
     "ename": "AttributeError",
     "evalue": "module 'subproptools.qtaimExtract' has no attribute 'identify_vscc'",
     "output_type": "error",
     "traceback": [
      "\u001b[0;31m---------------------------------------------------------------------------\u001b[0m",
      "\u001b[0;31mAttributeError\u001b[0m                            Traceback (most recent call last)",
      "Cell \u001b[0;32mIn[16], line 2\u001b[0m\n\u001b[1;32m      1\u001b[0m o_ccs \u001b[39m=\u001b[39m qt\u001b[39m.\u001b[39mget_cc_props(\u001b[39m'\u001b[39m\u001b[39mSubH_POCH3H_wb97xd_aug-cc-pvtz_reor\u001b[39m\u001b[39m'\u001b[39m, \u001b[39m'\u001b[39m\u001b[39mO4\u001b[39m\u001b[39m'\u001b[39m)\n\u001b[0;32m----> 2\u001b[0m o_vsccs \u001b[39m=\u001b[39m qt\u001b[39m.\u001b[39;49midentify_vscc(o_ccs,atomic_props)\n",
      "\u001b[0;31mAttributeError\u001b[0m: module 'subproptools.qtaimExtract' has no attribute 'identify_vscc'"
     ]
    }
   ],
   "source": [
    "o_ccs = qt.get_cc_props('SubH_POCH3H_wb97xd_aug-cc-pvtz_reor', 'O4')\n",
    "o_vsccs = qt.identify_vscc(o_ccs,atomic_props)\n"
   ]
  },
  {
   "cell_type": "code",
   "execution_count": 20,
   "metadata": {},
   "outputs": [
    {
     "data": {
      "text/plain": [
       "0.30803830854"
      ]
     },
     "execution_count": 20,
     "metadata": {},
     "output_type": "execute_result"
    }
   ],
   "source": [
    "o_ccs[2]['rho']"
   ]
  },
  {
   "cell_type": "markdown",
   "metadata": {},
   "source": [
    "# extract_sub_props\n",
    "\n"
   ]
  },
  {
   "cell_type": "code",
   "execution_count": 11,
   "metadata": {},
   "outputs": [
    {
     "name": "stdout",
     "output_type": "stream",
     "text": [
      "['Atom', 'q(A)', 'L(A)', 'K(A)', 'K_Scaled(A)', '|Mu_Intra(A)|']\n",
      "['Atom', 'Charge', 'X', 'Y', 'Z']\n",
      "['Atom', 'q(A)', 'L(A)', 'K(A)', 'K_Scaled(A)', '|Mu_Intra(A)|']\n",
      "['Atom', 'Mu_Intra_X(A)', 'Mu_Bond_X(A)', 'Mu_X(A)']\n",
      "['Atom', 'Mu_Intra_Y(A)', 'Mu_Bond_Y(A)', 'Mu_Y(A)']\n",
      "['Atom', 'Mu_Intra_Z(A)', 'Mu_Bond_Z(A)', 'Mu_Z(A)']\n",
      "['Atom', '|Mu_Intra(A)|', '|Mu_Bond(A)|', '|Mu(A)|']\n",
      "['Atom', 'Q_XX(A)', 'Q_XY(A)', 'Q_XZ(A)', 'Q_YY(A)', 'Q_YZ(A)', 'Q_ZZ(A)']\n",
      "['Atom', 'R-2(A)', 'R-1(A)', 'R0(A)', 'R+1(A)', 'R+2(A)']\n",
      "['Atom', 'Area(A)', 'Vol(A)', 'N(Vol(A))', 'N(Vol(A))/Vol(A)', '%N(Vol(A))']\n",
      "didnt find first\n"
     ]
    },
    {
     "data": {
      "text/plain": [
       "{'Group': {'q': [0.5701417182699997],\n",
       "  'K': [455.16423998141994],\n",
       "  'K_Scaled': [-456.90069639232996],\n",
       "  'Mu_Intra_X': [0.785635644731],\n",
       "  'Mu_Intra_Y': [-0.5157322052219999],\n",
       "  'Mu_Intra_Z': [-0.07011878188800007],\n",
       "  'Mu_Bond_X': [-1.7664287328238002],\n",
       "  'Mu_Bond_Y': [1.1778310755774999],\n",
       "  'Mu_Bond_Z': [1.5100112729350998],\n",
       "  'Mu_X': [-0.9807930880522],\n",
       "  'Mu_Y': [0.6620988703638001],\n",
       "  'Mu_Z': [1.4398924910238],\n",
       "  'Q_xx': [2.776188704779253],\n",
       "  'Q_xy': [1.556861915547782],\n",
       "  'Q_xz': [2.8256223793180855],\n",
       "  'Q_yy': [-0.8732973727444326],\n",
       "  'Q_yz': [-3.5093604596778576],\n",
       "  'Q_zz': [-1.9028913320348213],\n",
       "  'Vol': [499.60210335299996],\n",
       "  '|Mu_Intra|': [0.9424010384907786],\n",
       "  '|Mu_Bond|': [1.8637651089702034]},\n",
       " 'Atomic': {'P1': {'xyz': array([0., 0., 0.]),\n",
       "   'q': [3.194228312],\n",
       "   'K': [338.99681273],\n",
       "   'K_Scaled': [-340.29008917],\n",
       "   'Mu_Intra_X': [0.12854229982],\n",
       "   'Mu_Intra_Y': [-0.15466461987],\n",
       "   'Mu_Intra_Z': [-0.19334899678],\n",
       "   'Mu_Bond_X': [-0.30289461204],\n",
       "   'Mu_Bond_Y': [0.36621791865],\n",
       "   'Mu_Bond_Z': [0.60666943708],\n",
       "   'Mu_X': [-0.17435231222],\n",
       "   'Mu_Y': [0.21155329878],\n",
       "   'Mu_Z': [0.4133204403],\n",
       "   '|Mu_Intra|': [0.27897688442],\n",
       "   '|Mu_Bond|': [0.77065460216],\n",
       "   '|Mu|': [0.49597108118],\n",
       "   'Q_XX': [-0.22855797317],\n",
       "   'Q_XY': [-0.33742676501],\n",
       "   'Q_XZ': [-0.38413139895],\n",
       "   'Q_YY': [-0.098192902818],\n",
       "   'Q_YZ': [0.46934321577],\n",
       "   'Q_ZZ': [0.32675087599],\n",
       "   'R+2': [7.0063670059],\n",
       "   'R+1': [6.8107489037],\n",
       "   'Vol': [40.873441897],\n",
       "   'quadContrib': {'Q_xx': [-0.11427898658533353],\n",
       "    'Q_xy': [-0.168713382505],\n",
       "    'Q_xz': [-0.19206569947499996],\n",
       "    'Q_yy': [-0.04909645140933394],\n",
       "    'Q_yz': [0.234671607885],\n",
       "    'Q_zz': [0.16337543799466658]}},\n",
       "  'H2': {'xyz': array([-2.67729594,  0.        ,  0.        ]),\n",
       "   'q': [-0.5697929585],\n",
       "   'K': [0.82435244079],\n",
       "   'K_Scaled': [-0.82749735412],\n",
       "   'Mu_Intra_X': [-0.34951480612],\n",
       "   'Mu_Intra_Y': [-0.01050063317],\n",
       "   'Mu_Intra_Z': [-0.010211518056],\n",
       "   'Mu_Bond_X': [0.79236384138],\n",
       "   'Mu_Bond_Y': [-1.0507475756e-05],\n",
       "   'Mu_Bond_Z': [0.0028227318635],\n",
       "   'Mu_X': [0.44284903526],\n",
       "   'Mu_Y': [-0.010511140646],\n",
       "   'Mu_Z': [-0.0073887861925],\n",
       "   '|Mu_Intra|': [0.34982158037],\n",
       "   '|Mu_Bond|': [0.79236886931],\n",
       "   '|Mu|': [0.44303537813],\n",
       "   'Q_XX': [0.35452625671],\n",
       "   'Q_XY': [0.025597437902],\n",
       "   'Q_XZ': [0.040625511073],\n",
       "   'Q_YY': [-0.218741903],\n",
       "   'Q_YZ': [0.042798039669],\n",
       "   'Q_ZZ': [-0.1357843537],\n",
       "   'R+2': [3.3634775675],\n",
       "   'R+1': [2.069305159],\n",
       "   'Vol': [74.243088527],\n",
       "   'quadContrib': {'Q_xx': [-2.0354544042686182],\n",
       "    'Q_xy': [0.05496867283003344],\n",
       "    'Q_xz': [0.061321639332831794],\n",
       "    'Q_yy': [0.996987814809309],\n",
       "    'Q_yz': [0.0213990198345],\n",
       "    'Q_zz': [1.0384665894593088]}},\n",
       "  'H3': {'xyz': array([0.50254054, 2.62970886, 0.        ]),\n",
       "   'q': [-0.5698006596],\n",
       "   'K': [0.82435232671],\n",
       "   'K_Scaled': [-0.8274972396],\n",
       "   'Mu_Intra_X': [0.075913372806],\n",
       "   'Mu_Intra_Y': [0.34133478886],\n",
       "   'Mu_Intra_Z': [-0.010190753798],\n",
       "   'Mu_Bond_X': [-0.14870668236],\n",
       "   'Mu_Bond_Y': [-0.77829514985],\n",
       "   'Mu_Bond_Z': [0.0028183023938],\n",
       "   'Mu_X': [-0.072793309552],\n",
       "   'Mu_Y': [-0.43696036099],\n",
       "   'Mu_Z': [-0.0073724514042],\n",
       "   '|Mu_Intra|': [0.3498229977],\n",
       "   '|Mu_Bond|': [0.79237930342],\n",
       "   '|Mu|': [0.4430435374],\n",
       "   'Q_XX': [-0.18910775734],\n",
       "   'Q_XY': [0.12951967094],\n",
       "   'Q_XZ': [-0.049716697352],\n",
       "   'Q_YY': [0.32489901307],\n",
       "   'Q_YZ': [-0.031906633259],\n",
       "   'Q_ZZ': [-0.13579125573],\n",
       "   'R+2': [3.3634968824],\n",
       "   'R+1': [2.0693168266],\n",
       "   'Vol': [74.202444557],\n",
       "   'quadContrib': {'Q_xx': [0.9104234745559592],\n",
       "    'Q_xy': [-0.5080107403140385],\n",
       "    'Q_xz': [-0.0325402490124599],\n",
       "    'Q_yy': [-1.9489087221719659],\n",
       "    'Q_yz': [-0.056151389956990254],\n",
       "    'Q_zz': [1.038485247616007]}},\n",
       "  'O4': {'xyz': array([ 1.20826254, -1.46102097, -2.06548577]),\n",
       "   'q': [-1.5221819877],\n",
       "   'K': [75.46340803],\n",
       "   'K_Scaled': [-75.751301734],\n",
       "   'Mu_Intra_X': [0.37378540823],\n",
       "   'Mu_Intra_Y': [-0.45197908638],\n",
       "   'Mu_Intra_Z': [-0.64030584685],\n",
       "   'Mu_Bond_X': [-1.096881819],\n",
       "   'Mu_Bond_Y': [1.326335799],\n",
       "   'Mu_Bond_Z': [1.875534024],\n",
       "   'Mu_X': [-0.72309641073],\n",
       "   'Mu_Y': [0.87435671263],\n",
       "   'Mu_Z': [1.2352281771],\n",
       "   '|Mu_Intra|': [0.86832724444],\n",
       "   '|Mu_Bond|': [2.5455734622],\n",
       "   '|Mu|': [1.6772467707],\n",
       "   'Q_XX': [-0.17997880963],\n",
       "   'Q_XY': [-0.23738612328],\n",
       "   'Q_XZ': [-0.29999189763],\n",
       "   'Q_YY': [-0.089173516198],\n",
       "   'Q_YZ': [0.36245919523],\n",
       "   'Q_ZZ': [0.26915232583],\n",
       "   'R+2': [16.952986068],\n",
       "   'R+1': [10.382013549],\n",
       "   'Vol': [156.27446417],\n",
       "   'quadContrib': {'Q_xx': [1.4797495694757314],\n",
       "    'Q_xy': [2.2736350821815265],\n",
       "    'Q_xz': [3.229693155058035],\n",
       "    'Q_yy': [0.610824736806574],\n",
       "    'Q_yz': [-3.9054594606782436],\n",
       "    'Q_zz': [-2.090574306282306]}},\n",
       "  'C5': {'xyz': array([ 0.77645823, -0.93890154,  3.19260914]),\n",
       "   'q': [-0.6574798968],\n",
       "   'K': [38.079656443],\n",
       "   'K_Scaled': [-38.224930738],\n",
       "   'Mu_Intra_X': [0.23414120042],\n",
       "   'Mu_Intra_Y': [-0.28279906385],\n",
       "   'Mu_Intra_Z': [0.91527415071],\n",
       "   'Mu_Bond_X': [-0.2323698107],\n",
       "   'Mu_Bond_Y': [0.28100954692],\n",
       "   'Mu_Bond_Z': [-1.0004960705],\n",
       "   'Mu_X': [0.0017713897188],\n",
       "   'Mu_Y': [-0.0017895169312],\n",
       "   'Mu_Z': [-0.085221919764],\n",
       "   '|Mu_Intra|': [0.98616640746],\n",
       "   '|Mu_Bond|': [1.0648729884],\n",
       "   '|Mu|': [0.085259109781],\n",
       "   'Q_XX': [1.0128654041],\n",
       "   'Q_XY': [0.13664574189],\n",
       "   'Q_XZ': [-0.86363479221],\n",
       "   'Q_YY': [0.95939269727],\n",
       "   'Q_YZ': [1.0420346227],\n",
       "   'Q_ZZ': [-1.9722581014],\n",
       "   'R+2': [12.395529288],\n",
       "   'R+1': [7.4907427267],\n",
       "   'Vol': [88.365932549],\n",
       "   'quadContrib': {'Q_xx': [0.9265762648029403],\n",
       "    'Q_xy': [0.128168929838627],\n",
       "    'Q_xz': [-0.6892948040464764],\n",
       "    'Q_yy': [0.876189854377146],\n",
       "    'Q_yz': [0.8339275336913874],\n",
       "    'Q_zz': [-1.8027661191800854]}},\n",
       "  'H6': {'xyz': array([-0.21363543,  0.26027689,  4.54405434]),\n",
       "   'q': [0.03093460663],\n",
       "   'K': [0.60291634027],\n",
       "   'K_Scaled': [-0.60521647252],\n",
       "   'Mu_Intra_X': [0.06485075083],\n",
       "   'Mu_Intra_Y': [-0.078528369956],\n",
       "   'Mu_Intra_Z': [-0.089648830723],\n",
       "   'Mu_Bond_X': [-0.01113195354],\n",
       "   'Mu_Bond_Y': [0.013482891015],\n",
       "   'Mu_Bond_Z': [0.015489595109],\n",
       "   'Mu_X': [0.05371879729],\n",
       "   'Mu_Y': [-0.065045478941],\n",
       "   'Mu_Z': [-0.074159235614],\n",
       "   '|Mu_Intra|': [0.13568064571],\n",
       "   '|Mu_Bond|': [0.023358859055],\n",
       "   '|Mu|': [0.11232192902],\n",
       "   'Q_XX': [-0.070941873141],\n",
       "   'Q_XY': [-0.1829215112],\n",
       "   'Q_XZ': [-0.19525608708],\n",
       "   'Q_YY': [-0.00038394665074],\n",
       "   'Q_YZ': [0.23651001864],\n",
       "   'Q_ZZ': [0.071325819792],\n",
       "   'R+2': [1.5753253407],\n",
       "   'R+1': [1.0719020793],\n",
       "   'Vol': [47.417750073],\n",
       "   'quadContrib': {'Q_xx': [0.045617019297401584],\n",
       "    'Q_xy': [-0.04355751360582248],\n",
       "    'Q_xz': [0.3280825810302316],\n",
       "    'Q_yy': [0.062167542170187606],\n",
       "    'Q_yz': [-0.3971209277591642],\n",
       "    'Q_zz': [-0.1077845614675893]}},\n",
       "  'H7': {'xyz': array([ 0.22503615, -2.9006937 ,  3.47189932]),\n",
       "   'q': [0.047212683],\n",
       "   'K': [0.59854923047],\n",
       "   'K_Scaled': [-0.60083270215],\n",
       "   'Mu_Intra_X': [0.037576397055],\n",
       "   'Mu_Intra_Y': [0.12432538534],\n",
       "   'Mu_Intra_Z': [-0.025964088522],\n",
       "   'Mu_Bond_X': [-0.0092836762118],\n",
       "   'Mu_Bond_Y': [-0.033679007483],\n",
       "   'Mu_Bond_Z': [0.0050047471388],\n",
       "   'Mu_X': [0.028292720843],\n",
       "   'Mu_Y': [0.090646377857],\n",
       "   'Mu_Z': [-0.020959341383],\n",
       "   '|Mu_Intra|': [0.13244969214],\n",
       "   '|Mu_Bond|': [0.035291779254],\n",
       "   '|Mu|': [0.097244731799],\n",
       "   'Q_XX': [-0.17138636969],\n",
       "   'Q_XY': [0.15820499944],\n",
       "   'Q_XZ': [-0.011759077689],\n",
       "   'Q_YY': [0.35746066353],\n",
       "   'Q_YZ': [-0.073041475037],\n",
       "   'Q_ZZ': [-0.18607429384],\n",
       "   'R+2': [1.5208451768],\n",
       "   'R+1': [1.0448192336],\n",
       "   'Vol': [46.221209381],\n",
       "   'quadContrib': {'Q_xx': [-0.09879278351152343],\n",
       "    'Q_xy': [-0.08865526133851868],\n",
       "    'Q_xz': [0.23637947987248067],\n",
       "    'Q_yy': [-0.34934039324275856],\n",
       "    'Q_yz': [0.010705415157653088],\n",
       "    'Q_zz': [0.4481331767542819]}},\n",
       "  'H8': {'xyz': array([ 2.8071995 , -0.7677738 ,  3.47103194]),\n",
       "   'q': [0.04722866074],\n",
       "   'K': [0.59854488097],\n",
       "   'K_Scaled': [-0.60082833606],\n",
       "   'Mu_Intra_X': [-0.12917378443],\n",
       "   'Mu_Intra_Y': [-0.013421239366],\n",
       "   'Mu_Intra_Z': [-0.025934415925],\n",
       "   'Mu_Bond_X': [0.034839821028],\n",
       "   'Mu_Bond_Y': [0.0027590773255],\n",
       "   'Mu_Bond_Z': [0.0049912377135],\n",
       "   'Mu_X': [-0.094333963402],\n",
       "   'Mu_Y': [-0.010662162041],\n",
       "   'Mu_Z': [-0.020943178211],\n",
       "   '|Mu_Intra|': [0.1324333424],\n",
       "   '|Mu_Bond|': [0.03530351386],\n",
       "   '|Mu|': [0.097217257029],\n",
       "   'Q_XX': [0.39732071228],\n",
       "   'Q_XY': [0.048864128991],\n",
       "   'Q_XZ': [0.073672981582],\n",
       "   'Q_YY': [-0.21124456051],\n",
       "   'Q_YZ': [-0.0022565973141],\n",
       "   'Q_ZZ': [-0.18607615178],\n",
       "   'R+2': [1.520783176],\n",
       "   'R+1': [1.0447910978],\n",
       "   'Vol': [46.246860726],\n",
       "   'quadContrib': {'Q_xx': [-0.3731058532559224],\n",
       "    'Q_xy': [-0.03600519870899173],\n",
       "    'Q_xz': [-0.05463208410872586],\n",
       "    'Q_yy': [-0.07513393927428191],\n",
       "    'Q_yz': [-0.22993323801749965],\n",
       "    'Q_zz': [0.4482397925302043]}}},\n",
       " 'BCP': {'P1-H2': {'xyz': array([-1.28673557e+00, -1.84401138e-05,  4.95375845e-03]),\n",
       "   'rho': [0.17523377789],\n",
       "   'lambda1': [-0.30195221336],\n",
       "   'lambda2': [-0.28264812538],\n",
       "   'lambda3': [0.44212073332],\n",
       "   'DelSqRho': [-0.14247960542],\n",
       "   'Ellipticity': [0.068297243967],\n",
       "   'V': [-0.33081070884],\n",
       "   'G': [0.14759540374],\n",
       "   'H': [-0.18321530510000003],\n",
       "   'DI(R,G)': [1.0119629416131],\n",
       "   'r(BCP-1)': [1.2867451040561684],\n",
       "   'r(BCP-2)': [1.390569198567163]},\n",
       "  'P1-H3': {'xyz': array([0.241571  , 1.26385682, 0.00494592]),\n",
       "   'rho': [0.17523148631],\n",
       "   'lambda1': [-0.30194810012],\n",
       "   'lambda2': [-0.28264362027],\n",
       "   'lambda3': [0.44213586293],\n",
       "   'DelSqRho': [-0.14245585747],\n",
       "   'Ellipticity': [0.068299719025],\n",
       "   'V': [-0.33080503772],\n",
       "   'G': [0.14759553668],\n",
       "   'H': [-0.18320950103999997],\n",
       "   'DI(R,G)': [1.0119629416131],\n",
       "   'r(BCP-1)': [1.3905687163687912]}},\n",
       " 'VSCC': {'O4': {3: {'xyz': array([ 1.06447563, -1.287374  , -2.68603121]),\n",
       "    'distFromNuc': 0.66023069978,\n",
       "    'rho': 0.84541187956,\n",
       "    'delsqrho': -3.2813713258}}}}"
      ]
     },
     "execution_count": 11,
     "metadata": {},
     "output_type": "execute_result"
    }
   ],
   "source": [
    "pohch3_props = qt.extract_sub_props(data=data, subAtoms=[1,3,4,5,6,7,8],sumFileNoExt='SubH_POCH3H_wb97xd_aug-cc-pvtz_reor',bcpId=[[1,2],[1,3]],lapRhoCpAtoms=[4])\n"
   ]
  },
  {
   "cell_type": "code",
   "execution_count": 8,
   "metadata": {},
   "outputs": [
    {
     "data": {
      "text/plain": [
       "list"
      ]
     },
     "execution_count": 8,
     "metadata": {},
     "output_type": "execute_result"
    }
   ],
   "source": [
    "type(data)"
   ]
  },
  {
   "cell_type": "code",
   "execution_count": null,
   "metadata": {},
   "outputs": [],
   "source": []
  }
 ],
 "metadata": {
  "kernelspec": {
   "display_name": "my-subprop-env",
   "language": "python",
   "name": "python3"
  },
  "language_info": {
   "codemirror_mode": {
    "name": "ipython",
    "version": 3
   },
   "file_extension": ".py",
   "mimetype": "text/x-python",
   "name": "python",
   "nbconvert_exporter": "python",
   "pygments_lexer": "ipython3",
   "version": "3.11.4"
  },
  "orig_nbformat": 4
 },
 "nbformat": 4,
 "nbformat_minor": 2
}
