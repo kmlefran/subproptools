{
 "cells": [
  {
   "cell_type": "code",
   "execution_count": 1,
   "metadata": {},
   "outputs": [],
   "source": [
    "import subproptools\n",
    "from subproptools import qtaimExtract as qt\n",
    "import pandas as pd\n",
    "import numpy as np\n",
    "import math\n",
    "\n"
   ]
  },
  {
   "cell_type": "markdown",
   "metadata": {},
   "source": [
    "# Accessing documentation\n",
    "\n",
    "\n",
    "All user facing functions are thoroughly documented, doc strings can be accessed as below"
   ]
  },
  {
   "cell_type": "code",
   "execution_count": 2,
   "metadata": {},
   "outputs": [
    {
     "name": "stdout",
     "output_type": "stream",
     "text": [
      "Help on function extract_sub_props in module subproptools.qtaimExtract:\n",
      "\n",
      "extract_sub_props(data: list[str], subAtoms: list[int], sumFileNoExt: str, groupProps=True, bcpId=[[1, 2]], lapRhoCpAtoms=[])\n",
      "    returns a dictionary of all group properties - bcp, group, atomic, and vscc\n",
      "    Args:\n",
      "        data: list[str] - lines of a .sum file\n",
      "        subAtoms - indices of atoms in the molecule comprising group - starts at 1\n",
      "        groupProps - boolean - do you want to compute group properties\n",
      "        bcpId - list of 2 length lists. Pass empty list if no bcp properties wanted. 2 length lists are indices of atoms that you want BCPs for\n",
      "        lapRhoCpAtoms = list of atom indices that you want to find laprhoCPs for. Defaults to empty\n",
      "    vol surface is 0.001 au isodensity\n",
      "    \n",
      "    Returns:\n",
      "        nested dictionaries\n",
      "        {'Group': dictionary of group properties,\n",
      "        'Atomic': \n",
      "            {'C1':dictionary of properties for C1, \n",
      "             'H2':dictionary of properties for H2,...},\n",
      "        'BCP':\n",
      "            {'C1-H2':dictionary of properties for C1-H2 BCP,\n",
      "            repeat for all requested BCPs in bcpId},\n",
      "        'VSCC':{'C1':\n",
      "            {1:dictionary of VSCC properties for 1st VSCC on C1,\n",
      "            2:dictionary of VSCC properties for 2nd VSCC on C1,\n",
      "            (repeat for all VSCC)\n",
      "            }\n",
      "            {'F2':same structure as dicitionary for C1}\n",
      "            },\n",
      "            (repeat for all requested atoms in lapRhoCpAtoms)\n",
      "            }\n",
      "\n"
     ]
    }
   ],
   "source": [
    "help(qt.extract_sub_props)"
   ]
  },
  {
   "cell_type": "markdown",
   "metadata": {},
   "source": [
    "# User facing functions\n",
    "\n",
    "The following are the user facing functions that you are intended to call. Examples of each of these will be provided.\n",
    "\n",
    "* extract_sub_props - gets substituent properties for a batch of sum files found defined by input file\n",
    "* get_atomic_props - gets atomic properties for all atoms in file\n",
    "* get_bcp_properties - gets BCP properties for selected bonds\n",
    "* get_cc_props - gets VSCC properties\n",
    "* get_sub_di - gets the delocalization index between one substituent and the remainder of the molecule\n",
    "* get_sub_props - gets substituent properties for one substituent and one sum file\n",
    "* get_xyz - gets atom list and xyz coordinates in sum file\n",
    "\n",
    "# get_atomic_props\n",
    "\n",
    "The simplest function, will extract a variety of properties for a sum file. Note that the .sum file is passed as the variable 'data' which includes a list of the lines of the file. I don't anticipate this being called often, but it has functionality that may be important in some cases, if you're looking for specific atoms in a small study.\n",
    "\n",
    "This returns a dictionary of one element lists. These are lists as extract_sub_prop will later take these types of dictionaries to create data frames, which require lists.\n",
    "\n",
    "Usage as below\n",
    "\n"
   ]
  },
  {
   "cell_type": "code",
   "execution_count": 3,
   "metadata": {},
   "outputs": [
    {
     "data": {
      "text/plain": [
       "['P1', 'H2', 'H3', 'O4', 'C5', 'H6', 'H7', 'H8']"
      ]
     },
     "execution_count": 3,
     "metadata": {},
     "output_type": "execute_result"
    }
   ],
   "source": [
    "#create the data object\n",
    "sumFile = open('SubH_POCH3H_wb97xd_aug-cc-pvtz_reor.sum',\"r\") #open file, read lines, close file\n",
    "data = sumFile.readlines()\n",
    "sumFile.close()\n",
    "atomic_props = qt.get_atomic_props(data)\n",
    "#The keys of the outer dictionary are the atoms\n",
    "list(atomic_props.keys())"
   ]
  },
  {
   "cell_type": "code",
   "execution_count": 4,
   "metadata": {},
   "outputs": [
    {
     "data": {
      "text/plain": [
       "['xyz',\n",
       " 'q',\n",
       " 'K',\n",
       " 'K_Scaled',\n",
       " 'Mu_Intra_X',\n",
       " 'Mu_Intra_Y',\n",
       " 'Mu_Intra_Z',\n",
       " 'Mu_Bond_X',\n",
       " 'Mu_Bond_Y',\n",
       " 'Mu_Bond_Z',\n",
       " 'Mu_X',\n",
       " 'Mu_Y',\n",
       " 'Mu_Z',\n",
       " '|Mu_Intra|',\n",
       " '|Mu_Bond|',\n",
       " '|Mu|',\n",
       " 'Q_XX',\n",
       " 'Q_XY',\n",
       " 'Q_XZ',\n",
       " 'Q_YY',\n",
       " 'Q_YZ',\n",
       " 'Q_ZZ',\n",
       " 'R+2',\n",
       " 'R+1',\n",
       " 'Vol',\n",
       " 'quadContrib']"
      ]
     },
     "execution_count": 4,
     "metadata": {},
     "output_type": "execute_result"
    }
   ],
   "source": [
    "# Each of the above keys is itself a dictionary, each with the following keys. Note Mu_Intra corresponds to mu^p in KLG's papers, and Mu_Bond corresponds to mu^c\n",
    "list(atomic_props['P1'].keys())"
   ]
  },
  {
   "cell_type": "code",
   "execution_count": 5,
   "metadata": {},
   "outputs": [
    {
     "data": {
      "text/plain": [
       "['Q_xx', 'Q_xy', 'Q_xz', 'Q_yy', 'Q_yz', 'Q_zz']"
      ]
     },
     "execution_count": 5,
     "metadata": {},
     "output_type": "execute_result"
    }
   ],
   "source": [
    "#quad contrib specifically is also a dictionary. This contains the atomic contribution to the molecular quadrupole moment, as opposed to Q_XX which is the atomic quadrupole\n",
    "list(atomic_props['P1']['quadContrib'].keys())"
   ]
  },
  {
   "cell_type": "code",
   "execution_count": 6,
   "metadata": {},
   "outputs": [
    {
     "data": {
      "text/plain": [
       "0.44284903526"
      ]
     },
     "execution_count": 6,
     "metadata": {},
     "output_type": "execute_result"
    }
   ],
   "source": [
    "# Example - access x-component of dipole for atom H2, without the [0] at the end, this would be a list, as described above:\n",
    "atomic_props['H2']['Mu_X'][0]"
   ]
  },
  {
   "cell_type": "markdown",
   "metadata": {},
   "source": [
    "# get_bcp_properties\n",
    "\n",
    "get_bcp_properties takes the data object created earlier and a list of labels of the atoms for which the bcp should be found. See below. It returns a dictionary, see below for keys.\n",
    "\n",
    "This is also a dictionary of single element lists"
   ]
  },
  {
   "cell_type": "code",
   "execution_count": 7,
   "metadata": {},
   "outputs": [
    {
     "data": {
      "text/plain": [
       "{'xyz': array([-1.28673557e+00, -1.84401138e-05,  4.95375845e-03]),\n",
       " 'rho': [0.17523377789],\n",
       " 'lambda1': [-0.30195221336],\n",
       " 'lambda2': [-0.28264812538],\n",
       " 'lambda3': [0.44212073332],\n",
       " 'DelSqRho': [-0.14247960542],\n",
       " 'Ellipticity': [0.068297243967],\n",
       " 'V': [-0.33081070884],\n",
       " 'G': [0.14759540374],\n",
       " 'H': [-0.18321530510000003]}"
      ]
     },
     "execution_count": 7,
     "metadata": {},
     "output_type": "execute_result"
    }
   ],
   "source": [
    "qt.get_bcp_properties(data,['P1','H2'])"
   ]
  },
  {
   "cell_type": "markdown",
   "metadata": {},
   "source": [
    "# get_cc_props and identify_vscc\n",
    "\n",
    "get_cc_props Takes the file name and the atom label you want to find ccs for and returns a dicionary, each key in the outermost being a numerical label for the cc, and the subdictionary contains the properties for the cc\n",
    "\n",
    "You can narrow this down further to valence shell charge concentrations using identify_vscc, which also requires the atomic propert dictionary"
   ]
  },
  {
   "cell_type": "code",
   "execution_count": 8,
   "metadata": {},
   "outputs": [],
   "source": [
    "o_ccs = qt.get_cc_props('SubH_POCH3H_wb97xd_aug-cc-pvtz_reor', 'O4')\n",
    "o_vsccs = qt.identify_vscc(o_ccs,atomic_props,'O4')\n"
   ]
  },
  {
   "cell_type": "code",
   "execution_count": 9,
   "metadata": {},
   "outputs": [
    {
     "data": {
      "text/plain": [
       "0.30803830854"
      ]
     },
     "execution_count": 9,
     "metadata": {},
     "output_type": "execute_result"
    }
   ],
   "source": [
    "o_ccs[2]['rho']"
   ]
  },
  {
   "cell_type": "markdown",
   "metadata": {},
   "source": [
    "# extract_sub_props\n",
    "\n"
   ]
  },
  {
   "cell_type": "code",
   "execution_count": 10,
   "metadata": {},
   "outputs": [
    {
     "ename": "KeyError",
     "evalue": "4",
     "output_type": "error",
     "traceback": [
      "\u001b[0;31m---------------------------------------------------------------------------\u001b[0m",
      "\u001b[0;31mKeyError\u001b[0m                                  Traceback (most recent call last)",
      "Cell \u001b[0;32mIn[10], line 1\u001b[0m\n\u001b[0;32m----> 1\u001b[0m pohch3_props \u001b[39m=\u001b[39m qt\u001b[39m.\u001b[39mextract_sub_props(data\u001b[39m=\u001b[39mdata, subAtoms\u001b[39m=\u001b[39m[\u001b[39m1\u001b[39m,\u001b[39m3\u001b[39m,\u001b[39m4\u001b[39m,\u001b[39m5\u001b[39m,\u001b[39m6\u001b[39m,\u001b[39m7\u001b[39m,\u001b[39m8\u001b[39m],sumFileNoExt\u001b[39m=\u001b[39m\u001b[39m'\u001b[39m\u001b[39mSubH_POCH3H_wb97xd_aug-cc-pvtz_reor\u001b[39m\u001b[39m'\u001b[39m,bcpId\u001b[39m=\u001b[39m[[\u001b[39m1\u001b[39m,\u001b[39m2\u001b[39m],[\u001b[39m1\u001b[39m,\u001b[39m3\u001b[39m]],lapRhoCpAtoms\u001b[39m=\u001b[39m[\u001b[39m4\u001b[39m])\n",
      "File \u001b[0;32m~/anaconda3/envs/my-rot-env/lib/python3.11/site-packages/subproptools/qtaimExtract.py:651\u001b[0m, in \u001b[0;36mextract_sub_props\u001b[0;34m(data, subAtoms, sumFileNoExt, groupProps, bcpId, lapRhoCpAtoms)\u001b[0m\n\u001b[1;32m    649\u001b[0m     \u001b[39mfor\u001b[39;00m atom \u001b[39min\u001b[39;00m lapRhoCpAtoms:\u001b[39m#for each atom requested, get lapRhoCps\u001b[39;00m\n\u001b[1;32m    650\u001b[0m         allCC \u001b[39m=\u001b[39m get_cc_props(sumFileNoExt,atomList[atom\u001b[39m-\u001b[39m\u001b[39m1\u001b[39m])\n\u001b[0;32m--> 651\u001b[0m         vsccProps\u001b[39m.\u001b[39mupdate({atomList[atom\u001b[39m-\u001b[39m\u001b[39m1\u001b[39m]: identify_vscc(allCC,atomicProps,atom)})\n\u001b[1;32m    652\u001b[0m \u001b[39melse\u001b[39;00m:\n\u001b[1;32m    653\u001b[0m     vsccProps\u001b[39m=\u001b[39m{\u001b[39m\"\u001b[39m\u001b[39mVSCC Props not requested\u001b[39m\u001b[39m\"\u001b[39m}\n",
      "File \u001b[0;32m~/anaconda3/envs/my-rot-env/lib/python3.11/site-packages/subproptools/qtaimExtract.py:327\u001b[0m, in \u001b[0;36midentify_vscc\u001b[0;34m(multiccDict, atomDict, originAtom, thresh)\u001b[0m\n\u001b[1;32m    322\u001b[0m ccXYZ \u001b[39m=\u001b[39m multiccDict[cc][\u001b[39m'\u001b[39m\u001b[39mxyz\u001b[39m\u001b[39m'\u001b[39m] \u001b[39m#get the xyz coords of the cc\u001b[39;00m\n\u001b[1;32m    323\u001b[0m \u001b[39m# nucPair = _find_closest_nuclei(ccXYZ,atomDict) #find the two closest atoms to the cc\u001b[39;00m\n\u001b[1;32m    324\u001b[0m \u001b[39m#if it is a bonded cc, it will be the nuclei to which it is bonded\u001b[39;00m\n\u001b[1;32m    325\u001b[0m \u001b[39m#check if the cc is on the bond between those two nuclei\u001b[39;00m\n\u001b[1;32m    326\u001b[0m \u001b[39m# isBonded = _is_on_line(atomDict[nucPair[0]]['xyz'],atomDict[nucPair[1]]['xyz'],ccXYZ)\u001b[39;00m\n\u001b[0;32m--> 327\u001b[0m isBonded \u001b[39m=\u001b[39m _is_bonded_cc(ccXYZ,atomDict,originAtom)\n\u001b[1;32m    328\u001b[0m \u001b[39mif\u001b[39;00m \u001b[39mnot\u001b[39;00m isBonded: \u001b[39m#if it is not on the line, it is potentially a VSCC, store it, and its distance\u001b[39;00m\n\u001b[1;32m    329\u001b[0m     nucDistList\u001b[39m.\u001b[39mappend(multiccDict[cc][\u001b[39m'\u001b[39m\u001b[39mdistFromNuc\u001b[39m\u001b[39m'\u001b[39m])\n",
      "File \u001b[0;32m~/anaconda3/envs/my-rot-env/lib/python3.11/site-packages/subproptools/qtaimExtract.py:296\u001b[0m, in \u001b[0;36m_is_bonded_cc\u001b[0;34m(ccXYZ, atomDict, originAtom)\u001b[0m\n\u001b[1;32m    294\u001b[0m \u001b[39mfor\u001b[39;00m a_1 \u001b[39min\u001b[39;00m atom_labels:\n\u001b[1;32m    295\u001b[0m     \u001b[39mif\u001b[39;00m a_1 \u001b[39m!=\u001b[39m originAtom:\n\u001b[0;32m--> 296\u001b[0m         \u001b[39mif\u001b[39;00m _is_on_line(atomDict[a_1][\u001b[39m'\u001b[39m\u001b[39mxyz\u001b[39m\u001b[39m'\u001b[39m], atomDict[originAtom][\u001b[39m'\u001b[39m\u001b[39mxyz\u001b[39m\u001b[39m'\u001b[39m],ccXYZ):\n\u001b[1;32m    297\u001b[0m             on_a_line \u001b[39m=\u001b[39m \u001b[39mTrue\u001b[39;00m\n\u001b[1;32m    298\u001b[0m             \u001b[39mbreak\u001b[39;00m\n",
      "\u001b[0;31mKeyError\u001b[0m: 4"
     ]
    }
   ],
   "source": [
    "pohch3_props = qt.extract_sub_props(data=data, subAtoms=[1,3,4,5,6,7,8],sumFileNoExt='SubH_POCH3H_wb97xd_aug-cc-pvtz_reor',bcpId=[[1,2],[1,3]],lapRhoCpAtoms=[4])"
   ]
  },
  {
   "cell_type": "code",
   "execution_count": null,
   "metadata": {},
   "outputs": [
    {
     "data": {
      "text/plain": [
       "list"
      ]
     },
     "execution_count": 8,
     "metadata": {},
     "output_type": "execute_result"
    }
   ],
   "source": [
    "type(data)"
   ]
  },
  {
   "cell_type": "code",
   "execution_count": null,
   "metadata": {},
   "outputs": [],
   "source": []
  }
 ],
 "metadata": {
  "kernelspec": {
   "display_name": "my-subprop-env",
   "language": "python",
   "name": "python3"
  },
  "language_info": {
   "codemirror_mode": {
    "name": "ipython",
    "version": 3
   },
   "file_extension": ".py",
   "mimetype": "text/x-python",
   "name": "python",
   "nbconvert_exporter": "python",
   "pygments_lexer": "ipython3",
   "version": "3.11.4"
  },
  "orig_nbformat": 4
 },
 "nbformat": 4,
 "nbformat_minor": 2
}
