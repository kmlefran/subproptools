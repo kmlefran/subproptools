{
 "cells": [
  {
   "cell_type": "code",
   "execution_count": null,
   "metadata": {},
   "outputs": [],
   "source": [
    "import sys\n",
    "sys.path.append('/Users/chemlab/Google Drive/My Drive/Data/GoodSubstrateFiles')\n",
    "sys.path.append(\"/Users/chemlab/Documents/SubstituentCoding/QTAIM Reorientation Workspace/scripts\")\n",
    "sys.path.append(sys.path[0].replace('docs/Tutorial Notebooks',''))\n",
    "from subproptools import qtaimExtract as qt\n",
    "from subproptools import subreor as sr\n",
    "import pandas as pd\n",
    "import numpy as np\n",
    "import math"
   ]
  }
 ],
 "metadata": {
  "language_info": {
   "name": "python"
  },
  "orig_nbformat": 4
 },
 "nbformat": 4,
 "nbformat_minor": 2
}
