{
 "cells": [
  {
   "cell_type": "code",
   "execution_count": 1,
   "metadata": {},
   "outputs": [],
   "source": [
    "import sys\n",
    "sys.path.append(sys.path[0].replace('/Development Notebooks',''))\n",
    "from subproptools import qtaimExtract as qt\n",
    "from subproptools import subreor as sr\n",
    "import pandas as pd"
   ]
  },
  {
   "cell_type": "code",
   "execution_count": 2,
   "metadata": {},
   "outputs": [],
   "source": [
    "sumFile = open('SubC6H5_CF2H-ReorPosY-B3LYP-def2-TZVPPD-Field'+\".sum\",\"r\")\n",
    "data = sumFile.readlines()\n",
    "sumFile.close()\n",
    "atomDict = qt.get_atomic_props(data)\n",
    "molecule_xyz = qt.get_xyz('SubC6H5_CF2H-ReorPosY-B3LYP-def2-TZVPPD-Field')"
   ]
  },
  {
   "cell_type": "code",
   "execution_count": 3,
   "metadata": {},
   "outputs": [],
   "source": [
    "negXAtomLabel = molecule_xyz['Atoms'][2-1]\n",
    "attachedAtom = molecule_xyz['Atoms'][1-1]"
   ]
  },
  {
   "cell_type": "code",
   "execution_count": 4,
   "metadata": {},
   "outputs": [
    {
     "data": {
      "text/plain": [
       "('C2', 'C1')"
      ]
     },
     "execution_count": 4,
     "metadata": {},
     "output_type": "execute_result"
    }
   ],
   "source": [
    "negXAtomLabel, attachedAtom"
   ]
  },
  {
   "cell_type": "code",
   "execution_count": 5,
   "metadata": {},
   "outputs": [],
   "source": [
    "molecule_orig = sr._set_origin(molecule_xyz['xyz'],1)\n",
    "molecule_xaxis = sr._set_xaxis(molecule_orig,2)"
   ]
  },
  {
   "cell_type": "code",
   "execution_count": 6,
   "metadata": {},
   "outputs": [
    {
     "data": {
      "text/plain": [
       "array([ 0.00000000e+00,  1.23354044e+00, -2.09153837e-09])"
      ]
     },
     "execution_count": 6,
     "metadata": {},
     "output_type": "execute_result"
    }
   ],
   "source": [
    "sr._get_posy_point('SubC6H5_CF2H-ReorPosY-B3LYP-def2-TZVPPD-Field',atomDict,attachedAtom,negXAtomLabel)"
   ]
  },
  {
   "cell_type": "code",
   "execution_count": 7,
   "metadata": {},
   "outputs": [],
   "source": [
    "ccProps = qt.get_cc_props('SubC6H5_CF2H-ReorPosY-B3LYP-def2-TZVPPD-Field',attachedAtom)"
   ]
  },
  {
   "cell_type": "code",
   "execution_count": 8,
   "metadata": {},
   "outputs": [
    {
     "data": {
      "text/plain": [
       "{}"
      ]
     },
     "execution_count": 8,
     "metadata": {},
     "output_type": "execute_result"
    }
   ],
   "source": [
    "ccProps\n",
    "vscc = qt.identify_vscc(ccProps,atomDict)\n",
    "vscc"
   ]
  },
  {
   "cell_type": "code",
   "execution_count": 9,
   "metadata": {},
   "outputs": [
    {
     "data": {
      "text/plain": [
       "{'H3-C1': {'xyz': array([ 0.00000000e+00,  1.23354044e+00, -2.09153837e-09]),\n",
       "  'rho': [0.30567090275],\n",
       "  'lambda1': [-0.90326620272],\n",
       "  'lambda2': [-0.88436259527],\n",
       "  'lambda3': [0.57266150711],\n",
       "  'DelSqRho': [-1.2149672909],\n",
       "  'Ellipticity': [0.021375403662],\n",
       "  'V': [-0.36243826554],\n",
       "  'G': [0.029348221411],\n",
       "  'H': [-0.333090044129]},\n",
       " 'C1-F5': {'xyz': array([ 0.        , -0.43825193, -0.70827983]),\n",
       "  'rho': [0.25740255427],\n",
       "  'lambda1': [-0.58057785913],\n",
       "  'lambda2': [-0.47504570059],\n",
       "  'lambda3': [0.655741802],\n",
       "  'DelSqRho': [-0.39988175772],\n",
       "  'Ellipticity': [0.22215159177],\n",
       "  'V': [-0.67142709864],\n",
       "  'G': [0.2857283296],\n",
       "  'H': [-0.38569876904000006]},\n",
       " 'F4-C1': {'xyz': array([ 0.        , -0.43825189,  0.70828105]),\n",
       "  'rho': [0.25740223501],\n",
       "  'lambda1': [-0.58057656905],\n",
       "  'lambda2': [-0.47504474993],\n",
       "  'lambda3': [0.65573785691],\n",
       "  'DelSqRho': [-0.39988346207],\n",
       "  'Ellipticity': [0.22215132181],\n",
       "  'V': [-0.67142490593],\n",
       "  'G': [0.28572702021],\n",
       "  'H': [-0.38569788572]}}"
      ]
     },
     "execution_count": 9,
     "metadata": {},
     "output_type": "execute_result"
    }
   ],
   "source": [
    "sr._find_bcp_match(data,atomDict[attachedAtom]['xyz'],negXAtomLabel,attachedAtom)"
   ]
  },
  {
   "cell_type": "code",
   "execution_count": 10,
   "metadata": {},
   "outputs": [
    {
     "data": {
      "text/plain": [
       "[['H3', 'C1'], ['F4', 'C1'], ['C1', 'F5']]"
      ]
     },
     "execution_count": 10,
     "metadata": {},
     "output_type": "execute_result"
    }
   ],
   "source": [
    "qt._find_connected(data,negXAtomLabel,attachedAtom)"
   ]
  },
  {
   "cell_type": "code",
   "execution_count": 11,
   "metadata": {},
   "outputs": [
    {
     "data": {
      "text/plain": [
       "False"
      ]
     },
     "execution_count": 11,
     "metadata": {},
     "output_type": "execute_result"
    }
   ],
   "source": [
    "'C2' in ['C1', 'C21']"
   ]
  },
  {
   "cell_type": "code",
   "execution_count": null,
   "metadata": {},
   "outputs": [],
   "source": []
  }
 ],
 "metadata": {
  "kernelspec": {
   "display_name": "my-rot-env",
   "language": "python",
   "name": "python3"
  },
  "language_info": {
   "codemirror_mode": {
    "name": "ipython",
    "version": 3
   },
   "file_extension": ".py",
   "mimetype": "text/x-python",
   "name": "python",
   "nbconvert_exporter": "python",
   "pygments_lexer": "ipython3",
   "version": "3.11.4"
  },
  "orig_nbformat": 4
 },
 "nbformat": 4,
 "nbformat_minor": 2
}
