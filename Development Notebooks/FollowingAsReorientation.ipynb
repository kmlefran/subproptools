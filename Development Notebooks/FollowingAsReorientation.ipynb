{
 "cells": [
  {
   "cell_type": "code",
   "execution_count": 1,
   "metadata": {},
   "outputs": [],
   "source": [
    "import pandas as pd\n",
    "import numpy as np\n",
    "import sys\n",
    "sys.path.append(sys.path[0].replace('/Development Notebooks',''))\n",
    "from subproptools import qtaimExtract as qt\n",
    "from subproptools import subreor as sr\n",
    "\n",
    "#the previous code used a distance check, assuming that the two closest nuclei were the ones the CC\n",
    "#was bonded too\n",
    "#the problem - with the longer As-C bond, and the CC being so close to As, the CC found that an H,\n",
    "#not the C was closer to the CC.\n",
    "#Fixed by instead looping over all atoms to find if it is on the line connecting any atoms"
   ]
  },
  {
   "cell_type": "code",
   "execution_count": 2,
   "metadata": {},
   "outputs": [],
   "source": [
    "negXAtom = 2\n",
    "originAtom = 1\n",
    "sumFileNoExt = 'SubH_AsO-C6H5-2_wb97xd_aug-cc-pvtz'\n",
    "sumFile = open('SubH_AsO-C6H5-2_wb97xd_aug-cc-pvtz'+\".sum\",\"r\")\n",
    "data = sumFile.readlines()\n",
    "sumFile.close()"
   ]
  },
  {
   "cell_type": "code",
   "execution_count": 3,
   "metadata": {},
   "outputs": [],
   "source": [
    "atomDict = qt.get_atomic_props(data)"
   ]
  },
  {
   "cell_type": "code",
   "execution_count": 4,
   "metadata": {},
   "outputs": [],
   "source": [
    "molecule_xyz = qt.get_xyz(sumFileNoExt)"
   ]
  },
  {
   "cell_type": "code",
   "execution_count": 5,
   "metadata": {},
   "outputs": [],
   "source": [
    "negXAtomLabel = molecule_xyz['Atoms'][negXAtom-1]\n",
    "attachedAtom = molecule_xyz['Atoms'][originAtom-1]"
   ]
  },
  {
   "cell_type": "code",
   "execution_count": 6,
   "metadata": {},
   "outputs": [],
   "source": [
    "molecule_orig = sr._set_origin(molecule_xyz['xyz'],originAtom)\n",
    "molecule_xaxis = sr._set_xaxis(molecule_orig,negXAtom)"
   ]
  },
  {
   "cell_type": "code",
   "execution_count": 9,
   "metadata": {},
   "outputs": [],
   "source": [
    "#finding posypoint - from _get_posy_point\n",
    "ccProps = qt.get_cc_props(sumFileNoExt,attachedAtom)\n",
    "len(ccProps)\n",
    "vscc = qt.identify_vscc(ccProps,atomDict,attachedAtom)"
   ]
  },
  {
   "cell_type": "code",
   "execution_count": 10,
   "metadata": {},
   "outputs": [
    {
     "data": {
      "text/plain": [
       "{}"
      ]
     },
     "execution_count": 10,
     "metadata": {},
     "output_type": "execute_result"
    }
   ],
   "source": [
    "vscc # here is the problem, CC 4 and 5 should not be found as VSCC\n",
    "#fixed"
   ]
  },
  {
   "cell_type": "code",
   "execution_count": null,
   "metadata": {},
   "outputs": [],
   "source": [
    "# in identify_vscc\n",
    "nucDistList = []\n",
    "potentialccList = []\n",
    "# we'll look specifically at 4 and 5\n",
    "cc = 4"
   ]
  },
  {
   "cell_type": "code",
   "execution_count": null,
   "metadata": {},
   "outputs": [],
   "source": [
    "ccProps[cc]['distFromNuc'] > 0.1\n",
    "multiccDict = ccProps\n",
    "ccXYZ = ccProps[cc]['xyz']\n",
    "nucPair = qt._find_closest_nuclei(ccXYZ,atomDict)"
   ]
  },
  {
   "cell_type": "code",
   "execution_count": null,
   "metadata": {},
   "outputs": [
    {
     "data": {
      "text/plain": [
       "False"
      ]
     },
     "execution_count": 30,
     "metadata": {},
     "output_type": "execute_result"
    }
   ],
   "source": [
    "qt._is_on_line(atomDict[nucPair[0]]['xyz'],atomDict[nucPair[1]]['xyz'],ccXYZ)\n",
    "#should return true, see false"
   ]
  },
  {
   "cell_type": "code",
   "execution_count": null,
   "metadata": {},
   "outputs": [],
   "source": [
    "lineStartList = atomDict[nucPair[0]]['xyz']\n",
    "lineEndList = atomDict[nucPair[1]]['xyz']\n",
    "pointToCheckList = ccXYZ"
   ]
  },
  {
   "cell_type": "code",
   "execution_count": null,
   "metadata": {},
   "outputs": [],
   "source": [
    "epsilon=0.1"
   ]
  },
  {
   "cell_type": "code",
   "execution_count": null,
   "metadata": {},
   "outputs": [],
   "source": [
    "t = ((pointToCheckList[0]-lineStartList[0])*(lineEndList[0]-lineStartList[0]) + \n",
    "        (pointToCheckList[1]-lineStartList[1])*(lineEndList[1]-lineStartList[1]) + \n",
    "        (pointToCheckList[2]-lineStartList[2])*(lineEndList[2]-lineStartList[2]))/(((lineEndList[2]-lineStartList[2])**2) + ((lineEndList[1]-lineStartList[1])**2)+((lineEndList[0]-lineStartList[0])**2))\n",
    "perpPoint = np.array([lineStartList[0]+t*(lineEndList[0]-lineStartList[0]),\n",
    "                          lineStartList[1]+t*(lineEndList[1]-lineStartList[1]),\n",
    "                          lineStartList[2]+t*(lineEndList[2]-lineStartList[2])])"
   ]
  },
  {
   "cell_type": "code",
   "execution_count": null,
   "metadata": {},
   "outputs": [
    {
     "data": {
      "text/plain": [
       "0.43555209623870106"
      ]
     },
     "execution_count": 39,
     "metadata": {},
     "output_type": "execute_result"
    }
   ],
   "source": [
    "qt._get_dist(pointToCheckList,perpPoint) "
   ]
  },
  {
   "cell_type": "code",
   "execution_count": null,
   "metadata": {},
   "outputs": [
    {
     "data": {
      "text/plain": [
       "array([-0.05320803, -2.14407859, -1.00411451])"
      ]
     },
     "execution_count": 40,
     "metadata": {},
     "output_type": "execute_result"
    }
   ],
   "source": [
    "lineStartList"
   ]
  },
  {
   "cell_type": "code",
   "execution_count": null,
   "metadata": {},
   "outputs": [
    {
     "data": {
      "text/plain": [
       "array([ 0.02535549, -2.26379136, -3.86799038])"
      ]
     },
     "execution_count": 41,
     "metadata": {},
     "output_type": "execute_result"
    }
   ],
   "source": [
    "lineEndList"
   ]
  },
  {
   "cell_type": "code",
   "execution_count": null,
   "metadata": {},
   "outputs": [
    {
     "data": {
      "text/plain": [
       "array([ 0.30557456, -1.8970071 , -0.92076369])"
      ]
     },
     "execution_count": 42,
     "metadata": {},
     "output_type": "execute_result"
    }
   ],
   "source": [
    "pointToCheckList"
   ]
  },
  {
   "cell_type": "code",
   "execution_count": null,
   "metadata": {},
   "outputs": [
    {
     "data": {
      "text/plain": [
       "dict_keys(['As1', 'H2', 'C3', 'C4', 'C5', 'C6', 'H7', 'C8', 'H9', 'C10', 'H11', 'H12', 'H13', 'C14', 'C15', 'C16', 'C17', 'H18', 'C19', 'H20', 'C21', 'H22', 'H23', 'H24', 'O25'])"
      ]
     },
     "execution_count": 44,
     "metadata": {},
     "output_type": "execute_result"
    }
   ],
   "source": [
    "((pointToCheckList[0]-lineStartList[0])*(lineEndList[0]-lineStartList[0]) + \n",
    "        (pointToCheckList[1]-lineStartList[1])*(lineEndList[1]-lineStartList[1]) + \n",
    "        (pointToCheckList[2]-lineStartList[2])*(lineEndList[2]-lineStartList[2]))/(((lineEndList[2]-lineStartList[2])**2) + ((lineEndList[1]-lineStartList[1])**2)+((lineEndList[0]-lineStartList[0])**2))\n",
    "atomDict.keys()"
   ]
  },
  {
   "cell_type": "markdown",
   "metadata": {},
   "source": [
    "# the issue is in finding the connected atoms - those CCs should probably be for the carbons, but the hydrogen is actually closer. So it finds the perpendicular point between the As and the H instead, and then checks distance from that to the As-C CC, which obviously is non-zero"
   ]
  }
 ],
 "metadata": {
  "kernelspec": {
   "display_name": "my-rot-env",
   "language": "python",
   "name": "python3"
  },
  "language_info": {
   "codemirror_mode": {
    "name": "ipython",
    "version": 3
   },
   "file_extension": ".py",
   "mimetype": "text/x-python",
   "name": "python",
   "nbconvert_exporter": "python",
   "pygments_lexer": "ipython3",
   "version": "3.11.4"
  },
  "orig_nbformat": 4
 },
 "nbformat": 4,
 "nbformat_minor": 2
}
