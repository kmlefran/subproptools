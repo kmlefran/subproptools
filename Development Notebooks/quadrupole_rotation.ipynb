{
 "cells": [
  {
   "attachments": {},
   "cell_type": "markdown",
   "metadata": {},
   "source": [
    "# Summary\n",
    "\n",
    "In this notebook, I try to use my rotation and property extraction functions to test the invariance of the QTAIM quadrupole to rotation. I start by taking the geometry with the first atom zeroed at the origin and determining the rotation to align it with the reoriented geometry. Then, I take that rotation, and rotate the elements that make up the substituent quadrupole matrix with it.\n",
    "\n",
    "This did not work, and the quadrupole exhibits large change."
   ]
  },
  {
   "cell_type": "code",
   "execution_count": 1,
   "metadata": {},
   "outputs": [],
   "source": [
    "import sys\n",
    "sys.path.append(sys.path[0].replace('Development Notebooks',''))\n",
    "from subproptools import qtaimExtract as qt\n",
    "from subproptools import subreor as sr\n",
    "import pandas as pd\n",
    "import numpy as np\n",
    "import math"
   ]
  },
  {
   "attachments": {},
   "cell_type": "markdown",
   "metadata": {},
   "source": [
    "Initially, I determine the geometry shift needed to go from the original geometry to the modified geometry\n",
    "Note that I may want to do one where the atom is already at the origin and don't need to shift that way, just rotate\n"
   ]
  },
  {
   "cell_type": "code",
   "execution_count": 3,
   "metadata": {},
   "outputs": [],
   "source": [
    "original_geom = qt.get_xyz(\"Data/SubH_CFHCH3_wb97xd_aug-cc-pvtz_zeroorig\")['xyz']\n",
    "rotated_geom = qt.get_xyz(\"Data/SubH_CFHCH3_reor_wb97xd_aug-cc-pvtz\")['xyz']"
   ]
  },
  {
   "cell_type": "code",
   "execution_count": null,
   "metadata": {},
   "outputs": [
    {
     "data": {
      "text/plain": [
       "array([[ 0.       ,  0.       ,  0.       ],\n",
       "       [ 0.0515014,  1.1991928,  1.677408 ],\n",
       "       [ 0.0515014,  1.1991928, -1.677408 ],\n",
       "       [ 2.124002 , -1.8984325,  0.       ],\n",
       "       [ 2.033135 , -3.0940259,  1.6729925],\n",
       "       [ 2.033135 , -3.0940259, -1.6729925],\n",
       "       [ 3.9347699, -0.9139359,  0.       ],\n",
       "       [-2.3164504, -1.2373688,  0.       ]], dtype=float32)"
      ]
     },
     "execution_count": 23,
     "metadata": {},
     "output_type": "execute_result"
    }
   ],
   "source": [
    "original_geom"
   ]
  },
  {
   "cell_type": "code",
   "execution_count": 4,
   "metadata": {},
   "outputs": [
    {
     "data": {
      "text/plain": [
       "array([[ 0.        ,  0.        ,  0.        ],\n",
       "       [-2.0626228 ,  0.        ,  0.        ],\n",
       "       [ 0.66564846,  1.952261  ,  0.        ],\n",
       "       [ 1.0506991 , -1.4683454 ,  2.203502  ],\n",
       "       [ 0.38753182, -3.416487  ,  2.164018  ],\n",
       "       [ 3.108622  , -1.4693639 ,  2.164018  ],\n",
       "       [ 0.4331082 , -0.6052657 ,  3.97036   ],\n",
       "       [ 0.7772349 , -1.0861813 , -2.2612255 ]], dtype=float32)"
      ]
     },
     "execution_count": 4,
     "metadata": {},
     "output_type": "execute_result"
    }
   ],
   "source": [
    "rotated_geom"
   ]
  },
  {
   "cell_type": "code",
   "execution_count": 6,
   "metadata": {},
   "outputs": [
    {
     "data": {
      "text/plain": [
       "array([[ 0.       ,  0.       ,  0.       ],\n",
       "       [ 0.0515014,  1.1991928,  1.677408 ],\n",
       "       [ 0.0515014,  1.1991928, -1.677408 ],\n",
       "       [ 2.124002 , -1.8984325,  0.       ],\n",
       "       [ 2.033135 , -3.0940259,  1.6729925],\n",
       "       [ 2.033135 , -3.0940259, -1.6729925],\n",
       "       [ 3.9347699, -0.9139359,  0.       ],\n",
       "       [-2.3164504, -1.2373688,  0.       ]], dtype=float32)"
      ]
     },
     "execution_count": 6,
     "metadata": {},
     "output_type": "execute_result"
    }
   ],
   "source": [
    "negXAtom=2\n",
    "t_xyz=sr._set_origin(original_geom,1).T\n",
    "t_xyz.T"
   ]
  },
  {
   "cell_type": "code",
   "execution_count": 7,
   "metadata": {},
   "outputs": [
    {
     "data": {
      "text/plain": [
       "array([[ 0.00000000e+00,  0.00000000e+00,  0.00000000e+00],\n",
       "       [ 1.20029816e+00, -2.19229001e-18,  1.67740798e+00],\n",
       "       [ 1.20029816e+00, -2.19229001e-18, -1.67740798e+00],\n",
       "       [-1.80554923e+00, -2.20350229e+00,  0.00000000e+00],\n",
       "       [-3.00394037e+00, -2.16401846e+00,  1.67299247e+00],\n",
       "       [-3.00394037e+00, -2.16401846e+00, -1.67299247e+00],\n",
       "       [-7.44264359e-01, -3.97036060e+00,  0.00000000e+00],\n",
       "       [-1.33562163e+00,  2.26122505e+00,  0.00000000e+00]])"
      ]
     },
     "execution_count": 7,
     "metadata": {},
     "output_type": "execute_result"
    }
   ],
   "source": [
    "d = t_xyz[0,negXAtom-1]/math.sqrt(t_xyz[0,negXAtom-1]**2 + t_xyz[1,negXAtom-1]**2)\n",
    "s = t_xyz[1,negXAtom-1]/math.sqrt(t_xyz[0,negXAtom-1]**2 + t_xyz[1,negXAtom-1]**2)\n",
    "G1 = np.array([[d,s,0.],[-s,d,0.],[0.,0.,1.]])\n",
    "zero_y = np.matmul(G1,t_xyz)\n",
    "zero_y.T"
   ]
  },
  {
   "cell_type": "code",
   "execution_count": 8,
   "metadata": {},
   "outputs": [
    {
     "data": {
      "text/plain": [
       "array([[ 0.58192807,  0.        ,  0.81324026],\n",
       "       [ 0.        ,  1.        ,  0.        ],\n",
       "       [-0.81324026,  0.        ,  0.58192807]])"
      ]
     },
     "execution_count": 8,
     "metadata": {},
     "output_type": "execute_result"
    }
   ],
   "source": [
    "d = zero_y[0,negXAtom-1]/math.sqrt(zero_y[0,negXAtom-1]**2 + zero_y[2,negXAtom-1]**2)\n",
    "s = zero_y[2,negXAtom-1]/math.sqrt(zero_y[0,negXAtom-1]**2 + zero_y[2,negXAtom-1]**2)\n",
    "G2 = np.array([[d,0,s],[0,1,0],[-s,0,d]])\n",
    "G2\n"
   ]
  },
  {
   "cell_type": "code",
   "execution_count": 9,
   "metadata": {},
   "outputs": [
    {
     "data": {
      "text/plain": [
       "array([[ 0.00000000e+00,  0.00000000e+00,  0.00000000e+00],\n",
       "       [ 2.06262290e+00, -2.19229001e-18,  3.17299601e-17],\n",
       "       [-6.65648509e-01, -2.19229001e-18, -1.95226158e+00],\n",
       "       [-1.05069978e+00, -2.20350229e+00,  1.46834533e+00],\n",
       "       [-3.87532393e-01, -2.16401846e+00,  3.41648653e+00],\n",
       "       [-3.10862205e+00, -2.16401846e+00,  1.46936397e+00],\n",
       "       [-4.33108322e-01, -3.97036060e+00,  6.05265741e-01],\n",
       "       [-7.77235716e-01,  2.26122505e+00,  1.08618128e+00]])"
      ]
     },
     "execution_count": 9,
     "metadata": {},
     "output_type": "execute_result"
    }
   ],
   "source": [
    "onx = np.matmul(G2,zero_y)\n",
    "onx.T"
   ]
  },
  {
   "cell_type": "code",
   "execution_count": 10,
   "metadata": {},
   "outputs": [],
   "source": [
    "G3 = np.array([[-1,0,0],[0,1,0],[0,0,-1]])\n",
    "onxZeroZ = np.matmul(G3,onx)"
   ]
  },
  {
   "cell_type": "code",
   "execution_count": 11,
   "metadata": {},
   "outputs": [
    {
     "data": {
      "text/plain": [
       "array([[ 0.00000000e+00,  0.00000000e+00,  0.00000000e+00],\n",
       "       [-2.06262290e+00, -3.17299601e-17,  2.19229001e-18],\n",
       "       [ 6.65648509e-01,  1.95226158e+00,  2.19229001e-18],\n",
       "       [ 1.05069978e+00, -1.46834533e+00,  2.20350229e+00],\n",
       "       [ 3.87532393e-01, -3.41648653e+00,  2.16401846e+00],\n",
       "       [ 3.10862205e+00, -1.46936397e+00,  2.16401846e+00],\n",
       "       [ 4.33108322e-01, -6.05265741e-01,  3.97036060e+00],\n",
       "       [ 7.77235716e-01, -1.08618128e+00, -2.26122505e+00]])"
      ]
     },
     "execution_count": 11,
     "metadata": {},
     "output_type": "execute_result"
    }
   ],
   "source": [
    "G4 = np.array([[1,0,0],[0,0,1],[0,-1,0]])\n",
    "np.matmul(G4,onxZeroZ).T"
   ]
  },
  {
   "cell_type": "code",
   "execution_count": 12,
   "metadata": {},
   "outputs": [
    {
     "data": {
      "text/plain": [
       "array([[ 0.00000000e+00,  0.00000000e+00,  0.00000000e+00],\n",
       "       [ 1.09497198e-07,  3.17299601e-17, -2.19229001e-18],\n",
       "       [-4.88659810e-08, -6.07043552e-07, -2.19229001e-18],\n",
       "       [-6.64491231e-07, -7.81771536e-08, -3.45336598e-07],\n",
       "       [-5.75582118e-07, -4.52501999e-07, -5.44290907e-07],\n",
       "       [ 2.16602540e-08,  4.09296774e-08, -5.44290907e-07],\n",
       "       [-1.11741262e-07,  6.40324479e-08, -5.61793439e-07],\n",
       "       [-8.04087448e-07, -3.72152065e-09, -4.11088969e-07]])"
      ]
     },
     "execution_count": 12,
     "metadata": {},
     "output_type": "execute_result"
    }
   ],
   "source": [
    "Ga = np.matmul(G2,G1)\n",
    "Gb = np.matmul(G3,Ga)\n",
    "G = np.matmul(G4,Gb)\n",
    "rotated_geom - np.matmul(G,t_xyz).T #all ~0 - rotation good"
   ]
  },
  {
   "attachments": {},
   "cell_type": "markdown",
   "metadata": {},
   "source": [
    "Here, we've found the rotation necessary to identify the quadupole"
   ]
  },
  {
   "cell_type": "code",
   "execution_count": 13,
   "metadata": {},
   "outputs": [],
   "source": [
    "sumFile = open('Data/SubH_CFHCH3_wb97xd_aug-cc-pvtz_zeroorig'+\".sum\",\"r\") #open file, read lines, close file\n",
    "data = sumFile.readlines()\n",
    "sumFile.close()"
   ]
  },
  {
   "cell_type": "code",
   "execution_count": 15,
   "metadata": {},
   "outputs": [],
   "source": [
    "atomTest = qt.get_atomic_props(data)\n",
    "list(atomTest['C1'].keys())\n",
    "for key in atomTest:\n",
    "    atomTest[key].update({'quadContrib':qt._get_atomic_quad_contrib(atomTest[key])})"
   ]
  },
  {
   "cell_type": "markdown",
   "metadata": {},
   "source": []
  },
  {
   "cell_type": "code",
   "execution_count": 16,
   "metadata": {},
   "outputs": [],
   "source": [
    "def get_needed_for_quad(atomTest,atomLabel,rotationMatrix = np.array([[1.,0.,0.],[0.,1.,0.],[0.,0.,1.]])):\n",
    "    atom_from_sum_quad = np.array([[atomTest[atomLabel]['Q_XX'][0], atomTest[atomLabel]['Q_XY'][0], atomTest[atomLabel]['Q_XZ'][0] ],\n",
    "                              [ atomTest[atomLabel]['Q_XY'][0],atomTest[atomLabel]['Q_YY'][0],atomTest[atomLabel]['Q_YZ'][0]],\n",
    "                              [ atomTest[atomLabel]['Q_XZ'][0],atomTest[atomLabel]['Q_YZ'][0],atomTest[atomLabel]['Q_ZZ'][0]]])\n",
    "    atom_from_sum_mu_intra = np.array([atomTest[atomLabel]['Mu_Intra_X'][0], atomTest['C1']['Mu_Intra_Y'][0], atomTest['C1']['Mu_Intra_Z'][0]])\n",
    "    atom_from_sum_xyz = np.array(atomTest[atomLabel]['xyz'])\n",
    "    atom_from_sum_r2 = atomTest[atomLabel]['R+2'][0]\n",
    "    atomCharge = atomTest[atomLabel]['q'][0]\n",
    "    rotQuad = np.matmul(rotationMatrix,atom_from_sum_quad)\n",
    "    rotMuIntra = np.matmul(rotationMatrix,atom_from_sum_mu_intra)\n",
    "    rotCoords = np.matmul(rotationMatrix,atom_from_sum_xyz)\n",
    "\n",
    "    return {'q':[atomCharge],'Q_XX':[rotQuad[0,0]], 'Q_XY':[rotQuad[0,1]],\n",
    "            'Q_XZ':[rotQuad[0,2]],'Q_YY':[rotQuad[1,1]],'Q_YZ':[rotQuad[1,2]],\n",
    "            'Q_ZZ':[rotQuad[2,2]], 'Mu_Intra_X':[rotMuIntra[0]], 'Mu_Intra_Y':[rotMuIntra[1]],\n",
    "            'Mu_Intra_Z':[rotMuIntra[2]],'xyz':rotCoords, 'R+2':[atom_from_sum_r2]}"
   ]
  },
  {
   "cell_type": "code",
   "execution_count": 17,
   "metadata": {},
   "outputs": [],
   "source": [
    "def get_trial_needed_for_quad(atomTest,atomLabel,rotationMatrix = np.array([[1.,0.,0.],[0.,1.,0.],[0.,0.,1.]])):\n",
    "    #no rotation for quadrupole here - to be used woth trial_atomic_contrib_rotation\n",
    "    atom_from_sum_quad = np.array([[atomTest[atomLabel]['Q_XX'][0], atomTest[atomLabel]['Q_XY'][0], atomTest[atomLabel]['Q_XZ'][0] ],\n",
    "                              [ atomTest[atomLabel]['Q_XY'][0],atomTest[atomLabel]['Q_YY'][0],atomTest[atomLabel]['Q_YZ'][0]],\n",
    "                              [ atomTest[atomLabel]['Q_XZ'][0],atomTest[atomLabel]['Q_YZ'][0],atomTest[atomLabel]['Q_ZZ'][0]]])\n",
    "    atom_from_sum_mu_intra = np.array([atomTest[atomLabel]['Mu_Intra_X'][0], atomTest['C1']['Mu_Intra_Y'][0], atomTest['C1']['Mu_Intra_Z'][0]])\n",
    "    atom_from_sum_xyz = np.array(atomTest[atomLabel]['xyz'])\n",
    "    atom_from_sum_r2 = atomTest[atomLabel]['R+2'][0]\n",
    "    atomCharge = atomTest[atomLabel]['q'][0]\n",
    "    rotQuad = np.matmul(rotationMatrix,atom_from_sum_quad)\n",
    "    rotMuIntra = np.matmul(rotationMatrix,atom_from_sum_mu_intra)\n",
    "    rotCoords = np.matmul(rotationMatrix,atom_from_sum_xyz)\n",
    "\n",
    "    return {'q':[atomCharge],'Q_XX':[atom_from_sum_quad[0,0]], 'Q_XY':[atom_from_sum_quad[0,1]],\n",
    "            'Q_XZ':[atom_from_sum_quad[0,2]],'Q_YY':[atom_from_sum_quad[1,1]],'Q_YZ':[atom_from_sum_quad[1,2]],\n",
    "            'Q_ZZ':[atom_from_sum_quad[2,2]], 'Mu_Intra_X':[rotMuIntra[0]], 'Mu_Intra_Y':[rotMuIntra[1]],\n",
    "            'Mu_Intra_Z':[rotMuIntra[2]],'xyz':rotCoords, 'R+2':[atom_from_sum_r2]}"
   ]
  },
  {
   "cell_type": "code",
   "execution_count": 18,
   "metadata": {},
   "outputs": [
    {
     "data": {
      "text/plain": [
       "{'q': [0.6105604278],\n",
       " 'Q_XX': [-0.3874464545043634],\n",
       " 'Q_XY': [0.11718142837956236],\n",
       " 'Q_XZ': [0.46096921493966925],\n",
       " 'Q_YY': [-0.16579553436079722],\n",
       " 'Q_YZ': [0.3312269082600497],\n",
       " 'Q_ZZ': [-0.0016155026980413294],\n",
       " 'Mu_Intra_X': [0.20475539275023455],\n",
       " 'Mu_Intra_Y': [-0.2859994999118161],\n",
       " 'Mu_Intra_Z': [-0.561843537059774],\n",
       " 'xyz': array([0., 0., 0.]),\n",
       " 'R+2': [7.0866464632]}"
      ]
     },
     "execution_count": 18,
     "metadata": {},
     "output_type": "execute_result"
    }
   ],
   "source": [
    "get_needed_for_quad(atomTest,'C1',G)"
   ]
  },
  {
   "cell_type": "code",
   "execution_count": null,
   "metadata": {},
   "outputs": [
    {
     "data": {
      "text/plain": [
       "0.0"
      ]
     },
     "execution_count": 37,
     "metadata": {},
     "output_type": "execute_result"
    }
   ],
   "source": [
    "C1TestQuad = qt.get_atomic_quad_contrib(get_needed_for_quad(atomTest,'C1',G))\n",
    "H3TestQuad = qt.get_atomic_quad_contrib(get_needed_for_quad(atomTest,'H3',G))\n",
    "C4TestQuad = qt.get_atomic_quad_contrib(get_needed_for_quad(atomTest,'C4',G))\n",
    "H5TestQuad = qt.get_atomic_quad_contrib(get_needed_for_quad(atomTest,'H5',G))\n",
    "H6TestQuad = qt.get_atomic_quad_contrib(get_needed_for_quad(atomTest,'H6',G))\n",
    "H7TestQuad = qt.get_atomic_quad_contrib(get_needed_for_quad(atomTest,'H7',G))\n",
    "F8TestQuad = qt.get_atomic_quad_contrib(get_needed_for_quad(atomTest,'F8',G))\n",
    "QyyTest = C1TestQuad['Q_yy'][0] + H3TestQuad['Q_yy'][0] + C4TestQuad['Q_yy'][0] + H5TestQuad['Q_yy'][0] + H6TestQuad['Q_yy'][0] + H7TestQuad['Q_yy'][0] + F8TestQuad['Q_yy'][0]\n",
    "QxxTest = C1TestQuad['Q_xx'][0] + H3TestQuad['Q_xx'][0] + C4TestQuad['Q_xx'][0] + H5TestQuad['Q_xx'][0] + H6TestQuad['Q_xx'][0] + H7TestQuad['Q_xx'][0] + F8TestQuad['Q_xx'][0]\n",
    "QzzTest = C1TestQuad['Q_zz'][0] + H3TestQuad['Q_zz'][0] + C4TestQuad['Q_zz'][0] + H5TestQuad['Q_zz'][0] + H6TestQuad['Q_zz'][0] + H7TestQuad['Q_zz'][0] + F8TestQuad['Q_zz'][0]\n",
    "QxxTest+QyyTest+QzzTest"
   ]
  },
  {
   "cell_type": "code",
   "execution_count": null,
   "metadata": {},
   "outputs": [
    {
     "data": {
      "text/plain": [
       "12.810884950106992"
      ]
     },
     "execution_count": 40,
     "metadata": {},
     "output_type": "execute_result"
    }
   ],
   "source": [
    "#Wanted to try rotating second moment later after constructing it from .sum file properties\n",
    "#This does not seem to work either\n",
    "C1TestQuad2 = qt.trial_atomic_contrib_rotation(get_trial_needed_for_quad(atomTest,'C1',G),G)\n",
    "H3TestQuad2 = qt.trial_atomic_contrib_rotation(get_trial_needed_for_quad(atomTest,'H3',G),G)\n",
    "C4TestQuad2 = qt.trial_atomic_contrib_rotation(get_trial_needed_for_quad(atomTest,'C4',G),G)\n",
    "H5TestQuad2 = qt.trial_atomic_contrib_rotation(get_trial_needed_for_quad(atomTest,'H5',G),G)\n",
    "H6TestQuad2 = qt.trial_atomic_contrib_rotation(get_trial_needed_for_quad(atomTest,'H6',G),G)\n",
    "H7TestQuad2 = qt.trial_atomic_contrib_rotation(get_trial_needed_for_quad(atomTest,'H7',G),G)\n",
    "F8TestQuad2 = qt.trial_atomic_contrib_rotation(get_trial_needed_for_quad(atomTest,'F8',G),G)\n",
    "\n",
    "C1TestQuad2['Q_xx'][0] + H3TestQuad2['Q_xx'][0] + C4TestQuad2['Q_xx'][0] + H5TestQuad2['Q_xx'][0] + H6TestQuad2['Q_xx'][0] + H7TestQuad2['Q_xx'][0] + F8TestQuad2['Q_xx'][0]\n",
    "C1TestQuad2['Q_yy'][0] + H3TestQuad2['Q_yy'][0] + C4TestQuad2['Q_yy'][0] + H5TestQuad2['Q_yy'][0] + H6TestQuad2['Q_yy'][0] + H7TestQuad2['Q_yy'][0] + F8TestQuad2['Q_yy'][0]"
   ]
  },
  {
   "cell_type": "code",
   "execution_count": null,
   "metadata": {},
   "outputs": [
    {
     "name": "stdout",
     "output_type": "stream",
     "text": [
      "['Atom', 'Charge', 'X', 'Y', 'Z']\n",
      "['Atom', 'q(A)', 'L(A)', 'K(A)', 'K_Scaled(A)', '|Mu_Intra(A)|']\n",
      "['Atom', 'Mu_Intra_X(A)', 'Mu_Bond_X(A)', 'Mu_X(A)']\n",
      "['Atom', 'Mu_Intra_Y(A)', 'Mu_Bond_Y(A)', 'Mu_Y(A)']\n",
      "['Atom', 'Mu_Intra_Z(A)', 'Mu_Bond_Z(A)', 'Mu_Z(A)']\n",
      "['Atom', '|Mu_Intra(A)|', '|Mu_Bond(A)|', '|Mu(A)|']\n",
      "['Atom', 'Q_XX(A)', 'Q_XY(A)', 'Q_XZ(A)', 'Q_YY(A)', 'Q_YZ(A)', 'Q_ZZ(A)']\n",
      "['Atom', 'R-2(A)', 'R-1(A)', 'R0(A)', 'R+1(A)', 'R+2(A)']\n",
      "['Atom', 'Area(A)', 'Vol(A)', 'N(Vol(A))', 'N(Vol(A))/Vol(A)', '%N(Vol(A))']\n"
     ]
    },
    {
     "data": {
      "text/plain": [
       "{'q': [-0.012042308080000064],\n",
       " 'K': [177.45030553599003],\n",
       " 'K_Scaled': [-178.44807629584],\n",
       " 'Mu_Intra_X': [0.16653271575],\n",
       " 'Mu_Intra_Y': [-0.41236599408389996],\n",
       " 'Mu_Intra_Z': [-0.9758305059259],\n",
       " 'Mu_Bond_X': [-0.47675302472190006],\n",
       " 'Mu_Bond_Y': [0.6787360862049749],\n",
       " 'Mu_Bond_Z': [1.68197961953125],\n",
       " 'Mu_X': [-0.31022030898],\n",
       " 'Mu_Y': [0.26637009212429996],\n",
       " 'Mu_Z': [0.7061491135953],\n",
       " 'Q_xx': [1.2625756432120898],\n",
       " 'Q_xy': [0.44917096416297386],\n",
       " 'Q_xz': [0.8787896492323091],\n",
       " 'Q_yy': [0.4538377141843203],\n",
       " 'Q_yz': [-1.2753249463521499],\n",
       " 'Q_zz': [-1.7164133573964084],\n",
       " 'Vol': [423.130124775],\n",
       " '|Mu_Intra|': [1.0723917356952501],\n",
       " '|Mu_Bond|': [0.8159878900531444]}"
      ]
     },
     "execution_count": 19,
     "metadata": {},
     "output_type": "execute_result"
    }
   ],
   "source": [
    "sumFile = open('SubH_CFHCH3_reor_wb97xd_aug-cc-pvtz'+\".sum\",\"r\") #open file, read lines, close file\n",
    "dataReor = sumFile.readlines()\n",
    "sumFile.close()\n",
    "atomReor = qt.get_atomic_props(dataReor)\n",
    "for key in atomReor:\n",
    "    atomReor[key].update({'quadContrib':qt.get_atomic_quad_contrib(atomReor[key])})\n",
    "qt.get_sub_props(atomReor,[1,3,4,5,6,7,8],[\"C1\",\"H2\",\"H3\",\"C4\",\"H5\",\"H6\",\"H7\",\"F8\"])    "
   ]
  },
  {
   "cell_type": "code",
   "execution_count": null,
   "metadata": {},
   "outputs": [
    {
     "data": {
      "text/plain": [
       "1.2625756432120898"
      ]
     },
     "execution_count": 20,
     "metadata": {},
     "output_type": "execute_result"
    }
   ],
   "source": [
    "atomReor['C1']['quadContrib']['Q_xx'][0] + atomReor['H3']['quadContrib']['Q_xx'][0] + atomReor['C4']['quadContrib']['Q_xx'][0] + atomReor['H5']['quadContrib']['Q_xx'][0] + atomReor['H6']['quadContrib']['Q_xx'][0] +atomReor['H7']['quadContrib']['Q_xx'][0] + atomReor['F8']['quadContrib']['Q_xx'][0]"
   ]
  },
  {
   "cell_type": "code",
   "execution_count": null,
   "metadata": {},
   "outputs": [],
   "source": []
  }
 ],
 "metadata": {
  "kernelspec": {
   "display_name": "my-matplotlib-env",
   "language": "python",
   "name": "python3"
  },
  "language_info": {
   "codemirror_mode": {
    "name": "ipython",
    "version": 3
   },
   "file_extension": ".py",
   "mimetype": "text/x-python",
   "name": "python",
   "nbconvert_exporter": "python",
   "pygments_lexer": "ipython3",
   "version": "3.11.4"
  },
  "orig_nbformat": 4
 },
 "nbformat": 4,
 "nbformat_minor": 2
}
