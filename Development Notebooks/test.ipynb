{
 "cells": [
  {
   "cell_type": "code",
   "execution_count": 1,
   "metadata": {},
   "outputs": [],
   "source": [
    "import sys\n",
    "sys.path.append(sys.path[0].replace('/Development Notebooks',''))\n",
    "from subproptools import qtaimExtract as qt\n",
    "from subproptools import subreor as sr\n",
    "import pandas as pd"
   ]
  },
  {
   "cell_type": "code",
   "execution_count": 2,
   "metadata": {},
   "outputs": [
    {
     "ename": "IndexError",
     "evalue": "index 4 is out of bounds for axis 1 with size 4",
     "output_type": "error",
     "traceback": [
      "\u001b[0;31m---------------------------------------------------------------------------\u001b[0m",
      "\u001b[0;31mIndexError\u001b[0m                                Traceback (most recent call last)",
      "Cell \u001b[0;32mIn[2], line 1\u001b[0m\n\u001b[0;32m----> 1\u001b[0m sr\u001b[39m.\u001b[39;49mrotate_substituent(\u001b[39m'\u001b[39;49m\u001b[39mHC-C-C-CO_wb97xd_aug-cc-pvtz\u001b[39;49m\u001b[39m'\u001b[39;49m,originAtom\u001b[39m=\u001b[39;49m\u001b[39m1\u001b[39;49m,negXAtom\u001b[39m=\u001b[39;49m\u001b[39m5\u001b[39;49m)\n",
      "File \u001b[0;32m~/Documents/SubstituentCoding/subproptools/subproptools/subreor.py:412\u001b[0m, in \u001b[0;36mrotate_substituent\u001b[0;34m(sumFileNoExt, originAtom, negXAtom, posYAtom)\u001b[0m\n\u001b[1;32m    410\u001b[0m     posYPoint \u001b[39m=\u001b[39m molecule_xaxis[posYAtom\u001b[39m-\u001b[39m\u001b[39m1\u001b[39m] \n\u001b[1;32m    411\u001b[0m \u001b[39melse\u001b[39;00m:    \n\u001b[0;32m--> 412\u001b[0m     posYPoint \u001b[39m=\u001b[39m _get_posy_point(sumFileNoExt,atomDict,attachedAtom,negXAtomLabel)\n\u001b[1;32m    413\u001b[0m \u001b[39mif\u001b[39;00m \u001b[39mlen\u001b[39m(posYPoint) \u001b[39m>\u001b[39m \u001b[39m0\u001b[39m:    \n\u001b[1;32m    414\u001b[0m     final_orientation \u001b[39m=\u001b[39m _set_yaxis(molecule_xaxis,posYPoint)\n",
      "File \u001b[0;32m~/Documents/SubstituentCoding/subproptools/subproptools/subreor.py:318\u001b[0m, in \u001b[0;36m_get_posy_point\u001b[0;34m(sumFileNoExt, atomDict, attachedAtom, negXAtomLabel, default_stats)\u001b[0m\n\u001b[1;32m    315\u001b[0m sumFile\u001b[39m.\u001b[39mclose()\n\u001b[1;32m    316\u001b[0m \u001b[39m#bcpsToMatch is bcp dictionary, ordered for clockwise rot\u001b[39;00m\n\u001b[1;32m    317\u001b[0m \u001b[39m#data,originAtomXYZ,negXAtomLabel,originAtomLabel\u001b[39;00m\n\u001b[0;32m--> 318\u001b[0m bcpsToMatch \u001b[39m=\u001b[39m _find_bcp_match(data,atomDict[attachedAtom][\u001b[39m'\u001b[39;49m\u001b[39mxyz\u001b[39;49m\u001b[39m'\u001b[39;49m],negXAtomLabel,attachedAtom,atomDict)\n\u001b[1;32m    319\u001b[0m numBonds\u001b[39m=\u001b[39m\u001b[39mlen\u001b[39m(bcpsToMatch)\u001b[39m+\u001b[39m\u001b[39m1\u001b[39m\n\u001b[1;32m    320\u001b[0m \u001b[39m#on the assumption that if an atom has two bonds (_find_bap_match returns None), \u001b[39;00m\n\u001b[1;32m    321\u001b[0m \u001b[39m# and does not have a lone pair, it is linear, so we do not do another rotation \u001b[39;00m\n\u001b[1;32m    322\u001b[0m \u001b[39m# and posYPoint is None\u001b[39;00m\n",
      "File \u001b[0;32m~/Documents/SubstituentCoding/subproptools/subproptools/subreor.py:111\u001b[0m, in \u001b[0;36m_find_bcp_match\u001b[0;34m(data, originAtomXYZ, negXAtomLabel, originAtomLabel, atomDict)\u001b[0m\n\u001b[1;32m    109\u001b[0m     clockwiseKeys \u001b[39m=\u001b[39m []\n\u001b[1;32m    110\u001b[0m \u001b[39melse\u001b[39;00m:\n\u001b[0;32m--> 111\u001b[0m     clockwiseKeys \u001b[39m=\u001b[39m _find_clockwise_rot(bcpPropDict,originAtomLabel,negXAtomLabel,atomDict,originAtomXYZ)\n\u001b[1;32m    112\u001b[0m \u001b[39m#at this point have bcpDictionary ordered from 1st to last with clockwise bcp\u001b[39;00m\n\u001b[1;32m    113\u001b[0m \u001b[39mreturn\u001b[39;00m clockwiseKeys\n",
      "File \u001b[0;32m~/Documents/SubstituentCoding/subproptools/subproptools/subreor.py:129\u001b[0m, in \u001b[0;36m_find_clockwise_rot\u001b[0;34m(bcpPropDict, originAtomLabel, negXAtomLabel, atomDict, originAtomXYZ)\u001b[0m\n\u001b[1;32m    127\u001b[0m to_rotate \u001b[39m=\u001b[39m np\u001b[39m.\u001b[39mvstack((originAtomXYZ,atomDict[negXAtomLabel][\u001b[39m'\u001b[39m\u001b[39mxyz\u001b[39m\u001b[39m'\u001b[39m],bcpPropDict[key1][\u001b[39m'\u001b[39m\u001b[39mxyz\u001b[39m\u001b[39m'\u001b[39m],bcpPropDict[key2][\u001b[39m'\u001b[39m\u001b[39mxyz\u001b[39m\u001b[39m'\u001b[39m]))\n\u001b[1;32m    128\u001b[0m orig_geom \u001b[39m=\u001b[39m _set_origin(to_rotate,\u001b[39m1\u001b[39m)\n\u001b[0;32m--> 129\u001b[0m rot_geom \u001b[39m=\u001b[39m _set_xaxis(orig_geom,neg_x_index\u001b[39m+\u001b[39;49m\u001b[39m1\u001b[39;49m)\n\u001b[1;32m    130\u001b[0m zero_3d \u001b[39m=\u001b[39m np\u001b[39m.\u001b[39marray([\u001b[39m0.0\u001b[39m,\u001b[39m0.0\u001b[39m,\u001b[39m0.0\u001b[39m])\n\u001b[1;32m    131\u001b[0m bcp_1_xyz \u001b[39m=\u001b[39m rot_geom[\u001b[39m2\u001b[39m]\n",
      "File \u001b[0;32m~/Documents/SubstituentCoding/subproptools/subproptools/subreor.py:218\u001b[0m, in \u001b[0;36m_set_xaxis\u001b[0;34m(xyzArray, negXAtom)\u001b[0m\n\u001b[1;32m    216\u001b[0m tol \u001b[39m=\u001b[39m \u001b[39m0.0001\u001b[39m \u001b[39m#tolerance for change\u001b[39;00m\n\u001b[1;32m    217\u001b[0m initial_lengths\u001b[39m=\u001b[39m _get_lengths(xyzArray)\n\u001b[0;32m--> 218\u001b[0m t_rot1 \u001b[39m=\u001b[39m _zero_y_for_negx(t_xyz,negXAtom)\n\u001b[1;32m    219\u001b[0m rot1_lengths \u001b[39m=\u001b[39m _get_lengths(t_rot1\u001b[39m.\u001b[39mT)\n\u001b[1;32m    220\u001b[0m \u001b[39mif\u001b[39;00m np\u001b[39m.\u001b[39many((rot1_lengths \u001b[39m-\u001b[39m initial_lengths)\u001b[39m>\u001b[39mtol):\n",
      "File \u001b[0;32m~/Documents/SubstituentCoding/subproptools/subproptools/subreor.py:187\u001b[0m, in \u001b[0;36m_zero_y_for_negx\u001b[0;34m(t_xyz, negXAtom)\u001b[0m\n\u001b[1;32m    185\u001b[0m \u001b[39mdef\u001b[39;00m \u001b[39m_zero_y_for_negx\u001b[39m(t_xyz,negXAtom):\n\u001b[1;32m    186\u001b[0m \u001b[39m    \u001b[39m\u001b[39m\"\"\"perform first rotation in setting -x axis to zero the y value\"\"\"\u001b[39;00m\n\u001b[0;32m--> 187\u001b[0m     \u001b[39mif\u001b[39;00m t_xyz[\u001b[39m0\u001b[39;49m,negXAtom\u001b[39m-\u001b[39;49m\u001b[39m1\u001b[39;49m] \u001b[39m==\u001b[39m \u001b[39m0\u001b[39m \u001b[39mand\u001b[39;00m t_xyz[\u001b[39m1\u001b[39m,negXAtom\u001b[39m-\u001b[39m\u001b[39m1\u001b[39m] \u001b[39m==\u001b[39m \u001b[39m0\u001b[39m: \u001b[39m#on xy\u001b[39;00m\n\u001b[1;32m    188\u001b[0m         \u001b[39m# print('hi')\u001b[39;00m\n\u001b[1;32m    189\u001b[0m         G\u001b[39m=\u001b[39m np\u001b[39m.\u001b[39marray([[\u001b[39m0.\u001b[39m,\u001b[39m0.\u001b[39m,\u001b[39m1.\u001b[39m],[\u001b[39m0.\u001b[39m,\u001b[39m1.\u001b[39m,\u001b[39m0.\u001b[39m],[\u001b[39m-\u001b[39m\u001b[39m1.\u001b[39m,\u001b[39m0.\u001b[39m,\u001b[39m0.\u001b[39m]])\n\u001b[1;32m    190\u001b[0m     \u001b[39melif\u001b[39;00m t_xyz[\u001b[39m1\u001b[39m,negXAtom\u001b[39m-\u001b[39m\u001b[39m1\u001b[39m] \u001b[39m==\u001b[39m \u001b[39m0\u001b[39m \u001b[39mand\u001b[39;00m t_xyz[\u001b[39m2\u001b[39m,negXAtom\u001b[39m-\u001b[39m\u001b[39m1\u001b[39m] \u001b[39m==\u001b[39m \u001b[39m0\u001b[39m: \u001b[39m#already on x axis atom 2 y and z=0\u001b[39;00m\n\u001b[1;32m    191\u001b[0m         \u001b[39m# print('here')\u001b[39;00m\n",
      "\u001b[0;31mIndexError\u001b[0m: index 4 is out of bounds for axis 1 with size 4"
     ]
    }
   ],
   "source": [
    "sr.rotate_substituent('HC-C-C-CO_wb97xd_aug-cc-pvtz',originAtom=1,negXAtom=5)"
   ]
  },
  {
   "cell_type": "code",
   "execution_count": 8,
   "metadata": {},
   "outputs": [],
   "source": [
    "sumFileNoExt = 'HC-C-C-CO_wb97xd_aug-cc-pvtz'\n",
    "originAtom = 1\n",
    "negXAtom = 5\n",
    "posYAtom = 0"
   ]
  },
  {
   "cell_type": "code",
   "execution_count": 9,
   "metadata": {},
   "outputs": [],
   "source": [
    "sumFile = open(sumFileNoExt+\".sum\",\"r\")\n",
    "data = sumFile.readlines()\n",
    "sumFile.close()"
   ]
  },
  {
   "cell_type": "code",
   "execution_count": 10,
   "metadata": {},
   "outputs": [],
   "source": [
    "atomDict = qt.get_atomic_props(data)"
   ]
  },
  {
   "cell_type": "code",
   "execution_count": 11,
   "metadata": {},
   "outputs": [],
   "source": [
    "molecule_xyz = qt.get_xyz(sumFileNoExt)"
   ]
  },
  {
   "cell_type": "code",
   "execution_count": 12,
   "metadata": {},
   "outputs": [],
   "source": [
    "negXAtomLabel = molecule_xyz['Atoms'][negXAtom-1]"
   ]
  },
  {
   "cell_type": "code",
   "execution_count": 13,
   "metadata": {},
   "outputs": [],
   "source": [
    "attachedAtom = molecule_xyz['Atoms'][originAtom-1]"
   ]
  },
  {
   "cell_type": "code",
   "execution_count": 16,
   "metadata": {},
   "outputs": [
    {
     "data": {
      "text/plain": [
       "array([[ 0.        ,  0.        ,  0.        ],\n",
       "       [ 2.1014504 , -1.1039778 , -1.238721  ],\n",
       "       [-0.40703416,  2.7398713 , -0.7853528 ],\n",
       "       [-2.268362  , -1.6346834 , -0.6241007 ],\n",
       "       [ 0.33981407, -0.06584188,  2.0491657 ],\n",
       "       [-2.078061  ,  3.5036252 ,  0.14709377],\n",
       "       [-0.68590236,  2.8535416 , -2.824773  ],\n",
       "       [ 1.191238  ,  3.933376  , -0.2754068 ],\n",
       "       [-2.6213746 , -1.6089971 , -2.6546714 ],\n",
       "       [-1.9336425 , -3.5812733 , -0.04747176],\n",
       "       [-3.9492502 , -0.93698174,  0.34041685],\n",
       "       [ 4.461873  , -0.20218003, -0.44448355],\n",
       "       [ 4.662208  , -0.32332978,  1.6157975 ],\n",
       "       [ 4.7965984 ,  1.7568655 , -1.021615  ],\n",
       "       [ 5.893173  , -1.3914044 , -1.3194331 ]], dtype=float32)"
      ]
     },
     "execution_count": 16,
     "metadata": {},
     "output_type": "execute_result"
    }
   ],
   "source": [
    "molecule_orig = sr._set_origin(molecule_xyz['xyz'],originAtom)\n",
    "molecule_orig"
   ]
  },
  {
   "cell_type": "code",
   "execution_count": 18,
   "metadata": {},
   "outputs": [],
   "source": [
    "molecule_xaxis = sr._set_xaxis(molecule_orig,negXAtom)"
   ]
  },
  {
   "cell_type": "code",
   "execution_count": 19,
   "metadata": {},
   "outputs": [
    {
     "data": {
      "text/plain": [
       "array([[ 0.00000000e+00,  0.00000000e+00,  0.00000000e+00],\n",
       "       [ 8.42825324e-01, -6.84081135e-01,  2.44764564e+00],\n",
       "       [ 9.27744281e-01,  2.61241854e+00, -7.77116678e-01],\n",
       "       [ 9.34502147e-01, -2.03632581e+00, -1.78528449e+00],\n",
       "       [-2.07819367e+00, -5.34475225e-18,  6.79426303e-18],\n",
       "       [ 3.05755974e-01,  3.04436329e+00, -2.69327481e+00],\n",
       "       [ 2.98787840e+00,  2.67096690e+00, -7.28713390e-01],\n",
       "       [ 2.01393937e-01,  4.08815611e+00,  4.61263920e-01],\n",
       "       [ 2.99524649e+00, -2.07825886e+00, -1.79362636e+00],\n",
       "       [ 2.49523750e-01, -3.88370303e+00, -1.19219721e+00],\n",
       "       [ 2.80410634e-01, -1.67110310e+00, -3.70394115e+00],\n",
       "       [-2.97709832e-01,  6.50252412e-01,  4.43117300e+00],\n",
       "       [-2.36580907e+00,  5.69422577e-01,  4.30467575e+00],\n",
       "       [ 2.78695008e-01,  2.63720011e+00,  4.48387498e+00],\n",
       "       [ 2.93303385e-01, -2.44995297e-01,  6.18549520e+00]])"
      ]
     },
     "execution_count": 19,
     "metadata": {},
     "output_type": "execute_result"
    }
   ],
   "source": [
    "molecule_xaxis"
   ]
  },
  {
   "cell_type": "code",
   "execution_count": 21,
   "metadata": {},
   "outputs": [],
   "source": [
    "ccProps = qt.get_cc_props(sumFileNoExt,attachedAtom)"
   ]
  },
  {
   "cell_type": "code",
   "execution_count": 23,
   "metadata": {},
   "outputs": [],
   "source": [
    "vscc = qt.identify_vscc(ccProps,atomDict,attachedAtom)"
   ]
  },
  {
   "cell_type": "code",
   "execution_count": 24,
   "metadata": {},
   "outputs": [
    {
     "data": {
      "text/plain": [
       "0"
      ]
     },
     "execution_count": 24,
     "metadata": {},
     "output_type": "execute_result"
    }
   ],
   "source": [
    "len(vscc)"
   ]
  },
  {
   "cell_type": "code",
   "execution_count": 25,
   "metadata": {},
   "outputs": [
    {
     "ename": "IndexError",
     "evalue": "index 4 is out of bounds for axis 1 with size 4",
     "output_type": "error",
     "traceback": [
      "\u001b[0;31m---------------------------------------------------------------------------\u001b[0m",
      "\u001b[0;31mIndexError\u001b[0m                                Traceback (most recent call last)",
      "Cell \u001b[0;32mIn[25], line 1\u001b[0m\n\u001b[0;32m----> 1\u001b[0m bcpsToMatch \u001b[39m=\u001b[39m sr\u001b[39m.\u001b[39;49m_find_bcp_match(data,atomDict[attachedAtom][\u001b[39m'\u001b[39;49m\u001b[39mxyz\u001b[39;49m\u001b[39m'\u001b[39;49m],negXAtomLabel,attachedAtom,atomDict)\n",
      "File \u001b[0;32m~/Documents/SubstituentCoding/subproptools/subproptools/subreor.py:111\u001b[0m, in \u001b[0;36m_find_bcp_match\u001b[0;34m(data, originAtomXYZ, negXAtomLabel, originAtomLabel, atomDict)\u001b[0m\n\u001b[1;32m    109\u001b[0m     clockwiseKeys \u001b[39m=\u001b[39m []\n\u001b[1;32m    110\u001b[0m \u001b[39melse\u001b[39;00m:\n\u001b[0;32m--> 111\u001b[0m     clockwiseKeys \u001b[39m=\u001b[39m _find_clockwise_rot(bcpPropDict,originAtomLabel,negXAtomLabel,atomDict,originAtomXYZ)\n\u001b[1;32m    112\u001b[0m \u001b[39m#at this point have bcpDictionary ordered from 1st to last with clockwise bcp\u001b[39;00m\n\u001b[1;32m    113\u001b[0m \u001b[39mreturn\u001b[39;00m clockwiseKeys\n",
      "File \u001b[0;32m~/Documents/SubstituentCoding/subproptools/subproptools/subreor.py:129\u001b[0m, in \u001b[0;36m_find_clockwise_rot\u001b[0;34m(bcpPropDict, originAtomLabel, negXAtomLabel, atomDict, originAtomXYZ)\u001b[0m\n\u001b[1;32m    127\u001b[0m to_rotate \u001b[39m=\u001b[39m np\u001b[39m.\u001b[39mvstack((originAtomXYZ,atomDict[negXAtomLabel][\u001b[39m'\u001b[39m\u001b[39mxyz\u001b[39m\u001b[39m'\u001b[39m],bcpPropDict[key1][\u001b[39m'\u001b[39m\u001b[39mxyz\u001b[39m\u001b[39m'\u001b[39m],bcpPropDict[key2][\u001b[39m'\u001b[39m\u001b[39mxyz\u001b[39m\u001b[39m'\u001b[39m]))\n\u001b[1;32m    128\u001b[0m orig_geom \u001b[39m=\u001b[39m _set_origin(to_rotate,\u001b[39m1\u001b[39m)\n\u001b[0;32m--> 129\u001b[0m rot_geom \u001b[39m=\u001b[39m _set_xaxis(orig_geom,neg_x_index\u001b[39m+\u001b[39;49m\u001b[39m1\u001b[39;49m)\n\u001b[1;32m    130\u001b[0m zero_3d \u001b[39m=\u001b[39m np\u001b[39m.\u001b[39marray([\u001b[39m0.0\u001b[39m,\u001b[39m0.0\u001b[39m,\u001b[39m0.0\u001b[39m])\n\u001b[1;32m    131\u001b[0m bcp_1_xyz \u001b[39m=\u001b[39m rot_geom[\u001b[39m2\u001b[39m]\n",
      "File \u001b[0;32m~/Documents/SubstituentCoding/subproptools/subproptools/subreor.py:218\u001b[0m, in \u001b[0;36m_set_xaxis\u001b[0;34m(xyzArray, negXAtom)\u001b[0m\n\u001b[1;32m    216\u001b[0m tol \u001b[39m=\u001b[39m \u001b[39m0.0001\u001b[39m \u001b[39m#tolerance for change\u001b[39;00m\n\u001b[1;32m    217\u001b[0m initial_lengths\u001b[39m=\u001b[39m _get_lengths(xyzArray)\n\u001b[0;32m--> 218\u001b[0m t_rot1 \u001b[39m=\u001b[39m _zero_y_for_negx(t_xyz,negXAtom)\n\u001b[1;32m    219\u001b[0m rot1_lengths \u001b[39m=\u001b[39m _get_lengths(t_rot1\u001b[39m.\u001b[39mT)\n\u001b[1;32m    220\u001b[0m \u001b[39mif\u001b[39;00m np\u001b[39m.\u001b[39many((rot1_lengths \u001b[39m-\u001b[39m initial_lengths)\u001b[39m>\u001b[39mtol):\n",
      "File \u001b[0;32m~/Documents/SubstituentCoding/subproptools/subproptools/subreor.py:187\u001b[0m, in \u001b[0;36m_zero_y_for_negx\u001b[0;34m(t_xyz, negXAtom)\u001b[0m\n\u001b[1;32m    185\u001b[0m \u001b[39mdef\u001b[39;00m \u001b[39m_zero_y_for_negx\u001b[39m(t_xyz,negXAtom):\n\u001b[1;32m    186\u001b[0m \u001b[39m    \u001b[39m\u001b[39m\"\"\"perform first rotation in setting -x axis to zero the y value\"\"\"\u001b[39;00m\n\u001b[0;32m--> 187\u001b[0m     \u001b[39mif\u001b[39;00m t_xyz[\u001b[39m0\u001b[39;49m,negXAtom\u001b[39m-\u001b[39;49m\u001b[39m1\u001b[39;49m] \u001b[39m==\u001b[39m \u001b[39m0\u001b[39m \u001b[39mand\u001b[39;00m t_xyz[\u001b[39m1\u001b[39m,negXAtom\u001b[39m-\u001b[39m\u001b[39m1\u001b[39m] \u001b[39m==\u001b[39m \u001b[39m0\u001b[39m: \u001b[39m#on xy\u001b[39;00m\n\u001b[1;32m    188\u001b[0m         \u001b[39m# print('hi')\u001b[39;00m\n\u001b[1;32m    189\u001b[0m         G\u001b[39m=\u001b[39m np\u001b[39m.\u001b[39marray([[\u001b[39m0.\u001b[39m,\u001b[39m0.\u001b[39m,\u001b[39m1.\u001b[39m],[\u001b[39m0.\u001b[39m,\u001b[39m1.\u001b[39m,\u001b[39m0.\u001b[39m],[\u001b[39m-\u001b[39m\u001b[39m1.\u001b[39m,\u001b[39m0.\u001b[39m,\u001b[39m0.\u001b[39m]])\n\u001b[1;32m    190\u001b[0m     \u001b[39melif\u001b[39;00m t_xyz[\u001b[39m1\u001b[39m,negXAtom\u001b[39m-\u001b[39m\u001b[39m1\u001b[39m] \u001b[39m==\u001b[39m \u001b[39m0\u001b[39m \u001b[39mand\u001b[39;00m t_xyz[\u001b[39m2\u001b[39m,negXAtom\u001b[39m-\u001b[39m\u001b[39m1\u001b[39m] \u001b[39m==\u001b[39m \u001b[39m0\u001b[39m: \u001b[39m#already on x axis atom 2 y and z=0\u001b[39;00m\n\u001b[1;32m    191\u001b[0m         \u001b[39m# print('here')\u001b[39;00m\n",
      "\u001b[0;31mIndexError\u001b[0m: index 4 is out of bounds for axis 1 with size 4"
     ]
    }
   ],
   "source": [
    "bcpsToMatch = sr._find_bcp_match(data,atomDict[attachedAtom]['xyz'],negXAtomLabel,attachedAtom,atomDict)"
   ]
  },
  {
   "cell_type": "code",
   "execution_count": 26,
   "metadata": {},
   "outputs": [],
   "source": [
    "originAtomXYZ = atomDict[attachedAtom]['xyz']\n",
    "originAtomLabel = attachedAtom"
   ]
  },
  {
   "cell_type": "code",
   "execution_count": 28,
   "metadata": {},
   "outputs": [],
   "source": [
    "originBCPs = qt._find_connected(data,negXAtomLabel,originAtomLabel)\n",
    "bcpPropDict = {}"
   ]
  },
  {
   "cell_type": "code",
   "execution_count": 29,
   "metadata": {},
   "outputs": [
    {
     "data": {
      "text/plain": [
       "[['O2', 'C1'], ['C3', 'C1'], ['C1', 'C4']]"
      ]
     },
     "execution_count": 29,
     "metadata": {},
     "output_type": "execute_result"
    }
   ],
   "source": [
    "originBCPs"
   ]
  },
  {
   "cell_type": "code",
   "execution_count": 30,
   "metadata": {},
   "outputs": [
    {
     "data": {
      "text/plain": [
       "{}"
      ]
     },
     "execution_count": 30,
     "metadata": {},
     "output_type": "execute_result"
    }
   ],
   "source": [
    "sr._find_clockwise_rot(bcpPropDict,originAtomLabel,negXAtomLabel,atomDict,originAtomXYZ)"
   ]
  },
  {
   "cell_type": "code",
   "execution_count": 31,
   "metadata": {},
   "outputs": [],
   "source": [
    "crossDict = {}"
   ]
  },
  {
   "cell_type": "code",
   "execution_count": 32,
   "metadata": {},
   "outputs": [],
   "source": [
    "atoms = list(atomDict.keys())"
   ]
  },
  {
   "cell_type": "code",
   "execution_count": 33,
   "metadata": {},
   "outputs": [
    {
     "data": {
      "text/plain": [
       "['C1',\n",
       " 'O2',\n",
       " 'C3',\n",
       " 'C4',\n",
       " 'H5',\n",
       " 'H6',\n",
       " 'H7',\n",
       " 'H8',\n",
       " 'H9',\n",
       " 'H10',\n",
       " 'H11',\n",
       " 'C12',\n",
       " 'H13',\n",
       " 'H14',\n",
       " 'H15']"
      ]
     },
     "execution_count": 33,
     "metadata": {},
     "output_type": "execute_result"
    }
   ],
   "source": [
    "atoms"
   ]
  },
  {
   "cell_type": "code",
   "execution_count": 34,
   "metadata": {},
   "outputs": [],
   "source": [
    "neg_x_index = atoms.index(negXAtomLabel)"
   ]
  },
  {
   "cell_type": "code",
   "execution_count": 35,
   "metadata": {},
   "outputs": [
    {
     "data": {
      "text/plain": [
       "4"
      ]
     },
     "execution_count": 35,
     "metadata": {},
     "output_type": "execute_result"
    }
   ],
   "source": [
    "neg_x_index"
   ]
  },
  {
   "cell_type": "code",
   "execution_count": 38,
   "metadata": {},
   "outputs": [
    {
     "data": {
      "text/plain": [
       "{'O2-C1': {'xyz': array([-0.03907469, -0.37761442,  0.18549961]),\n",
       "  'rho': [0.26264450199],\n",
       "  'lambda1': [-0.5053165188],\n",
       "  'lambda2': [-0.48923995813],\n",
       "  'lambda3': [0.47486662401],\n",
       "  'DelSqRho': [-0.51968985292],\n",
       "  'Ellipticity': [0.032860277254],\n",
       "  'V': [-0.60840996919],\n",
       "  'G': [0.23924375298],\n",
       "  'H': [-0.36916621621]},\n",
       " 'C3-C1': {'xyz': array([-0.98684975,  1.36065504,  0.19451931]),\n",
       "  'rho': [0.25378261485],\n",
       "  'lambda1': [-0.51215382644],\n",
       "  'lambda2': [-0.49479468986],\n",
       "  'lambda3': [0.35306745538],\n",
       "  'DelSqRho': [-0.65388106093],\n",
       "  'Ellipticity': [0.035083514291],\n",
       "  'V': [-0.27927754364],\n",
       "  'G': [0.057903639205],\n",
       "  'H': [-0.22137390443500002]},\n",
       " 'C1-C4': {'xyz': array([-1.94066576, -0.84823262,  0.27176114]),\n",
       "  'rho': [0.25796590264],\n",
       "  'lambda1': [-0.52555114417],\n",
       "  'lambda2': [-0.50709179364],\n",
       "  'lambda3': [0.34722707546],\n",
       "  'DelSqRho': [-0.68541586235],\n",
       "  'Ellipticity': [0.036402384666],\n",
       "  'V': [-0.28822800135],\n",
       "  'G': [0.058437017884],\n",
       "  'H': [-0.229790983466]}}"
      ]
     },
     "execution_count": 38,
     "metadata": {},
     "output_type": "execute_result"
    }
   ],
   "source": [
    "bcpPropDict"
   ]
  },
  {
   "cell_type": "code",
   "execution_count": 40,
   "metadata": {},
   "outputs": [
    {
     "data": {
      "text/plain": [
       "4"
      ]
     },
     "execution_count": 40,
     "metadata": {},
     "output_type": "execute_result"
    }
   ],
   "source": [
    "crossDict = {}\n",
    "atoms = list(atomDict.keys())\n",
    "neg_x_index = atoms.index(negXAtomLabel)\n",
    "neg_x_index\n"
   ]
  },
  {
   "cell_type": "code",
   "execution_count": 43,
   "metadata": {},
   "outputs": [],
   "source": [
    "key1 = list(bcpPropDict.keys())[0]\n",
    "key2 = list(bcpPropDict.keys())[1]"
   ]
  },
  {
   "cell_type": "code",
   "execution_count": 44,
   "metadata": {},
   "outputs": [],
   "source": [
    "import numpy as np\n",
    "to_rotate = np.vstack((originAtomXYZ,atomDict[negXAtomLabel]['xyz'],bcpPropDict[key1]['xyz'],bcpPropDict[key2]['xyz']))"
   ]
  },
  {
   "cell_type": "code",
   "execution_count": 47,
   "metadata": {},
   "outputs": [
    {
     "data": {
      "text/plain": [
       "array([[ 0.        ,  0.        ,  0.        ],\n",
       "       [ 0.33981406, -0.06584188,  2.04916577],\n",
       "       [ 0.7500983 , -0.36033332, -0.41031673],\n",
       "       [-0.19767677,  1.37793615, -0.40129703]])"
      ]
     },
     "execution_count": 47,
     "metadata": {},
     "output_type": "execute_result"
    }
   ],
   "source": [
    "orig_geom = sr._set_origin(to_rotate,1)\n",
    "orig_geom"
   ]
  },
  {
   "cell_type": "code",
   "execution_count": 50,
   "metadata": {},
   "outputs": [
    {
     "data": {
      "text/plain": [
       "array([[ 0.00000000e+00,  0.00000000e+00,  0.00000000e+00],\n",
       "       [-2.07819371e+00, -3.48211853e-18, -3.71782265e-17],\n",
       "       [ 2.70517630e-01, -2.11069841e-01,  8.62042407e-01],\n",
       "       [ 4.71670847e-01,  1.31517465e+00, -3.82969556e-01]])"
      ]
     },
     "execution_count": 50,
     "metadata": {},
     "output_type": "execute_result"
    }
   ],
   "source": [
    "sr._set_xaxis(orig_geom,2)"
   ]
  },
  {
   "cell_type": "code",
   "execution_count": null,
   "metadata": {},
   "outputs": [],
   "source": []
  }
 ],
 "metadata": {
  "kernelspec": {
   "display_name": "Python 3",
   "language": "python",
   "name": "python3"
  },
  "language_info": {
   "codemirror_mode": {
    "name": "ipython",
    "version": 3
   },
   "file_extension": ".py",
   "mimetype": "text/x-python",
   "name": "python",
   "nbconvert_exporter": "python",
   "pygments_lexer": "ipython3",
   "version": "3.11.3"
  },
  "orig_nbformat": 4
 },
 "nbformat": 4,
 "nbformat_minor": 2
}
