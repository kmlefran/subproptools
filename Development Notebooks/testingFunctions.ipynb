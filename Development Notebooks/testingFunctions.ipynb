{
 "cells": [
  {
   "cell_type": "code",
   "execution_count": 1,
   "metadata": {},
   "outputs": [
    {
     "ename": "ModuleNotFoundError",
     "evalue": "No module named 'qtaimExtract'",
     "output_type": "error",
     "traceback": [
      "\u001b[0;31m---------------------------------------------------------------------------\u001b[0m",
      "\u001b[0;31mModuleNotFoundError\u001b[0m                       Traceback (most recent call last)",
      "Cell \u001b[0;32mIn[1], line 1\u001b[0m\n\u001b[0;32m----> 1\u001b[0m \u001b[39mimport\u001b[39;00m \u001b[39mqtaimExtract\u001b[39;00m \u001b[39mas\u001b[39;00m \u001b[39mqt\u001b[39;00m\n\u001b[1;32m      2\u001b[0m \u001b[39mimport\u001b[39;00m \u001b[39msubreor\u001b[39;00m \u001b[39mas\u001b[39;00m \u001b[39msr\u001b[39;00m\n\u001b[1;32m      3\u001b[0m \u001b[39mimport\u001b[39;00m \u001b[39mpandas\u001b[39;00m \u001b[39mas\u001b[39;00m \u001b[39mpd\u001b[39;00m\n",
      "\u001b[0;31mModuleNotFoundError\u001b[0m: No module named 'qtaimExtract'"
     ]
    }
   ],
   "source": [
    "import qtaimExtract as qt\n",
    "import subreor as sr\n",
    "import pandas as pd\n"
   ]
  },
  {
   "attachments": {},
   "cell_type": "markdown",
   "metadata": {},
   "source": [
    "# Summary\n",
    "\n",
    "Here, I'm going through the version of rotate_substituent fo subreor.py as of June 28 to try to see if the bcp mapping code works for one substituent, using a default stat dictionary (from transferability paper, SubH bcp data)"
   ]
  },
  {
   "cell_type": "code",
   "execution_count": null,
   "metadata": {},
   "outputs": [
    {
     "data": {
      "text/plain": [
       "{'xyz': array([[ 0.        ,  0.        ,  0.        ],\n",
       "        [-2.0632465 ,  0.        ,  0.        ],\n",
       "        [ 0.6614873 ,  0.        , -1.954334  ],\n",
       "        [ 1.0429549 , -2.2175765 ,  1.4540887 ],\n",
       "        [ 0.41988203, -3.9796915 ,  0.58540124],\n",
       "        [ 3.1010463 , -2.183896  ,  1.4541756 ],\n",
       "        [ 0.38320056, -2.183896  ,  3.4035687 ],\n",
       "        [ 0.7870294 ,  2.2448492 ,  1.0972787 ]], dtype=float32),\n",
       " 'Atoms': 0    C1\n",
       " 1    H2\n",
       " 2    H3\n",
       " 3    C4\n",
       " 4    H5\n",
       " 5    H6\n",
       " 6    H7\n",
       " 7    F8\n",
       " Name: Atom, dtype: object}"
      ]
     },
     "execution_count": 11,
     "metadata": {},
     "output_type": "execute_result"
    }
   ],
   "source": [
    "molecule_xyz = qt.get_xyz('SubCH3_CFH2_anti2146_reor')\n",
    "molecule_xyz"
   ]
  },
  {
   "cell_type": "code",
   "execution_count": null,
   "metadata": {},
   "outputs": [
    {
     "data": {
      "text/plain": [
       "array([[ 0.        ,  0.        ,  0.        ],\n",
       "       [-2.0632465 ,  0.        ,  0.        ],\n",
       "       [ 0.6614873 ,  0.        , -1.954334  ],\n",
       "       [ 1.0429549 , -2.2175765 ,  1.4540887 ],\n",
       "       [ 0.41988203, -3.9796915 ,  0.58540124],\n",
       "       [ 3.1010463 , -2.183896  ,  1.4541756 ],\n",
       "       [ 0.38320056, -2.183896  ,  3.4035687 ],\n",
       "       [ 0.7870294 ,  2.2448492 ,  1.0972787 ]], dtype=float32)"
      ]
     },
     "execution_count": 12,
     "metadata": {},
     "output_type": "execute_result"
    }
   ],
   "source": [
    "molecule_orig = sr.set_origin(molecule_xyz['xyz'],1)\n",
    "molecule_orig"
   ]
  },
  {
   "cell_type": "code",
   "execution_count": null,
   "metadata": {},
   "outputs": [
    {
     "name": "stdout",
     "output_type": "stream",
     "text": [
      "here\n"
     ]
    },
    {
     "data": {
      "text/plain": [
       "array([[ 0.        ,  0.        ,  0.        ],\n",
       "       [-2.06324649,  0.        ,  0.        ],\n",
       "       [ 0.66148728,  0.        , -1.95433402],\n",
       "       [ 1.04295492, -2.2175765 ,  1.45408869],\n",
       "       [ 0.41988203, -3.97969151,  0.58540124],\n",
       "       [ 3.10104632, -2.18389606,  1.45417559],\n",
       "       [ 0.38320056, -2.18389606,  3.40356874],\n",
       "       [ 0.78702939,  2.24484921,  1.09727871]])"
      ]
     },
     "execution_count": 13,
     "metadata": {},
     "output_type": "execute_result"
    }
   ],
   "source": [
    "molecule_xaxis = sr.set_xaxis(molecule_orig,2)\n",
    "molecule_xaxis"
   ]
  },
  {
   "cell_type": "code",
   "execution_count": null,
   "metadata": {},
   "outputs": [
    {
     "data": {
      "text/plain": [
       "{'C1': {'xyz': array([0., 0., 0.]),\n",
       "  'q': [0.6181000154],\n",
       "  'K': [37.399461789],\n",
       "  'K_Scaled': [-37.611585114],\n",
       "  'Mu_Intra_X': [0.20429893848],\n",
       "  'Mu_Intra_Y': [0.55036571736],\n",
       "  'Mu_Intra_Z': [0.28413900603],\n",
       "  'Mu_Bond_X': [-0.15693694296],\n",
       "  'Mu_Bond_Y': [-0.56007812492],\n",
       "  'Mu_Bond_Z': [-0.2187898453],\n",
       "  'Mu_X': [0.04736199552],\n",
       "  'Mu_Y': [-0.0097124075554],\n",
       "  'Mu_Z': [0.065349160734],\n",
       "  '|Mu_Intra|': [0.65220813691],\n",
       "  '|Mu_Bond|': [0.62143841729],\n",
       "  '|Mu|': [0.08128961981],\n",
       "  'Q_XX': [-0.42620547034],\n",
       "  'Q_XY': [0.40159459646],\n",
       "  'Q_XZ': [0.20294321691],\n",
       "  'Q_YY': [0.7118632802],\n",
       "  'Q_YZ': [0.5568112971],\n",
       "  'Q_ZZ': [-0.28565780986],\n",
       "  'R+2': [7.0525047078],\n",
       "  'R+1': [4.995993954],\n",
       "  'Vol': [50.594926203]},\n",
       " 'H2': {'xyz': array([-2.06324645,  0.        ,  0.        ]),\n",
       "  'q': [0.00710793958],\n",
       "  'K': [0.63265067882],\n",
       "  'K_Scaled': [-0.63623896483],\n",
       "  'Mu_Intra_X': [0.1357332489],\n",
       "  'Mu_Intra_Y': [0.0054406481157],\n",
       "  'Mu_Intra_Z': [0.0091067942334],\n",
       "  'Mu_Bond_X': [-0.0052682901263],\n",
       "  'Mu_Bond_Y': [-1.4354308505e-05],\n",
       "  'Mu_Bond_Z': [-3.7726890905e-05],\n",
       "  'Mu_X': [0.13046495877],\n",
       "  'Mu_Y': [0.0054262938072],\n",
       "  'Mu_Z': [0.0090690673425],\n",
       "  '|Mu_Intra|': [0.13614716013],\n",
       "  '|Mu_Bond|': [0.0052684447629],\n",
       "  '|Mu|': [0.13089231496],\n",
       "  'Q_XX': [0.38830581075],\n",
       "  'Q_XY': [-0.00043096208227],\n",
       "  'Q_XZ': [-0.011441687756],\n",
       "  'Q_YY': [-0.18137064081],\n",
       "  'Q_YZ': [-0.006801143839],\n",
       "  'Q_ZZ': [-0.20693516994],\n",
       "  'R+2': [1.5760832564],\n",
       "  'R+1': [1.0872177057],\n",
       "  'Vol': [47.289561136]},\n",
       " 'H3': {'xyz': array([ 0.66148729,  0.        , -1.95433397]),\n",
       "  'q': [0.00710439235],\n",
       "  'K': [0.63265820053],\n",
       "  'K_Scaled': [-0.6362465292],\n",
       "  'Mu_Intra_X': [-0.034881417575],\n",
       "  'Mu_Intra_Y': [0.0054437466008],\n",
       "  'Mu_Intra_Z': [0.13146955041],\n",
       "  'Mu_Bond_X': [0.0016524849821],\n",
       "  'Mu_Bond_Y': [-1.4339159668e-05],\n",
       "  'Mu_Bond_Z': [-0.0049998041273],\n",
       "  'Mu_X': [-0.033228932593],\n",
       "  'Mu_Y': [0.0054294074411],\n",
       "  'Mu_Z': [0.12646974628],\n",
       "  '|Mu_Intra|': [0.13612711102],\n",
       "  '|Mu_Bond|': [0.0052658288558],\n",
       "  '|Mu|': [0.13087489122],\n",
       "  'Q_XX': [-0.13873796233],\n",
       "  'Q_XY': [-0.0062782716743],\n",
       "  'Q_XZ': [-0.1898505352],\n",
       "  'Q_YY': [-0.18140524356],\n",
       "  'Q_YZ': [-0.0025813792369],\n",
       "  'Q_ZZ': [0.32014320588],\n",
       "  'R+2': [1.5760502994],\n",
       "  'R+1': [1.0872108466],\n",
       "  'Vol': [47.250973713]},\n",
       " 'C4': {'xyz': array([ 1.04295497, -2.2175766 ,  1.45408869]),\n",
       "  'q': [0.0384287295],\n",
       "  'K': [37.774070864],\n",
       "  'K_Scaled': [-37.988318907],\n",
       "  'Mu_Intra_X': [-0.020280307261],\n",
       "  'Mu_Intra_Y': [0.059539512195],\n",
       "  'Mu_Intra_Z': [-0.027930630925],\n",
       "  'Mu_Bond_X': [0.029816012771],\n",
       "  'Mu_Bond_Y': [-0.051660862823],\n",
       "  'Mu_Bond_Z': [0.041572794172],\n",
       "  'Mu_X': [0.0095357055097],\n",
       "  'Mu_Y': [0.0078786493722],\n",
       "  'Mu_Z': [0.013642163247],\n",
       "  '|Mu_Intra|': [0.068821250489],\n",
       "  '|Mu_Bond|': [0.072705822191],\n",
       "  '|Mu|': [0.018414977968],\n",
       "  'Q_XX': [-0.085070558287],\n",
       "  'Q_XY': [-0.056471825266],\n",
       "  'Q_XZ': [0.066721468916],\n",
       "  'Q_YY': [0.12403545295],\n",
       "  'Q_YZ': [-0.076861756944],\n",
       "  'Q_ZZ': [-0.038964894661],\n",
       "  'R+2': [8.9881283477],\n",
       "  'R+1': [5.9792243724],\n",
       "  'Vol': [68.596909344]},\n",
       " 'H5': {'xyz': array([ 0.41988203, -3.97969141,  0.58540125]),\n",
       "  'q': [-0.0008940814],\n",
       "  'K': [0.61931649347],\n",
       "  'K_Scaled': [-0.62282915027],\n",
       "  'Mu_Intra_X': [0.042345924016],\n",
       "  'Mu_Intra_Y': [0.11738503949],\n",
       "  'Mu_Intra_Z': [0.059024512969],\n",
       "  'Mu_Bond_X': [0.00020930465695],\n",
       "  'Mu_Bond_Y': [0.00060301900072],\n",
       "  'Mu_Bond_Z': [0.00029180705994],\n",
       "  'Mu_X': [0.042555228673],\n",
       "  'Mu_Y': [0.11798805849],\n",
       "  'Mu_Z': [0.059316320029],\n",
       "  '|Mu_Intra|': [0.13804462289],\n",
       "  '|Mu_Bond|': [0.00070184878349],\n",
       "  '|Mu|': [0.13874637024],\n",
       "  'Q_XX': [-0.16192023183],\n",
       "  'Q_XY': [0.16201292263],\n",
       "  'Q_XZ': [0.096207567303],\n",
       "  'Q_YY': [0.25867396603],\n",
       "  'Q_YZ': [0.22588188324],\n",
       "  'Q_ZZ': [-0.096753734203],\n",
       "  'R+2': [1.6500975448],\n",
       "  'R+1': [1.1151057998],\n",
       "  'Vol': [48.753248135]},\n",
       " 'H6': {'xyz': array([ 3.10104624, -2.18389601,  1.45417562]),\n",
       "  'q': [0.00561404406],\n",
       "  'K': [0.61938934942],\n",
       "  'K_Scaled': [-0.62290241944],\n",
       "  'Mu_Intra_X': [-0.13781556391],\n",
       "  'Mu_Intra_Y': [0.0077648173301],\n",
       "  'Mu_Intra_Z': [-0.0025797335228],\n",
       "  'Mu_Bond_X': [0.0042434796535],\n",
       "  'Mu_Bond_Y': [5.0255645705e-05],\n",
       "  'Mu_Bond_Z': [2.299555379e-05],\n",
       "  'Mu_X': [-0.13357208426],\n",
       "  'Mu_Y': [0.0078150729758],\n",
       "  'Mu_Z': [-0.002556737969],\n",
       "  '|Mu_Intra|': [0.13805823796],\n",
       "  '|Mu_Bond|': [0.0042438395345],\n",
       "  '|Mu|': [0.13382493776],\n",
       "  'Q_XX': [0.41717136115],\n",
       "  'Q_XY': [0.027279131337],\n",
       "  'Q_XZ': [-0.0059424430709],\n",
       "  'Q_YY': [-0.19605851212],\n",
       "  'Q_YZ': [-0.018065522878],\n",
       "  'Q_ZZ': [-0.22111284903],\n",
       "  'R+2': [1.6202474627],\n",
       "  'R+1': [1.1021502277],\n",
       "  'Vol': [48.394896244]},\n",
       " 'H7': {'xyz': array([ 0.38320055, -2.18389601,  3.40356872]),\n",
       "  'q': [0.00561601176],\n",
       "  'K': [0.61938428724],\n",
       "  'K_Scaled': [-0.62289732854],\n",
       "  'Mu_Intra_X': [0.041750930753],\n",
       "  'Mu_Intra_Y': [0.0077661422419],\n",
       "  'Mu_Intra_Z': [-0.131382333],\n",
       "  'Mu_Bond_X': [-0.0013391734037],\n",
       "  'Mu_Bond_Y': [5.0278825999e-05],\n",
       "  'Mu_Bond_Z': [0.0040282808598],\n",
       "  'Mu_X': [0.040411757349],\n",
       "  'Mu_Y': [0.0078164210679],\n",
       "  'Mu_Z': [-0.12735405214],\n",
       "  '|Mu_Intra|': [0.13807523532],\n",
       "  '|Mu_Bond|': [0.0042453456927],\n",
       "  '|Mu|': [0.13384043173],\n",
       "  'Q_XX': [-0.15197287198],\n",
       "  'Q_XY': [-0.025847693051],\n",
       "  'Q_XZ': [-0.19855834492],\n",
       "  'Q_YY': [-0.19601235589],\n",
       "  'Q_YZ': [0.020039377037],\n",
       "  'Q_ZZ': [0.34798522787],\n",
       "  'R+2': [1.6202846815],\n",
       "  'R+1': [1.1021576813],\n",
       "  'Vol': [48.394872485]},\n",
       " 'F8': {'xyz': array([0.78702936, 2.24484913, 1.09727873]),\n",
       "  'q': [-0.6807277277],\n",
       "  'K': [99.770660032],\n",
       "  'K_Scaled': [-100.33654208],\n",
       "  'Mu_Intra_X': [0.077369444388],\n",
       "  'Mu_Intra_Y': [0.22116634429],\n",
       "  'Mu_Intra_Z': [0.10786921159],\n",
       "  'Mu_Bond_X': [-0.35901288827],\n",
       "  'Mu_Bond_Y': [-1.0228705244],\n",
       "  'Mu_Bond_Z': [-0.50054215298],\n",
       "  'Mu_X': [-0.28164344388],\n",
       "  'Mu_Y': [-0.80170418013],\n",
       "  'Mu_Z': [-0.39267294139],\n",
       "  '|Mu_Intra|': [0.25794640835],\n",
       "  '|Mu_Bond|': [1.1940254648],\n",
       "  '|Mu|': [0.93607940946],\n",
       "  'Q_XX': [-0.19000280741],\n",
       "  'Q_XY': [0.16417311668],\n",
       "  'Q_XZ': [0.093561463023],\n",
       "  'Q_YY': [0.31660192195],\n",
       "  'Q_YZ': [0.2288195482],\n",
       "  'Q_ZZ': [-0.12659911453],\n",
       "  'R+2': [11.703243965],\n",
       "  'R+1': [8.7500471334],\n",
       "  'Vol': [107.62087785]}}"
      ]
     },
     "execution_count": 14,
     "metadata": {},
     "output_type": "execute_result"
    }
   ],
   "source": [
    "negXAtomLabel = molecule_xyz['Atoms'][2-1]\n",
    "sumFile = open('SubCH3_CFH2_anti2146_reor'+\".sum\",\"r\") #open file, read lines, close file\n",
    "data = sumFile.readlines()\n",
    "sumFile.close()\n",
    "atomDict = qt.get_atomic_props(data)\n",
    "atomDict"
   ]
  },
  {
   "cell_type": "code",
   "execution_count": null,
   "metadata": {},
   "outputs": [
    {
     "name": "stdout",
     "output_type": "stream",
     "text": [
      "didnt find first\n",
      "didnt find first\n",
      "C1-H3\n",
      "C1-C4\n",
      "C1-F8\n",
      "C1-H3\n",
      "C1-C4\n",
      "C1-F8\n",
      "C1-H3\n",
      "C1-C4\n",
      "C1-F8\n",
      "C1-H3\n",
      "C1-C4\n",
      "F8-C1\n",
      "C1-H3\n",
      "C1-C4\n",
      "F8-C1\n",
      "C1-H3\n",
      "C1-C4\n",
      "F8-C1\n",
      "C\n",
      "4\n",
      "{'C': {'sp3': {'C1-H3': {'xyz': array([ 0.        ,  1.25015821, -0.00235558]), 'rho': [0.29632696936], 'lambda1': [-0.85302912761], 'lambda2': [-0.81303659844], 'lambda3': [0.47413487677], 'DelSqRho': [-1.1919308493], 'Ellipticity': [0.049189088474], 'V': [-0.37184352147], 'G': [0.036930404577], 'H': [-0.33491311689299996]}, 'C1-F8': {'xyz': array([ 0.        , -0.35624989, -0.74223654]), 'rho': [0.23829406815], 'lambda1': [-0.4245753785], 'lambda2': [-0.41016717535], 'lambda3': [0.89122326411], 'DelSqRho': [0.056480710264], 'Ellipticity': [0.035127635803], 'V': [-0.68209769455], 'G': [0.34810893606], 'H': [-0.33398875849000004]}, 'C1-C4': {'xyz': array([ 0.        , -0.7598954 ,  1.12297281]), 'rho': [0.26194645384], 'lambda1': [-0.53899298565], 'lambda2': [-0.51656172708], 'lambda3': [0.3428304022], 'DelSqRho': [-0.71272431054], 'Ellipticity': [0.043424159007], 'V': [-0.29901033382], 'G': [0.060414628094], 'H': [-0.23859570572599997]}}}}\n",
      "not done yet\n"
     ]
    },
    {
     "data": {
      "text/plain": [
       "array([ 0.        , -1.12759252,  0.74976557])"
      ]
     },
     "execution_count": 15,
     "metadata": {},
     "output_type": "execute_result"
    }
   ],
   "source": [
    "attachedAtom = molecule_xyz['Atoms'][1-1]\n",
    "posYPoint = sr.get_posy_point('SubCH3_CFH2_anti2146_reor',atomDict,attachedAtom,negXAtomLabel)\n",
    "posYPoint"
   ]
  },
  {
   "cell_type": "code",
   "execution_count": null,
   "metadata": {},
   "outputs": [
    {
     "name": "stdout",
     "output_type": "stream",
     "text": [
      "2.554796098998138\n"
     ]
    },
    {
     "data": {
      "text/plain": [
       "array([[ 0.00000000e+00,  0.00000000e+00,  0.00000000e+00],\n",
       "       [-2.06324649e+00,  0.00000000e+00,  0.00000000e+00],\n",
       "       [ 6.61487281e-01, -1.08210752e+00,  1.62741045e+00],\n",
       "       [ 1.04295492e+00,  2.65174092e+00,  1.70170848e-02],\n",
       "       [ 4.19882029e-01,  3.63809797e+00,  1.71606591e+00],\n",
       "       [ 3.10104632e+00,  2.62374270e+00, -1.70401586e-03],\n",
       "       [ 3.83200556e-01,  3.70311448e+00, -1.62500012e+00],\n",
       "       [ 7.87029386e-01, -1.26176871e+00, -2.15668919e+00]])"
      ]
     },
     "execution_count": 16,
     "metadata": {},
     "output_type": "execute_result"
    }
   ],
   "source": [
    "final_orientation = sr.set_yaxis(molecule_xaxis,posYPoint)\n",
    "final_orientation"
   ]
  },
  {
   "cell_type": "code",
   "execution_count": null,
   "metadata": {},
   "outputs": [],
   "source": [
    "outFrame = pd.DataFrame(final_orientation*0.529177,columns = ['x','y','z'])\n",
    "outFrame['Atom'] = molecule_xyz['Atoms']\n",
    "outFrame = outFrame[['Atom','x','y','z']]\n",
    "with open('SubCH3_CFH2_anti2146_reor'+'reor.txt','w') as txt_file:\n",
    "    of_string = outFrame.to_string(header=False,index=False)\n",
    "    txt_file.write(of_string)"
   ]
  },
  {
   "cell_type": "code",
   "execution_count": null,
   "metadata": {},
   "outputs": [],
   "source": []
  }
 ],
 "metadata": {
  "kernelspec": {
   "display_name": "my-matplotlib-env",
   "language": "python",
   "name": "python3"
  },
  "language_info": {
   "codemirror_mode": {
    "name": "ipython",
    "version": 3
   },
   "file_extension": ".py",
   "mimetype": "text/x-python",
   "name": "python",
   "nbconvert_exporter": "python",
   "pygments_lexer": "ipython3",
   "version": "3.11.3"
  },
  "orig_nbformat": 4
 },
 "nbformat": 4,
 "nbformat_minor": 2
}
