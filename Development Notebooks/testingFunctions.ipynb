{
 "cells": [
  {
   "cell_type": "code",
   "execution_count": 2,
   "metadata": {},
   "outputs": [],
   "source": [
    "import sys\n",
    "sys.path.append(sys.path[0].replace('/Development Notebooks',''))\n",
    "from subproptools import qtaimExtract as qt\n",
    "from subproptools import subreor as sr\n",
    "import pandas as pd\n"
   ]
  },
  {
   "attachments": {},
   "cell_type": "markdown",
   "metadata": {},
   "source": [
    "# Summary\n",
    "\n",
    "Here, I'm going through the version of rotate_substituent fo subreor.py as of June 28 to try to see if the bcp mapping code works for one substituent, using a default stat dictionary (from transferability paper, SubH bcp data)"
   ]
  },
  {
   "cell_type": "code",
   "execution_count": 2,
   "metadata": {},
   "outputs": [
    {
     "name": "stdout",
     "output_type": "stream",
     "text": [
      "['Atom', 'Charge', 'X', 'Y', 'Z']\n"
     ]
    },
    {
     "data": {
      "text/plain": [
       "{'xyz': array([[ 0.        ,  0.        ,  0.        ],\n",
       "        [-2.0632465 ,  0.        ,  0.        ],\n",
       "        [ 0.6614873 ,  0.        , -1.954334  ],\n",
       "        [ 1.0429549 , -2.2175765 ,  1.4540887 ],\n",
       "        [ 0.41988203, -3.9796915 ,  0.58540124],\n",
       "        [ 3.1010463 , -2.183896  ,  1.4541756 ],\n",
       "        [ 0.38320056, -2.183896  ,  3.4035687 ],\n",
       "        [ 0.7870294 ,  2.2448492 ,  1.0972787 ]], dtype=float32),\n",
       " 'Atoms': 0    C1\n",
       " 1    H2\n",
       " 2    H3\n",
       " 3    C4\n",
       " 4    H5\n",
       " 5    H6\n",
       " 6    H7\n",
       " 7    F8\n",
       " Name: Atom, dtype: object}"
      ]
     },
     "execution_count": 2,
     "metadata": {},
     "output_type": "execute_result"
    }
   ],
   "source": [
    "molecule_xyz = qt.get_xyz('SubCH3_CFH2_anti2146_reor')\n",
    "molecule_xyz"
   ]
  },
  {
   "cell_type": "code",
   "execution_count": 3,
   "metadata": {},
   "outputs": [
    {
     "data": {
      "text/plain": [
       "array([[ 0.        ,  0.        ,  0.        ],\n",
       "       [-2.0632465 ,  0.        ,  0.        ],\n",
       "       [ 0.6614873 ,  0.        , -1.954334  ],\n",
       "       [ 1.0429549 , -2.2175765 ,  1.4540887 ],\n",
       "       [ 0.41988203, -3.9796915 ,  0.58540124],\n",
       "       [ 3.1010463 , -2.183896  ,  1.4541756 ],\n",
       "       [ 0.38320056, -2.183896  ,  3.4035687 ],\n",
       "       [ 0.7870294 ,  2.2448492 ,  1.0972787 ]], dtype=float32)"
      ]
     },
     "execution_count": 3,
     "metadata": {},
     "output_type": "execute_result"
    }
   ],
   "source": [
    "molecule_orig = sr._set_origin(molecule_xyz['xyz'],1)\n",
    "molecule_orig"
   ]
  },
  {
   "cell_type": "code",
   "execution_count": 4,
   "metadata": {},
   "outputs": [
    {
     "name": "stdout",
     "output_type": "stream",
     "text": [
      "here\n"
     ]
    },
    {
     "data": {
      "text/plain": [
       "array([[ 0.        ,  0.        ,  0.        ],\n",
       "       [-2.06324649,  0.        ,  0.        ],\n",
       "       [ 0.66148728,  0.        , -1.95433402],\n",
       "       [ 1.04295492, -2.2175765 ,  1.45408869],\n",
       "       [ 0.41988203, -3.97969151,  0.58540124],\n",
       "       [ 3.10104632, -2.18389606,  1.45417559],\n",
       "       [ 0.38320056, -2.18389606,  3.40356874],\n",
       "       [ 0.78702939,  2.24484921,  1.09727871]])"
      ]
     },
     "execution_count": 4,
     "metadata": {},
     "output_type": "execute_result"
    }
   ],
   "source": [
    "molecule_xaxis = sr._set_xaxis(molecule_orig,2)\n",
    "molecule_xaxis"
   ]
  },
  {
   "cell_type": "code",
   "execution_count": 5,
   "metadata": {},
   "outputs": [
    {
     "name": "stdout",
     "output_type": "stream",
     "text": [
      "['Atom', 'Charge', 'X', 'Y', 'Z']\n",
      "['Atom', 'q(A)', 'L(A)', 'K(A)', 'K_Scaled(A)', '|Mu_Intra(A)|']\n",
      "['Atom', 'Mu_Intra_X(A)', 'Mu_Bond_X(A)', 'Mu_X(A)']\n",
      "['Atom', 'Mu_Intra_Y(A)', 'Mu_Bond_Y(A)', 'Mu_Y(A)']\n",
      "['Atom', 'Mu_Intra_Z(A)', 'Mu_Bond_Z(A)', 'Mu_Z(A)']\n",
      "['Atom', '|Mu_Intra(A)|', '|Mu_Bond(A)|', '|Mu(A)|']\n",
      "['Atom', 'Q_XX(A)', 'Q_XY(A)', 'Q_XZ(A)', 'Q_YY(A)', 'Q_YZ(A)', 'Q_ZZ(A)']\n",
      "['Atom', 'R-2(A)', 'R-1(A)', 'R0(A)', 'R+1(A)', 'R+2(A)']\n",
      "['Atom', 'Area(A)', 'Vol(A)', 'N(Vol(A))', 'N(Vol(A))/Vol(A)', '%N(Vol(A))']\n"
     ]
    },
    {
     "data": {
      "text/plain": [
       "{'C1': {'xyz': array([0., 0., 0.]),\n",
       "  'q': [0.6181000154],\n",
       "  'K': [37.399461789],\n",
       "  'K_Scaled': [-37.611585114],\n",
       "  'Mu_Intra_X': [0.20429893848],\n",
       "  'Mu_Intra_Y': [0.55036571736],\n",
       "  'Mu_Intra_Z': [0.28413900603],\n",
       "  'Mu_Bond_X': [-0.15693694296],\n",
       "  'Mu_Bond_Y': [-0.56007812492],\n",
       "  'Mu_Bond_Z': [-0.2187898453],\n",
       "  'Mu_X': [0.04736199552],\n",
       "  'Mu_Y': [-0.0097124075554],\n",
       "  'Mu_Z': [0.065349160734],\n",
       "  '|Mu_Intra|': [0.65220813691],\n",
       "  '|Mu_Bond|': [0.62143841729],\n",
       "  '|Mu|': [0.08128961981],\n",
       "  'Q_XX': [-0.42620547034],\n",
       "  'Q_XY': [0.40159459646],\n",
       "  'Q_XZ': [0.20294321691],\n",
       "  'Q_YY': [0.7118632802],\n",
       "  'Q_YZ': [0.5568112971],\n",
       "  'Q_ZZ': [-0.28565780986],\n",
       "  'R+2': [7.0525047078],\n",
       "  'R+1': [4.995993954],\n",
       "  'Vol': [50.594926203],\n",
       "  'quadContrib': {'Q_xx': [-0.21310273516999967],\n",
       "   'Q_xy': [0.20079729823000003],\n",
       "   'Q_xz': [0.101471608455],\n",
       "   'Q_yy': [0.35593164010000056],\n",
       "   'Q_yz': [0.27840564855],\n",
       "   'Q_zz': [-0.1428289049299991]}},\n",
       " 'H2': {'xyz': array([-2.06324645,  0.        ,  0.        ]),\n",
       "  'q': [0.00710793958],\n",
       "  'K': [0.63265067882],\n",
       "  'K_Scaled': [-0.63623896483],\n",
       "  'Mu_Intra_X': [0.1357332489],\n",
       "  'Mu_Intra_Y': [0.0054406481157],\n",
       "  'Mu_Intra_Z': [0.0091067942334],\n",
       "  'Mu_Bond_X': [-0.0052682901263],\n",
       "  'Mu_Bond_Y': [-1.4354308505e-05],\n",
       "  'Mu_Bond_Z': [-3.7726890905e-05],\n",
       "  'Mu_X': [0.13046495877],\n",
       "  'Mu_Y': [0.0054262938072],\n",
       "  'Mu_Z': [0.0090690673425],\n",
       "  '|Mu_Intra|': [0.13614716013],\n",
       "  '|Mu_Bond|': [0.0052684447629],\n",
       "  '|Mu|': [0.13089231496],\n",
       "  'Q_XX': [0.38830581075],\n",
       "  'Q_XY': [-0.00043096208227],\n",
       "  'Q_XZ': [-0.011441687756],\n",
       "  'Q_YY': [-0.18137064081],\n",
       "  'Q_YZ': [-0.006801143839],\n",
       "  'Q_ZZ': [-0.20693516994],\n",
       "  'R+2': [1.5760832564],\n",
       "  'R+1': [1.0872177057],\n",
       "  'Vol': [47.289561136],\n",
       "  'quadContrib': {'Q_xx': [-0.3356909829916826],\n",
       "   'Q_xy': [-0.017053577878197418],\n",
       "   'Q_xz': [-0.03390518513960386],\n",
       "   'Q_yy': [0.17423662377834126],\n",
       "   'Q_yz': [-0.0034005719195],\n",
       "   'Q_zz': [0.16145435921334128]}},\n",
       " 'H3': {'xyz': array([ 0.66148729,  0.        , -1.95433397]),\n",
       "  'q': [0.00710439235],\n",
       "  'K': [0.63265820053],\n",
       "  'K_Scaled': [-0.6362465292],\n",
       "  'Mu_Intra_X': [-0.034881417575],\n",
       "  'Mu_Intra_Y': [0.0054437466008],\n",
       "  'Mu_Intra_Z': [0.13146955041],\n",
       "  'Mu_Bond_X': [0.0016524849821],\n",
       "  'Mu_Bond_Y': [-1.4339159668e-05],\n",
       "  'Mu_Bond_Z': [-0.0049998041273],\n",
       "  'Mu_X': [-0.033228932593],\n",
       "  'Mu_Y': [0.0054294074411],\n",
       "  'Mu_Z': [0.12646974628],\n",
       "  '|Mu_Intra|': [0.13612711102],\n",
       "  '|Mu_Bond|': [0.0052658288558],\n",
       "  '|Mu|': [0.13087489122],\n",
       "  'Q_XX': [-0.13873796233],\n",
       "  'Q_XY': [-0.0062782716743],\n",
       "  'Q_XZ': [-0.1898505352],\n",
       "  'Q_YY': [-0.18140524356],\n",
       "  'Q_YZ': [-0.0025813792369],\n",
       "  'Q_ZZ': [0.32014320588],\n",
       "  'R+2': [1.5760502994],\n",
       "  'R+1': [1.0872108466],\n",
       "  'Vol': [47.250973713],\n",
       "  'quadContrib': {'Q_xx': [0.13096050139647952],\n",
       "   'Q_xy': [0.002262317955121567],\n",
       "   'Q_xz': [0.12400130973190954],\n",
       "   'Q_yy': [0.17418474927919847],\n",
       "   'Q_yz': [-0.017249037985638826],\n",
       "   'Q_zz': [-0.30514525067567794]}},\n",
       " 'C4': {'xyz': array([ 1.04295497, -2.2175766 ,  1.45408869]),\n",
       "  'q': [0.0384287295],\n",
       "  'K': [37.774070864],\n",
       "  'K_Scaled': [-37.988318907],\n",
       "  'Mu_Intra_X': [-0.020280307261],\n",
       "  'Mu_Intra_Y': [0.059539512195],\n",
       "  'Mu_Intra_Z': [-0.027930630925],\n",
       "  'Mu_Bond_X': [0.029816012771],\n",
       "  'Mu_Bond_Y': [-0.051660862823],\n",
       "  'Mu_Bond_Z': [0.041572794172],\n",
       "  'Mu_X': [0.0095357055097],\n",
       "  'Mu_Y': [0.0078786493722],\n",
       "  'Mu_Z': [0.013642163247],\n",
       "  '|Mu_Intra|': [0.068821250489],\n",
       "  '|Mu_Bond|': [0.072705822191],\n",
       "  '|Mu|': [0.018414977968],\n",
       "  'Q_XX': [-0.085070558287],\n",
       "  'Q_XY': [-0.056471825266],\n",
       "  'Q_XZ': [0.066721468916],\n",
       "  'Q_YY': [0.12403545295],\n",
       "  'Q_YZ': [-0.076861756944],\n",
       "  'Q_ZZ': [-0.038964894661],\n",
       "  'R+2': [8.9881283477],\n",
       "  'R+1': [5.9792243724],\n",
       "  'Vol': [68.596909344],\n",
       "  'quadContrib': {'Q_xx': [-0.005505880249819128],\n",
       "   'Q_xy': [-0.0009494888760028623],\n",
       "   'Q_xz': [0.03284967924492894],\n",
       "   'Q_yy': [-0.012832057185101498],\n",
       "   'Q_yz': [-0.001533026927588662],\n",
       "   'Q_zz': [0.018337937434921514]}},\n",
       " 'H5': {'xyz': array([ 0.41988203, -3.97969141,  0.58540125]),\n",
       "  'q': [-0.0008940814],\n",
       "  'K': [0.61931649347],\n",
       "  'K_Scaled': [-0.62282915027],\n",
       "  'Mu_Intra_X': [0.042345924016],\n",
       "  'Mu_Intra_Y': [0.11738503949],\n",
       "  'Mu_Intra_Z': [0.059024512969],\n",
       "  'Mu_Bond_X': [0.00020930465695],\n",
       "  'Mu_Bond_Y': [0.00060301900072],\n",
       "  'Mu_Bond_Z': [0.00029180705994],\n",
       "  'Mu_X': [0.042555228673],\n",
       "  'Mu_Y': [0.11798805849],\n",
       "  'Mu_Z': [0.059316320029],\n",
       "  '|Mu_Intra|': [0.13804462289],\n",
       "  '|Mu_Bond|': [0.00070184878349],\n",
       "  '|Mu|': [0.13874637024],\n",
       "  'Q_XX': [-0.16192023183],\n",
       "  'Q_XY': [0.16201292263],\n",
       "  'Q_XZ': [0.096207567303],\n",
       "  'Q_YY': [0.25867396603],\n",
       "  'Q_YZ': [0.22588188324],\n",
       "  'Q_ZZ': [-0.096753734203],\n",
       "  'R+2': [1.6500975448],\n",
       "  'R+1': [1.1151057998],\n",
       "  'Vol': [48.753248135],\n",
       "  'quadContrib': {'Q_xx': [0.3942794550075273],\n",
       "   'Q_xy': [-0.09560628496130298],\n",
       "   'Q_xz': [0.12213316997548726],\n",
       "   'Q_yy': [-0.8712371980796545],\n",
       "   'Q_yz': [-0.13320762206027667],\n",
       "   'Q_zz': [0.4769577430721272]}},\n",
       " 'H6': {'xyz': array([ 3.10104624, -2.18389601,  1.45417562]),\n",
       "  'q': [0.00561404406],\n",
       "  'K': [0.61938934942],\n",
       "  'K_Scaled': [-0.62290241944],\n",
       "  'Mu_Intra_X': [-0.13781556391],\n",
       "  'Mu_Intra_Y': [0.0077648173301],\n",
       "  'Mu_Intra_Z': [-0.0025797335228],\n",
       "  'Mu_Bond_X': [0.0042434796535],\n",
       "  'Mu_Bond_Y': [5.0255645705e-05],\n",
       "  'Mu_Bond_Z': [2.299555379e-05],\n",
       "  'Mu_X': [-0.13357208426],\n",
       "  'Mu_Y': [0.0078150729758],\n",
       "  'Mu_Z': [-0.002556737969],\n",
       "  '|Mu_Intra|': [0.13805823796],\n",
       "  '|Mu_Bond|': [0.0042438395345],\n",
       "  '|Mu|': [0.13382493776],\n",
       "  'Q_XX': [0.41717136115],\n",
       "  'Q_XY': [0.027279131337],\n",
       "  'Q_XZ': [-0.0059424430709],\n",
       "  'Q_YY': [-0.19605851212],\n",
       "  'Q_YZ': [-0.018065522878],\n",
       "  'Q_ZZ': [-0.22111284903],\n",
       "  'R+2': [1.6202474627],\n",
       "  'R+1': [1.1021502277],\n",
       "  'Vol': [48.394896244],\n",
       "  'quadContrib': {'Q_xx': [-0.5907864863045202],\n",
       "   'Q_xy': [0.4441899301356668],\n",
       "   'Q_xz': [-0.2776085711492382],\n",
       "   'Q_yy': [0.29302559345017387],\n",
       "   'Q_yz': [-0.010388199788463785],\n",
       "   'Q_zz': [0.2977608928543466]}},\n",
       " 'H7': {'xyz': array([ 0.38320055, -2.18389601,  3.40356872]),\n",
       "  'q': [0.00561601176],\n",
       "  'K': [0.61938428724],\n",
       "  'K_Scaled': [-0.62289732854],\n",
       "  'Mu_Intra_X': [0.041750930753],\n",
       "  'Mu_Intra_Y': [0.0077661422419],\n",
       "  'Mu_Intra_Z': [-0.131382333],\n",
       "  'Mu_Bond_X': [-0.0013391734037],\n",
       "  'Mu_Bond_Y': [5.0278825999e-05],\n",
       "  'Mu_Bond_Z': [0.0040282808598],\n",
       "  'Mu_X': [0.040411757349],\n",
       "  'Mu_Y': [0.0078164210679],\n",
       "  'Mu_Z': [-0.12735405214],\n",
       "  '|Mu_Intra|': [0.13807523532],\n",
       "  '|Mu_Bond|': [0.0042453456927],\n",
       "  '|Mu|': [0.13384043173],\n",
       "  'Q_XX': [-0.15197287198],\n",
       "  'Q_XY': [-0.025847693051],\n",
       "  'Q_XZ': [-0.19855834492],\n",
       "  'Q_YY': [-0.19601235589],\n",
       "  'Q_YZ': [0.020039377037],\n",
       "  'Q_ZZ': [0.34798522787],\n",
       "  'R+2': [1.6202846815],\n",
       "  'R+1': [1.1021576813],\n",
       "  'Vol': [48.394872485],\n",
       "  'quadContrib': {'Q_xx': [0.37504420446625614],\n",
       "   'Q_xy': [-0.15227920719132795],\n",
       "   'Q_xz': [0.04934241619887794],\n",
       "   'Q_yy': [0.2930867016215207],\n",
       "   'Q_yz': [0.4174405548300284],\n",
       "   'Q_zz': [-0.6681309060877767]}},\n",
       " 'F8': {'xyz': array([0.78702936, 2.24484913, 1.09727873]),\n",
       "  'q': [-0.6807277277],\n",
       "  'K': [99.770660032],\n",
       "  'K_Scaled': [-100.33654208],\n",
       "  'Mu_Intra_X': [0.077369444388],\n",
       "  'Mu_Intra_Y': [0.22116634429],\n",
       "  'Mu_Intra_Z': [0.10786921159],\n",
       "  'Mu_Bond_X': [-0.35901288827],\n",
       "  'Mu_Bond_Y': [-1.0228705244],\n",
       "  'Mu_Bond_Z': [-0.50054215298],\n",
       "  'Mu_X': [-0.28164344388],\n",
       "  'Mu_Y': [-0.80170418013],\n",
       "  'Mu_Z': [-0.39267294139],\n",
       "  '|Mu_Intra|': [0.25794640835],\n",
       "  '|Mu_Bond|': [1.1940254648],\n",
       "  '|Mu|': [0.93607940946],\n",
       "  'Q_XX': [-0.19000280741],\n",
       "  'Q_XY': [0.16417311668],\n",
       "  'Q_XZ': [0.093561463023],\n",
       "  'Q_YY': [0.31660192195],\n",
       "  'Q_YZ': [0.2288195482],\n",
       "  'Q_ZZ': [-0.12659911453],\n",
       "  'R+2': [11.703243965],\n",
       "  'R+1': [8.7500471334],\n",
       "  'Vol': [107.62087785],\n",
       "  'quadContrib': {'Q_xx': [1.1152988020174046],\n",
       "   'Q_xy': [-1.2003187293457778],\n",
       "   'Q_xz': [-0.5803362211694066],\n",
       "   'Q_yy': [-1.8377754842694705],\n",
       "   'Q_yz': [-1.6735219262793044],\n",
       "   'Q_zz': [0.722476682252065]}}}"
      ]
     },
     "execution_count": 5,
     "metadata": {},
     "output_type": "execute_result"
    }
   ],
   "source": [
    "negXAtomLabel = molecule_xyz['Atoms'][2-1]\n",
    "sumFile = open('SubCH3_CFH2_anti2146_reor'+\".sum\",\"r\") #open file, read lines, close file\n",
    "data = sumFile.readlines()\n",
    "sumFile.close()\n",
    "atomDict = qt.get_atomic_props(data)\n",
    "atomDict"
   ]
  },
  {
   "cell_type": "code",
   "execution_count": 4,
   "metadata": {},
   "outputs": [],
   "source": [
    "# sr._get_ref_bcps('SubH_CFHCH3_reor_wb97xd_aug-cc-pvtz',[['C1','H3'],['C1','C4'],['C1','F8']],originAtom='C1')\n",
    "atType = ''.join([i for i in 'As1' if not i.isdigit()])\n",
    "atType\n",
    "sumFile = open('SubH_AsO-C6H5-2_wb97xd_aug-cc-pvtz'+\".sum\",'r')\n",
    "data = sumFile.readlines()\n",
    "sumFile.close()\n",
    "atomDict = qt.get_atomic_props(data)"
   ]
  },
  {
   "cell_type": "code",
   "execution_count": 24,
   "metadata": {},
   "outputs": [
    {
     "data": {
      "text/plain": [
       "{'C14-As1': {'xyz': array([ 0.        , -1.22029984, -0.63095572]),\n",
       "  'rho': [0.15290533046],\n",
       "  'lambda1': [-0.2081819311],\n",
       "  'lambda2': [-0.19345355996],\n",
       "  'lambda3': [0.29148410764],\n",
       "  'DelSqRho': [-0.11015138342],\n",
       "  'Ellipticity': [0.076133885246],\n",
       "  'V': [-0.17413690547],\n",
       "  'G': [0.073299529808],\n",
       "  'H': [-0.10083737566199999]},\n",
       " 'As1-O25': {'xyz': array([ 0.        , -3.44111487, -0.31160667]),\n",
       "  'rho': [0.22384375416],\n",
       "  'lambda1': [-0.3322117103],\n",
       "  'lambda2': [-0.33056191378],\n",
       "  'lambda3': [1.3368750801],\n",
       "  'DelSqRho': [0.67410145607],\n",
       "  'Ellipticity': [0.0049908850692],\n",
       "  'V': [-0.51474604998],\n",
       "  'G': [0.341635707],\n",
       "  'H': [-0.17311034297999994]}}"
      ]
     },
     "execution_count": 24,
     "metadata": {},
     "output_type": "execute_result"
    }
   ],
   "source": [
    "sr._find_bcp_match(data,atomDict['As1']['xyz'],'H2','As1')"
   ]
  },
  {
   "cell_type": "code",
   "execution_count": 6,
   "metadata": {},
   "outputs": [],
   "source": [
    "# outFrame = pd.DataFrame(final_orientation*0.529177,columns = ['x','y','z'])\n",
    "# outFrame['Atom'] = molecule_xyz['Atoms']\n",
    "# outFrame = outFrame[['Atom','x','y','z']]\n",
    "# with open('SubCH3_CFH2_anti2146_reor'+'reor.txt','w') as txt_file:\n",
    "#     of_string = outFrame.to_string(header=False,index=False)\n",
    "#     txt_file.write(of_string)\n",
    "bcpPropDict = {}\n",
    "origin_bcps = qt._find_connected(data,'H2','As1')\n",
    "for bcp in origin_bcps:\n",
    "        #bcpBlock = qt.lock()\n",
    "        bcpPropDict.update({bcp[0]+'-'+bcp[1]: qt.get_bcp_properties(data,atPair=bcp)})\n",
    "sr._find_clockwise_rot(bcpPropDict,'As1',atomDict['As1']['xyz'])"
   ]
  },
  {
   "cell_type": "code",
   "execution_count": 40,
   "metadata": {},
   "outputs": [],
   "source": [
    "import numpy as np\n",
    "originAtomLabel  =\"As1\"\n",
    "negXAtomLabel=\"H2\"\n",
    "\n",
    "originAtomXYZ = atomDict['As1']['xyz']\n",
    "atoms = list(atomDict.keys())\n",
    "neg_x_index = atoms.index(negXAtomLabel)\n",
    "crossDict = {}\n",
    "for key1 in bcpPropDict:\n",
    "    # print(key1)\n",
    "    for key2 in bcpPropDict:\n",
    "        # print(key2)\n",
    "        if key1 != key2:\n",
    "            to_rotate = np.vstack((originAtomXYZ,atomDict[negXAtomLabel]['xyz'],bcpPropDict[key1]['xyz'],bcpPropDict[key2]['xyz']))\n",
    "            orig_geom = sr._set_origin(to_rotate,1)\n",
    "            rot_geom = sr._set_xaxis(orig_geom,neg_x_index+1)\n",
    "            zero_3d = np.array([0.0,0.0,0.0])\n",
    "            bcp_1_xyz = rot_geom[2]\n",
    "            bcp_2_xyz = rot_geom[3]\n",
    "            bcp_2_xyz[0] = 0.\n",
    "            bcp_1_xyz[0] = 0.\n",
    "            cross=np.cross(bcp_1_xyz,bcp_2_xyz)[0]\n",
    "            if cross < 0:\n",
    "                isClockwise = True\n",
    "            else:\n",
    "                isClockwise = False\n",
    "            if isClockwise:\n",
    "                tempDict={'Is Clockwise':isClockwise,'cross':cross}\n",
    "                bondAt1 = key1.replace(originAtomLabel+'-','')\n",
    "                bondAt1 = bondAt1.replace('-'+originAtomLabel,'')\n",
    "                bondAt2 = key2.replace(originAtomLabel+'-','')\n",
    "                bondAt2 = bondAt2.replace('-'+originAtomLabel,'')\n",
    "                crossDict.update({bondAt1 + '-To-' + bondAt2:tempDict})"
   ]
  },
  {
   "cell_type": "code",
   "execution_count": 42,
   "metadata": {},
   "outputs": [],
   "source": [
    "orderDict= {}                \n",
    "for cw in crossDict:\n",
    "    string = cw.split('-')\n",
    "    start = string[0]\n",
    "    end = string[2]\n",
    "    orderDict.update({cw:{'Start':start,'End':end}})\n",
    "keysList = list(orderDict.keys())\n",
    "if len(keysList) == 3:\n",
    "    if orderDict[keysList[0]]['End'] != orderDict[keysList[1]]['Start'] and orderDict[keysList[0]]['End'] == orderDict[keysList[2]]['Start']:\n",
    "        reordered_dict = {k : orderDict[k] for k in [keysList[0],keysList[2],keysList[1]]}\n",
    "    else:\n",
    "        reordered_dict = orderDict\n",
    "    ordered_bcp_props = {}\n",
    "    for order in reordered_dict:\n",
    "        for bcp in bcpPropDict:\n",
    "            # print(bcp)\n",
    "            if reordered_dict[order]['Start'] in bcp:\n",
    "                ordered_bcp_props.update({bcp:bcpPropDict[bcp]})\n",
    "                continue\n",
    "else:\n",
    "    ordered_bcp_props = bcpPropDict"
   ]
  },
  {
   "cell_type": "code",
   "execution_count": 2,
   "metadata": {},
   "outputs": [
    {
     "data": {
      "text/html": [
       "<div>\n",
       "<style scoped>\n",
       "    .dataframe tbody tr th:only-of-type {\n",
       "        vertical-align: middle;\n",
       "    }\n",
       "\n",
       "    .dataframe tbody tr th {\n",
       "        vertical-align: top;\n",
       "    }\n",
       "\n",
       "    .dataframe thead th {\n",
       "        text-align: right;\n",
       "    }\n",
       "</style>\n",
       "<table border=\"1\" class=\"dataframe\">\n",
       "  <thead>\n",
       "    <tr style=\"text-align: right;\">\n",
       "      <th></th>\n",
       "      <th>Atom</th>\n",
       "      <th>x</th>\n",
       "      <th>y</th>\n",
       "      <th>z</th>\n",
       "    </tr>\n",
       "  </thead>\n",
       "  <tbody>\n",
       "    <tr>\n",
       "      <th>0</th>\n",
       "      <td>As1</td>\n",
       "      <td>0.000000</td>\n",
       "      <td>0.000000e+00</td>\n",
       "      <td>0.000000e+00</td>\n",
       "    </tr>\n",
       "    <tr>\n",
       "      <th>1</th>\n",
       "      <td>H2</td>\n",
       "      <td>-1.517390</td>\n",
       "      <td>3.561411e-18</td>\n",
       "      <td>-4.954641e-18</td>\n",
       "    </tr>\n",
       "    <tr>\n",
       "      <th>2</th>\n",
       "      <td>C3</td>\n",
       "      <td>0.478976</td>\n",
       "      <td>4.746434e-01</td>\n",
       "      <td>-1.808002e+00</td>\n",
       "    </tr>\n",
       "    <tr>\n",
       "      <th>3</th>\n",
       "      <td>C4</td>\n",
       "      <td>1.219875</td>\n",
       "      <td>1.634113e+00</td>\n",
       "      <td>-1.988086e+00</td>\n",
       "    </tr>\n",
       "    <tr>\n",
       "      <th>4</th>\n",
       "      <td>C5</td>\n",
       "      <td>0.114267</td>\n",
       "      <td>-3.050532e-01</td>\n",
       "      <td>-2.898456e+00</td>\n",
       "    </tr>\n",
       "    <tr>\n",
       "      <th>5</th>\n",
       "      <td>C6</td>\n",
       "      <td>1.592125</td>\n",
       "      <td>2.016978e+00</td>\n",
       "      <td>-3.268401e+00</td>\n",
       "    </tr>\n",
       "    <tr>\n",
       "      <th>6</th>\n",
       "      <td>H7</td>\n",
       "      <td>1.502410</td>\n",
       "      <td>2.221365e+00</td>\n",
       "      <td>-1.123553e+00</td>\n",
       "    </tr>\n",
       "    <tr>\n",
       "      <th>7</th>\n",
       "      <td>C8</td>\n",
       "      <td>0.487552</td>\n",
       "      <td>8.212875e-02</td>\n",
       "      <td>-4.175109e+00</td>\n",
       "    </tr>\n",
       "    <tr>\n",
       "      <th>8</th>\n",
       "      <td>H9</td>\n",
       "      <td>-0.450130</td>\n",
       "      <td>-1.218942e+00</td>\n",
       "      <td>-2.759726e+00</td>\n",
       "    </tr>\n",
       "    <tr>\n",
       "      <th>9</th>\n",
       "      <td>C10</td>\n",
       "      <td>1.225286</td>\n",
       "      <td>1.243452e+00</td>\n",
       "      <td>-4.358734e+00</td>\n",
       "    </tr>\n",
       "    <tr>\n",
       "      <th>10</th>\n",
       "      <td>H11</td>\n",
       "      <td>2.170332</td>\n",
       "      <td>2.919112e+00</td>\n",
       "      <td>-3.413424e+00</td>\n",
       "    </tr>\n",
       "    <tr>\n",
       "      <th>11</th>\n",
       "      <td>H12</td>\n",
       "      <td>0.207059</td>\n",
       "      <td>-5.228895e-01</td>\n",
       "      <td>-5.026318e+00</td>\n",
       "    </tr>\n",
       "    <tr>\n",
       "      <th>12</th>\n",
       "      <td>H13</td>\n",
       "      <td>1.517171</td>\n",
       "      <td>1.543324e+00</td>\n",
       "      <td>-5.356002e+00</td>\n",
       "    </tr>\n",
       "    <tr>\n",
       "      <th>13</th>\n",
       "      <td>C14</td>\n",
       "      <td>0.417931</td>\n",
       "      <td>-1.867472e+00</td>\n",
       "      <td>2.160341e-01</td>\n",
       "    </tr>\n",
       "    <tr>\n",
       "      <th>14</th>\n",
       "      <td>C15</td>\n",
       "      <td>-0.443344</td>\n",
       "      <td>-2.858855e+00</td>\n",
       "      <td>-2.357669e-01</td>\n",
       "    </tr>\n",
       "    <tr>\n",
       "      <th>15</th>\n",
       "      <td>C16</td>\n",
       "      <td>1.618988</td>\n",
       "      <td>-2.205275e+00</td>\n",
       "      <td>8.254203e-01</td>\n",
       "    </tr>\n",
       "    <tr>\n",
       "      <th>16</th>\n",
       "      <td>C17</td>\n",
       "      <td>-0.095678</td>\n",
       "      <td>-4.193110e+00</td>\n",
       "      <td>-9.055847e-02</td>\n",
       "    </tr>\n",
       "    <tr>\n",
       "      <th>17</th>\n",
       "      <td>H18</td>\n",
       "      <td>-1.391929</td>\n",
       "      <td>-2.598541e+00</td>\n",
       "      <td>-6.902678e-01</td>\n",
       "    </tr>\n",
       "    <tr>\n",
       "      <th>18</th>\n",
       "      <td>C19</td>\n",
       "      <td>1.961876</td>\n",
       "      <td>-3.540336e+00</td>\n",
       "      <td>9.702793e-01</td>\n",
       "    </tr>\n",
       "    <tr>\n",
       "      <th>19</th>\n",
       "      <td>H20</td>\n",
       "      <td>2.269767</td>\n",
       "      <td>-1.423164e+00</td>\n",
       "      <td>1.195018e+00</td>\n",
       "    </tr>\n",
       "    <tr>\n",
       "      <th>20</th>\n",
       "      <td>C21</td>\n",
       "      <td>1.107809</td>\n",
       "      <td>-4.531798e+00</td>\n",
       "      <td>5.097327e-01</td>\n",
       "    </tr>\n",
       "    <tr>\n",
       "      <th>21</th>\n",
       "      <td>H22</td>\n",
       "      <td>-0.765839</td>\n",
       "      <td>-4.966947e+00</td>\n",
       "      <td>-4.387884e-01</td>\n",
       "    </tr>\n",
       "    <tr>\n",
       "      <th>22</th>\n",
       "      <td>H23</td>\n",
       "      <td>2.894837</td>\n",
       "      <td>-3.807662e+00</td>\n",
       "      <td>1.446954e+00</td>\n",
       "    </tr>\n",
       "    <tr>\n",
       "      <th>23</th>\n",
       "      <td>H24</td>\n",
       "      <td>1.377387</td>\n",
       "      <td>-5.572649e+00</td>\n",
       "      <td>6.256928e-01</td>\n",
       "    </tr>\n",
       "    <tr>\n",
       "      <th>24</th>\n",
       "      <td>O25</td>\n",
       "      <td>0.707008</td>\n",
       "      <td>9.776043e-01</td>\n",
       "      <td>1.095005e+00</td>\n",
       "    </tr>\n",
       "  </tbody>\n",
       "</table>\n",
       "</div>"
      ],
      "text/plain": [
       "   Atom         x             y             z\n",
       "0   As1  0.000000  0.000000e+00  0.000000e+00\n",
       "1    H2 -1.517390  3.561411e-18 -4.954641e-18\n",
       "2    C3  0.478976  4.746434e-01 -1.808002e+00\n",
       "3    C4  1.219875  1.634113e+00 -1.988086e+00\n",
       "4    C5  0.114267 -3.050532e-01 -2.898456e+00\n",
       "5    C6  1.592125  2.016978e+00 -3.268401e+00\n",
       "6    H7  1.502410  2.221365e+00 -1.123553e+00\n",
       "7    C8  0.487552  8.212875e-02 -4.175109e+00\n",
       "8    H9 -0.450130 -1.218942e+00 -2.759726e+00\n",
       "9   C10  1.225286  1.243452e+00 -4.358734e+00\n",
       "10  H11  2.170332  2.919112e+00 -3.413424e+00\n",
       "11  H12  0.207059 -5.228895e-01 -5.026318e+00\n",
       "12  H13  1.517171  1.543324e+00 -5.356002e+00\n",
       "13  C14  0.417931 -1.867472e+00  2.160341e-01\n",
       "14  C15 -0.443344 -2.858855e+00 -2.357669e-01\n",
       "15  C16  1.618988 -2.205275e+00  8.254203e-01\n",
       "16  C17 -0.095678 -4.193110e+00 -9.055847e-02\n",
       "17  H18 -1.391929 -2.598541e+00 -6.902678e-01\n",
       "18  C19  1.961876 -3.540336e+00  9.702793e-01\n",
       "19  H20  2.269767 -1.423164e+00  1.195018e+00\n",
       "20  C21  1.107809 -4.531798e+00  5.097327e-01\n",
       "21  H22 -0.765839 -4.966947e+00 -4.387884e-01\n",
       "22  H23  2.894837 -3.807662e+00  1.446954e+00\n",
       "23  H24  1.377387 -5.572649e+00  6.256928e-01\n",
       "24  O25  0.707008  9.776043e-01  1.095005e+00"
      ]
     },
     "execution_count": 2,
     "metadata": {},
     "output_type": "execute_result"
    }
   ],
   "source": [
    "sr.rotate_substituent('SubH_AsO-C6H5-2_wb97xd_aug-cc-pvtz',1,2)"
   ]
  },
  {
   "cell_type": "code",
   "execution_count": 35,
   "metadata": {},
   "outputs": [
    {
     "data": {
      "text/plain": [
       "array([-1.36577277,  1.0509418 ,  0.34688541])"
      ]
     },
     "execution_count": 35,
     "metadata": {},
     "output_type": "execute_result"
    }
   ],
   "source": [
    "np.subtract(bcpPropDict['As1-C3']['xyz'],originAtomXYZ)"
   ]
  },
  {
   "cell_type": "code",
   "execution_count": 12,
   "metadata": {},
   "outputs": [],
   "source": [
    "# sr._get_ref_bcps('SubH_NHOCH3_wb97xd_aug-cc-pvtz_reor',[['N1','H3'],['N1','O4'],['N1','C5']],originAtom='N1')"
   ]
  },
  {
   "cell_type": "code",
   "execution_count": 13,
   "metadata": {},
   "outputs": [],
   "source": [
    "# sr._get_ref_bcps('SubH_POCH3H_wb97xd_aug-cc-pvtz_reor',[['P1','H3'],['P1','O4'],['P1','C5']],originAtom='P1')"
   ]
  },
  {
   "cell_type": "code",
   "execution_count": 14,
   "metadata": {},
   "outputs": [],
   "source": [
    "# sr._get_ref_bcps('SubH_SiFHCH3_wb97xd_augccpvtz_reor',[['Si1','H3'],['Si1','C4'],['Si1','F8']],originAtom='Si1')"
   ]
  },
  {
   "cell_type": "code",
   "execution_count": 15,
   "metadata": {},
   "outputs": [],
   "source": [
    "# sr._get_ref_bcps('SubH_Si2H3_wb97xd_augccpvtz_reor',[['Si1','H3'],['Si1','NNA7']],originAtom='Si1')"
   ]
  },
  {
   "cell_type": "code",
   "execution_count": 4,
   "metadata": {},
   "outputs": [
    {
     "data": {
      "text/plain": [
       "{'Se1-C3': {'xyz': array([ 0.        ,  1.87292349, -0.00307118]),\n",
       "  'rho': [0.17121305614],\n",
       "  'lambda1': [-0.25262510465],\n",
       "  'lambda2': [-0.2431461396],\n",
       "  'lambda3': [0.2389715708],\n",
       "  'DelSqRho': [-0.25679967346],\n",
       "  'Ellipticity': [0.038984641362],\n",
       "  'V': [-0.15993907718],\n",
       "  'G': [0.047869579409],\n",
       "  'H': [-0.112069497771]},\n",
       " 'Se1-O7': {'xyz': array([ 0.        , -0.57902732, -1.28338305]),\n",
       "  'rho': [0.24929577115],\n",
       "  'lambda1': [-0.36655764455],\n",
       "  'lambda2': [-0.35856712454],\n",
       "  'lambda3': [1.146100412],\n",
       "  'DelSqRho': [0.42097564287],\n",
       "  'Ellipticity': [0.02228458625],\n",
       "  'V': [-0.5649563289],\n",
       "  'G': [0.33510011981],\n",
       "  'H': [-0.22985620909000004]},\n",
       " 'Se1-N8': {'xyz': array([ 0.        , -0.48606581,  1.35825466]),\n",
       "  'rho': [0.22878600385],\n",
       "  'lambda1': [-0.33066658688],\n",
       "  'lambda2': [-0.27699185612],\n",
       "  'lambda3': [0.59441734467],\n",
       "  'DelSqRho': [-0.013241098322],\n",
       "  'Ellipticity': [0.19377728828],\n",
       "  'V': [-0.39582039171],\n",
       "  'G': [0.19625505856],\n",
       "  'H': [-0.19956533315]}}"
      ]
     },
     "execution_count": 4,
     "metadata": {},
     "output_type": "execute_result"
    }
   ],
   "source": [
    "sr._get_ref_bcps('SubH_SeMeONH_wb97xd_aug-cc-pvtz_reor',[['Se1','C3'],['Se1','N8'],['Se1','O7']],originAtom='Se1')"
   ]
  },
  {
   "cell_type": "code",
   "execution_count": 5,
   "metadata": {},
   "outputs": [
    {
     "data": {
      "text/plain": [
       "{'N1-C3': {'xyz': array([ 0.00000000e+00, -1.39542332e+00, -1.63761637e-04]),\n",
       "  'rho': [0.32693718717],\n",
       "  'lambda1': [-0.75650210621],\n",
       "  'lambda2': [-0.675516979],\n",
       "  'lambda3': [0.5041288038],\n",
       "  'DelSqRho': [-0.92789028141],\n",
       "  'Ellipticity': [0.11988614606],\n",
       "  'V': [-0.72612870727],\n",
       "  'G': [0.24707806846],\n",
       "  'H': [-0.47905063881]},\n",
       " 'N1-H6': {'xyz': array([ 0.00000000e+00,  1.23859842e+00, -4.21801720e-07]),\n",
       "  'rho': [0.35030375012],\n",
       "  'lambda1': [-1.4125985037],\n",
       "  'lambda2': [-1.353382837],\n",
       "  'lambda3': [0.78134417668],\n",
       "  'DelSqRho': [-1.984637164],\n",
       "  'Ellipticity': [0.043753818271],\n",
       "  'V': [-0.6055145775],\n",
       "  'G': [0.054677643257],\n",
       "  'H': [-0.5508369342430001]}}"
      ]
     },
     "execution_count": 5,
     "metadata": {},
     "output_type": "execute_result"
    }
   ],
   "source": [
    "sr._get_ref_bcps('SubH_NHCHO_wb97xd_aug-cc-pvtz_reor',[['N1','C3'],['N1','H6']],originAtom='N1')"
   ]
  },
  {
   "cell_type": "code",
   "execution_count": 6,
   "metadata": {},
   "outputs": [
    {
     "data": {
      "text/plain": [
       "{'As1-H3': {'xyz': array([0.00000000e+00, 1.66597311e+00, 2.92243050e-05]),\n",
       "  'rho': [0.16074222311],\n",
       "  'lambda1': [-0.26271292349],\n",
       "  'lambda2': [-0.26116539351],\n",
       "  'lambda3': [0.35756172744],\n",
       "  'DelSqRho': [-0.16631658956],\n",
       "  'Ellipticity': [0.0059254787141],\n",
       "  'V': [-0.2069227902],\n",
       "  'G': [0.082671821405],\n",
       "  'H': [-0.12425096879500001]},\n",
       " 'As1-S4': {'xyz': array([ 0.        , -1.00964501, -1.4050059 ]),\n",
       "  'rho': [0.14424198475],\n",
       "  'lambda1': [-0.13762345197],\n",
       "  'lambda2': [-0.13693770458],\n",
       "  'lambda3': [0.17612393365],\n",
       "  'DelSqRho': [-0.098437222899],\n",
       "  'Ellipticity': [0.0050077324652],\n",
       "  'V': [-0.15257163134],\n",
       "  'G': [0.063981162807],\n",
       "  'H': [-0.08859046853300001]},\n",
       " 'As1-C5': {'xyz': array([ 0.        , -0.48601905,  1.67157541]),\n",
       "  'rho': [0.14902610978],\n",
       "  'lambda1': [-0.19377250142],\n",
       "  'lambda2': [-0.19013450121],\n",
       "  'lambda3': [0.26002921052],\n",
       "  'DelSqRho': [-0.12387779211],\n",
       "  'Ellipticity': [0.019133824683],\n",
       "  'V': [-0.15906181002],\n",
       "  'G': [0.064046180998],\n",
       "  'H': [-0.095015629022]}}"
      ]
     },
     "execution_count": 6,
     "metadata": {},
     "output_type": "execute_result"
    }
   ],
   "source": [
    "sr._get_ref_bcps('SubH_AsSHMe_wb97xd_aug-cc-pvtz_reor',[['As1','H3'],['As1','C5'],['As1','S4']],originAtom='As1')"
   ]
  },
  {
   "cell_type": "code",
   "execution_count": 5,
   "metadata": {},
   "outputs": [],
   "source": [
    "amide_rot = sr.rotate_substituent('SubH_NHCHO_wb97xd_aug-cc-pvtz',1,2,6)\n",
    "sr.output_to_gjf('SubH_NHCHO_wb97xd_aug-cc-pvtz',amide_rot)"
   ]
  },
  {
   "cell_type": "code",
   "execution_count": 6,
   "metadata": {},
   "outputs": [],
   "source": [
    "se_rot = sr.rotate_substituent('SubH_SeOHMe_wb97xd_aug-cc-pvtz',1,7,2)\n",
    "sr.output_to_gjf('SubH_SeOHMe_wb97xd_aug-cc-pvtz',se_rot)"
   ]
  },
  {
   "cell_type": "code",
   "execution_count": 2,
   "metadata": {},
   "outputs": [],
   "source": [
    "ge_rot = sr.rotate_substituent('SubH_GeFHCH3_reor_wb97xd_aug-cc-pvtz',8,1,2)\n",
    "sr.output_to_gjf('SubH_GeFHCH3_reor_wb97xd_aug-cc-pvtz',ge_rot)"
   ]
  },
  {
   "cell_type": "code",
   "execution_count": 8,
   "metadata": {},
   "outputs": [],
   "source": [
    "as_rot = sr.rotate_substituent('SubH_AsSHMe_wb97xd_aug-cc-pvtz',1,2,3)\n",
    "sr.output_to_gjf('SubH_AsSHMe_wb97xd_aug-cc-pvtz',as_rot)"
   ]
  },
  {
   "cell_type": "code",
   "execution_count": 3,
   "metadata": {},
   "outputs": [],
   "source": [
    "se2_rot = sr.rotate_substituent('SubH_SeMeONH_wb97xd_aug-cc-pvtz',1,2,3)\n",
    "sr.output_to_gjf('SubH_SeMeONH_wb97xd_aug-cc-pvtz',se2_rot)"
   ]
  },
  {
   "cell_type": "code",
   "execution_count": 3,
   "metadata": {},
   "outputs": [],
   "source": [
    "s_rot = sr.rotate_substituent('SubH_SMeONH_wb97xd_aug-cc-pvtz',1,2,6)\n",
    "sr.output_to_gjf('SubH_SMeONH_wb97xd_aug-cc-pvtz',s_rot)"
   ]
  },
  {
   "cell_type": "code",
   "execution_count": 4,
   "metadata": {},
   "outputs": [
    {
     "name": "stdout",
     "output_type": "stream",
     "text": [
      "['Atom', 'Charge', 'X', 'Y', 'Z']\n"
     ]
    }
   ],
   "source": [
    "start_geom = qt.get_xyz('SubH_AlFH_wb97xd_aug-cc-pvtz')"
   ]
  },
  {
   "cell_type": "code",
   "execution_count": 9,
   "metadata": {},
   "outputs": [],
   "source": [
    "zero_orig = sr._set_origin(start_geom['xyz'],originAtom=1)"
   ]
  },
  {
   "cell_type": "code",
   "execution_count": 11,
   "metadata": {},
   "outputs": [
    {
     "name": "stdout",
     "output_type": "stream",
     "text": [
      "no way\n"
     ]
    }
   ],
   "source": [
    "neg_x = sr._set_xaxis(zero_orig,negXAtom=2)"
   ]
  },
  {
   "cell_type": "code",
   "execution_count": 12,
   "metadata": {},
   "outputs": [
    {
     "data": {
      "text/plain": [
       "array([[ 0.00000000e+00,  0.00000000e+00,  0.00000000e+00],\n",
       "       [-2.97307012e+00,  4.78467950e-49, -1.02646086e-16],\n",
       "       [ 1.75146130e+00,  3.24547159e-16, -2.40240073e+00],\n",
       "       [ 1.42224815e+00, -9.75941622e-33,  2.79697555e+00]])"
      ]
     },
     "execution_count": 12,
     "metadata": {},
     "output_type": "execute_result"
    }
   ],
   "source": [
    "neg_x"
   ]
  },
  {
   "cell_type": "code",
   "execution_count": 13,
   "metadata": {},
   "outputs": [
    {
     "data": {
      "text/plain": [
       "0    Al1\n",
       "1     H2\n",
       "2     H3\n",
       "3     F4\n",
       "Name: Atom, dtype: object"
      ]
     },
     "execution_count": 13,
     "metadata": {},
     "output_type": "execute_result"
    }
   ],
   "source": [
    "start_geom['Atoms']"
   ]
  },
  {
   "cell_type": "code",
   "execution_count": 18,
   "metadata": {},
   "outputs": [],
   "source": [
    "import numpy as np\n",
    "G = np.array([[1,0,0],[0,0,-1],[0,1,0]])"
   ]
  },
  {
   "cell_type": "code",
   "execution_count": 19,
   "metadata": {},
   "outputs": [
    {
     "data": {
      "text/plain": [
       "array([[ 1,  0,  0],\n",
       "       [ 0,  0, -1],\n",
       "       [ 0,  1,  0]])"
      ]
     },
     "execution_count": 19,
     "metadata": {},
     "output_type": "execute_result"
    }
   ],
   "source": [
    "G"
   ]
  },
  {
   "cell_type": "code",
   "execution_count": 20,
   "metadata": {},
   "outputs": [
    {
     "data": {
      "text/plain": [
       "array([[ 0.00000000e+00,  0.00000000e+00,  0.00000000e+00],\n",
       "       [-2.97307012e+00,  1.02646086e-16,  4.78467950e-49],\n",
       "       [ 1.75146130e+00,  2.40240073e+00,  3.24547159e-16],\n",
       "       [ 1.42224815e+00, -2.79697555e+00, -9.75941622e-33]])"
      ]
     },
     "execution_count": 20,
     "metadata": {},
     "output_type": "execute_result"
    }
   ],
   "source": []
  },
  {
   "cell_type": "code",
   "execution_count": 22,
   "metadata": {},
   "outputs": [
    {
     "data": {
      "text/html": [
       "<div>\n",
       "<style scoped>\n",
       "    .dataframe tbody tr th:only-of-type {\n",
       "        vertical-align: middle;\n",
       "    }\n",
       "\n",
       "    .dataframe tbody tr th {\n",
       "        vertical-align: top;\n",
       "    }\n",
       "\n",
       "    .dataframe thead th {\n",
       "        text-align: right;\n",
       "    }\n",
       "</style>\n",
       "<table border=\"1\" class=\"dataframe\">\n",
       "  <thead>\n",
       "    <tr style=\"text-align: right;\">\n",
       "      <th></th>\n",
       "      <th>0</th>\n",
       "      <th>1</th>\n",
       "      <th>2</th>\n",
       "    </tr>\n",
       "  </thead>\n",
       "  <tbody>\n",
       "    <tr>\n",
       "      <th>0</th>\n",
       "      <td>0.000000</td>\n",
       "      <td>0.000000e+00</td>\n",
       "      <td>0.000000e+00</td>\n",
       "    </tr>\n",
       "    <tr>\n",
       "      <th>1</th>\n",
       "      <td>-1.573280</td>\n",
       "      <td>5.431795e-17</td>\n",
       "      <td>2.531942e-49</td>\n",
       "    </tr>\n",
       "    <tr>\n",
       "      <th>2</th>\n",
       "      <td>0.926833</td>\n",
       "      <td>1.271295e+00</td>\n",
       "      <td>1.717429e-16</td>\n",
       "    </tr>\n",
       "    <tr>\n",
       "      <th>3</th>\n",
       "      <td>0.752621</td>\n",
       "      <td>-1.480095e+00</td>\n",
       "      <td>-5.164459e-33</td>\n",
       "    </tr>\n",
       "  </tbody>\n",
       "</table>\n",
       "</div>"
      ],
      "text/plain": [
       "          0             1             2\n",
       "0  0.000000  0.000000e+00  0.000000e+00\n",
       "1 -1.573280  5.431795e-17  2.531942e-49\n",
       "2  0.926833  1.271295e+00  1.717429e-16\n",
       "3  0.752621 -1.480095e+00 -5.164459e-33"
      ]
     },
     "execution_count": 22,
     "metadata": {},
     "output_type": "execute_result"
    }
   ],
   "source": [
    "pd.DataFrame(np.matmul(G, neg_x.T).T*0.529177)"
   ]
  },
  {
   "cell_type": "code",
   "execution_count": 3,
   "metadata": {},
   "outputs": [
    {
     "name": "stdout",
     "output_type": "stream",
     "text": [
      "didnt find first\n",
      "Al1-H3\n",
      "Al1-H3\n",
      "Al1-F4\n",
      "Al1-F4\n",
      "Al1-H3\n",
      "Al1-F4\n"
     ]
    },
    {
     "data": {
      "text/plain": [
       "{'Al1-H3': {'xyz': array([0.00000000e+00, 1.20114665e+00, 4.34070797e-16]),\n",
       "  'rho': [0.085283840331],\n",
       "  'lambda1': [-0.13023736244],\n",
       "  'lambda2': [-0.12418303897],\n",
       "  'lambda3': [0.5104021269],\n",
       "  'DelSqRho': [0.25598172549],\n",
       "  'Ellipticity': [0.048753223633],\n",
       "  'V': [-0.12032196192],\n",
       "  'G': [0.092158696644],\n",
       "  'H': [-0.028163265275999994]},\n",
       " 'Al1-F4': {'xyz': array([ 0.00000000e+00, -1.20452018e+00,  1.63687220e-16]),\n",
       "  'rho': [0.10796739991],\n",
       "  'lambda1': [-0.22563832606],\n",
       "  'lambda2': [-0.22151270398],\n",
       "  'lambda3': [1.4608614277],\n",
       "  'DelSqRho': [1.0137103977],\n",
       "  'Ellipticity': [0.01862476509],\n",
       "  'V': [-0.25888054711],\n",
       "  'G': [0.25615407326],\n",
       "  'H': [-0.002726473850000022]}}"
      ]
     },
     "execution_count": 3,
     "metadata": {},
     "output_type": "execute_result"
    }
   ],
   "source": [
    "sr._get_ref_bcps('SubH_AlFH_wb97xd_aug-cc-pvtz_reor',[['Al1','H3'],['Al1','F4']],'Al1')"
   ]
  },
  {
   "cell_type": "code",
   "execution_count": 5,
   "metadata": {},
   "outputs": [
    {
     "ename": "UnboundLocalError",
     "evalue": "cannot access local variable 'retDict' where it is not associated with a value",
     "output_type": "error",
     "traceback": [
      "\u001b[0;31m---------------------------------------------------------------------------\u001b[0m",
      "\u001b[0;31mUnboundLocalError\u001b[0m                         Traceback (most recent call last)",
      "Cell \u001b[0;32mIn[5], line 1\u001b[0m\n\u001b[0;32m----> 1\u001b[0m sr\u001b[39m.\u001b[39;49mrotate_substituent(\u001b[39m'\u001b[39;49m\u001b[39mSubH_AsO-C6H5-2_wb97xd_aug-cc-pvtz\u001b[39;49m\u001b[39m'\u001b[39;49m,\u001b[39m1\u001b[39;49m,\u001b[39m2\u001b[39;49m)\n",
      "File \u001b[0;32m~/Documents/SubstituentCoding/subproptools/subproptools/subreor.py:403\u001b[0m, in \u001b[0;36mrotate_substituent\u001b[0;34m(sumFileNoExt, originAtom, negXAtom, posYAtom)\u001b[0m\n\u001b[1;32m    401\u001b[0m     posYPoint \u001b[39m=\u001b[39m molecule_xaxis[posYAtom\u001b[39m-\u001b[39m\u001b[39m1\u001b[39m] \n\u001b[1;32m    402\u001b[0m \u001b[39melse\u001b[39;00m:    \n\u001b[0;32m--> 403\u001b[0m     posYPoint \u001b[39m=\u001b[39m _get_posy_point(sumFileNoExt,atomDict,attachedAtom,negXAtomLabel)\n\u001b[1;32m    404\u001b[0m \u001b[39mif\u001b[39;00m \u001b[39mlen\u001b[39m(posYPoint) \u001b[39m>\u001b[39m \u001b[39m0\u001b[39m:    \n\u001b[1;32m    405\u001b[0m     final_orientation \u001b[39m=\u001b[39m _set_yaxis(molecule_xaxis,posYPoint)\n",
      "File \u001b[0;32m~/Documents/SubstituentCoding/subproptools/subproptools/subreor.py:318\u001b[0m, in \u001b[0;36m_get_posy_point\u001b[0;34m(sumFileNoExt, atomDict, attachedAtom, negXAtomLabel, default_stats)\u001b[0m\n\u001b[1;32m    316\u001b[0m \u001b[39melse\u001b[39;00m:\n\u001b[1;32m    317\u001b[0m     atType \u001b[39m=\u001b[39m \u001b[39m'\u001b[39m\u001b[39m'\u001b[39m\u001b[39m.\u001b[39mjoin([i \u001b[39mfor\u001b[39;00m i \u001b[39min\u001b[39;00m attachedAtom \u001b[39mif\u001b[39;00m \u001b[39mnot\u001b[39;00m i\u001b[39m.\u001b[39misdigit()])\n\u001b[0;32m--> 318\u001b[0m     matchDict \u001b[39m=\u001b[39m _get_bcp_reference(atType,numBonds)\n\u001b[1;32m    319\u001b[0m     \u001b[39mif\u001b[39;00m default_stats:\n\u001b[1;32m    320\u001b[0m         statDict \u001b[39m=\u001b[39m _DEFAULT_STAT_DICT\n",
      "File \u001b[0;32m~/Documents/SubstituentCoding/subproptools/subproptools/subreor.py:77\u001b[0m, in \u001b[0;36m_get_bcp_reference\u001b[0;34m(originAtom, numBonds)\u001b[0m\n\u001b[1;32m     75\u001b[0m \u001b[39melif\u001b[39;00m originAtom \u001b[39m==\u001b[39m \u001b[39m'\u001b[39m\u001b[39mAs\u001b[39m\u001b[39m'\u001b[39m \u001b[39mand\u001b[39;00m numBonds \u001b[39m==\u001b[39m \u001b[39m4\u001b[39m:\n\u001b[1;32m     76\u001b[0m     retDict \u001b[39m=\u001b[39m _REFERENCE_MAP[\u001b[39m'\u001b[39m\u001b[39mAs\u001b[39m\u001b[39m'\u001b[39m][\u001b[39m'\u001b[39m\u001b[39msp3\u001b[39m\u001b[39m'\u001b[39m]        \n\u001b[0;32m---> 77\u001b[0m \u001b[39mreturn\u001b[39;00m retDict\n",
      "\u001b[0;31mUnboundLocalError\u001b[0m: cannot access local variable 'retDict' where it is not associated with a value"
     ]
    }
   ],
   "source": [
    "sr.rotate_substituent('SubH_AsO-C6H5-2_wb97xd_aug-cc-pvtz',1,2)"
   ]
  },
  {
   "cell_type": "code",
   "execution_count": 36,
   "metadata": {},
   "outputs": [
    {
     "ename": "TypeError",
     "evalue": "array() takes from 1 to 2 positional arguments but 3 were given",
     "output_type": "error",
     "traceback": [
      "\u001b[0;31m---------------------------------------------------------------------------\u001b[0m",
      "\u001b[0;31mTypeError\u001b[0m                                 Traceback (most recent call last)",
      "Cell \u001b[0;32mIn[36], line 1\u001b[0m\n\u001b[0;32m----> 1\u001b[0m np\u001b[39m.\u001b[39mvstack(np\u001b[39m.\u001b[39;49marray([\u001b[39m1\u001b[39;49m,\u001b[39m0\u001b[39;49m,\u001b[39m0\u001b[39;49m],[\u001b[39m0\u001b[39;49m,\u001b[39m1\u001b[39;49m,\u001b[39m0\u001b[39;49m],[\u001b[39m0\u001b[39;49m,\u001b[39m0\u001b[39;49m,\u001b[39m1\u001b[39;49m]))\n",
      "\u001b[0;31mTypeError\u001b[0m: array() takes from 1 to 2 positional arguments but 3 were given"
     ]
    }
   ],
   "source": [
    "np.vstack(np.array([1,0,0],[0,1,0],[0,0,1]))"
   ]
  },
  {
   "cell_type": "code",
   "execution_count": 3,
   "metadata": {},
   "outputs": [
    {
     "data": {
      "text/plain": [
       "{'Ge1-H3': {'xyz': array([0.63285749, 1.58759917, 0.00208131]),\n",
       "  'rho': [0.13950861934],\n",
       "  'lambda1': [-0.2238517257],\n",
       "  'lambda2': [-0.21714809643],\n",
       "  'lambda3': [0.44525117602],\n",
       "  'DelSqRho': [0.004251353896],\n",
       "  'Ellipticity': [0.030871232028],\n",
       "  'V': [-0.18643355305],\n",
       "  'G': [0.093748195763],\n",
       "  'H': [-0.092685357287]},\n",
       " 'Ge1-F8': {'xyz': array([ 0.41813183, -0.61659892, -1.38436273]),\n",
       "  'rho': [0.14029849101],\n",
       "  'lambda1': [-0.2372955179],\n",
       "  'lambda2': [-0.23697268425],\n",
       "  'lambda3': [1.2175270474],\n",
       "  'DelSqRho': [0.74325884528],\n",
       "  'Ellipticity': [0.0013623243216],\n",
       "  'V': [-0.30800281487],\n",
       "  'G': [0.24690876309],\n",
       "  'H': [-0.061094051779999964]},\n",
       " 'C4-Ge1': {'xyz': array([ 0.69530554, -1.02534523,  1.22952605]),\n",
       "  'rho': [0.13510538184],\n",
       "  'lambda1': [-0.17101376836],\n",
       "  'lambda2': [-0.16586123104],\n",
       "  'lambda3': [0.36947775438],\n",
       "  'DelSqRho': [0.032602754982],\n",
       "  'Ellipticity': [0.031065350768],\n",
       "  'V': [-0.16485750895],\n",
       "  'G': [0.08650409885],\n",
       "  'H': [-0.0783534101]}}"
      ]
     },
     "execution_count": 3,
     "metadata": {},
     "output_type": "execute_result"
    }
   ],
   "source": [
    "sr._get_ref_bcps('SubH_GeFHCH3_reor_wb97xd_aug-cc-pvtz_reor',[['Ge1','H3'],['C4','Ge1'],['Ge1','F8']],'Ge1','H2')"
   ]
  },
  {
   "cell_type": "code",
   "execution_count": 4,
   "metadata": {},
   "outputs": [
    {
     "data": {
      "text/plain": [
       "{'S1-N3': {'xyz': array([ 0.41409652, -0.40317651,  0.97579674]),\n",
       "  'rho': [0.29061950428],\n",
       "  'lambda1': [-0.47197082176],\n",
       "  'lambda2': [-0.38837775089],\n",
       "  'lambda3': [0.8453128352],\n",
       "  'DelSqRho': [-0.015035737458],\n",
       "  'Ellipticity': [0.21523650796],\n",
       "  'V': [-0.81533309495],\n",
       "  'G': [0.40578708029],\n",
       "  'H': [-0.40954601465999996]},\n",
       " 'S1-C6': {'xyz': array([0.29635447, 1.79135009, 0.00210556]),\n",
       "  'rho': [0.21337516588],\n",
       "  'lambda1': [-0.37287781693],\n",
       "  'lambda2': [-0.36051618073],\n",
       "  'lambda3': [0.28532870563],\n",
       "  'DelSqRho': [-0.44806529203],\n",
       "  'Ellipticity': [0.034288713947],\n",
       "  'V': [-0.20762767474],\n",
       "  'G': [0.047805675864],\n",
       "  'H': [-0.159821998876]},\n",
       " 'S1-O5': {'xyz': array([ 0.27136246, -0.43072436, -0.95096459]),\n",
       "  'rho': [0.29999597907],\n",
       "  'lambda1': [-0.5103763232],\n",
       "  'lambda2': [-0.48629716874],\n",
       "  'lambda3': [1.8841002159],\n",
       "  'DelSqRho': [0.88742672394],\n",
       "  'Ellipticity': [0.049515308766],\n",
       "  'V': [-1.0036074399],\n",
       "  'G': [0.61273206043],\n",
       "  'H': [-0.39087537946999995]}}"
      ]
     },
     "execution_count": 4,
     "metadata": {},
     "output_type": "execute_result"
    }
   ],
   "source": [
    "sr._get_ref_bcps('SubH_SMeONH_wb97xd_aug-cc-pvtz_reor',[['S1','N3'],['S1','C6'],['S1','O5']], 'S1', 'H2')"
   ]
  },
  {
   "cell_type": "code",
   "execution_count": null,
   "metadata": {},
   "outputs": [],
   "source": []
  }
 ],
 "metadata": {
  "kernelspec": {
   "display_name": "my-matplotlib-env",
   "language": "python",
   "name": "python3"
  },
  "language_info": {
   "codemirror_mode": {
    "name": "ipython",
    "version": 3
   },
   "file_extension": ".py",
   "mimetype": "text/x-python",
   "name": "python",
   "nbconvert_exporter": "python",
   "pygments_lexer": "ipython3",
   "version": "3.11.3"
  },
  "orig_nbformat": 4
 },
 "nbformat": 4,
 "nbformat_minor": 2
}
