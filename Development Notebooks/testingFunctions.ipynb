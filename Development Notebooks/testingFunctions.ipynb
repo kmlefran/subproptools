{
 "cells": [
  {
   "cell_type": "code",
   "execution_count": 1,
   "metadata": {},
   "outputs": [],
   "source": [
    "import sys\n",
    "sys.path.append(sys.path[0].replace('/Development Notebooks',''))\n",
    "from subproptools import qtaimExtract as qt\n",
    "from subproptools import subreor as sr\n",
    "import pandas as pd\n"
   ]
  },
  {
   "attachments": {},
   "cell_type": "markdown",
   "metadata": {},
   "source": [
    "# Summary\n",
    "\n",
    "Here, I'm going through the version of rotate_substituent fo subreor.py as of June 28 to try to see if the bcp mapping code works for one substituent, using a default stat dictionary (from transferability paper, SubH bcp data)"
   ]
  },
  {
   "cell_type": "code",
   "execution_count": 2,
   "metadata": {},
   "outputs": [
    {
     "name": "stdout",
     "output_type": "stream",
     "text": [
      "['Atom', 'Charge', 'X', 'Y', 'Z']\n"
     ]
    },
    {
     "data": {
      "text/plain": [
       "{'xyz': array([[ 0.        ,  0.        ,  0.        ],\n",
       "        [-2.0632465 ,  0.        ,  0.        ],\n",
       "        [ 0.6614873 ,  0.        , -1.954334  ],\n",
       "        [ 1.0429549 , -2.2175765 ,  1.4540887 ],\n",
       "        [ 0.41988203, -3.9796915 ,  0.58540124],\n",
       "        [ 3.1010463 , -2.183896  ,  1.4541756 ],\n",
       "        [ 0.38320056, -2.183896  ,  3.4035687 ],\n",
       "        [ 0.7870294 ,  2.2448492 ,  1.0972787 ]], dtype=float32),\n",
       " 'Atoms': 0    C1\n",
       " 1    H2\n",
       " 2    H3\n",
       " 3    C4\n",
       " 4    H5\n",
       " 5    H6\n",
       " 6    H7\n",
       " 7    F8\n",
       " Name: Atom, dtype: object}"
      ]
     },
     "execution_count": 2,
     "metadata": {},
     "output_type": "execute_result"
    }
   ],
   "source": [
    "molecule_xyz = qt.get_xyz('SubCH3_CFH2_anti2146_reor')\n",
    "molecule_xyz"
   ]
  },
  {
   "cell_type": "code",
   "execution_count": 3,
   "metadata": {},
   "outputs": [
    {
     "data": {
      "text/plain": [
       "array([[ 0.        ,  0.        ,  0.        ],\n",
       "       [-2.0632465 ,  0.        ,  0.        ],\n",
       "       [ 0.6614873 ,  0.        , -1.954334  ],\n",
       "       [ 1.0429549 , -2.2175765 ,  1.4540887 ],\n",
       "       [ 0.41988203, -3.9796915 ,  0.58540124],\n",
       "       [ 3.1010463 , -2.183896  ,  1.4541756 ],\n",
       "       [ 0.38320056, -2.183896  ,  3.4035687 ],\n",
       "       [ 0.7870294 ,  2.2448492 ,  1.0972787 ]], dtype=float32)"
      ]
     },
     "execution_count": 3,
     "metadata": {},
     "output_type": "execute_result"
    }
   ],
   "source": [
    "molecule_orig = sr._set_origin(molecule_xyz['xyz'],1)\n",
    "molecule_orig"
   ]
  },
  {
   "cell_type": "code",
   "execution_count": 4,
   "metadata": {},
   "outputs": [
    {
     "name": "stdout",
     "output_type": "stream",
     "text": [
      "here\n"
     ]
    },
    {
     "data": {
      "text/plain": [
       "array([[ 0.        ,  0.        ,  0.        ],\n",
       "       [-2.06324649,  0.        ,  0.        ],\n",
       "       [ 0.66148728,  0.        , -1.95433402],\n",
       "       [ 1.04295492, -2.2175765 ,  1.45408869],\n",
       "       [ 0.41988203, -3.97969151,  0.58540124],\n",
       "       [ 3.10104632, -2.18389606,  1.45417559],\n",
       "       [ 0.38320056, -2.18389606,  3.40356874],\n",
       "       [ 0.78702939,  2.24484921,  1.09727871]])"
      ]
     },
     "execution_count": 4,
     "metadata": {},
     "output_type": "execute_result"
    }
   ],
   "source": [
    "molecule_xaxis = sr._set_xaxis(molecule_orig,2)\n",
    "molecule_xaxis"
   ]
  },
  {
   "cell_type": "code",
   "execution_count": 5,
   "metadata": {},
   "outputs": [
    {
     "name": "stdout",
     "output_type": "stream",
     "text": [
      "['Atom', 'Charge', 'X', 'Y', 'Z']\n",
      "['Atom', 'q(A)', 'L(A)', 'K(A)', 'K_Scaled(A)', '|Mu_Intra(A)|']\n",
      "['Atom', 'Mu_Intra_X(A)', 'Mu_Bond_X(A)', 'Mu_X(A)']\n",
      "['Atom', 'Mu_Intra_Y(A)', 'Mu_Bond_Y(A)', 'Mu_Y(A)']\n",
      "['Atom', 'Mu_Intra_Z(A)', 'Mu_Bond_Z(A)', 'Mu_Z(A)']\n",
      "['Atom', '|Mu_Intra(A)|', '|Mu_Bond(A)|', '|Mu(A)|']\n",
      "['Atom', 'Q_XX(A)', 'Q_XY(A)', 'Q_XZ(A)', 'Q_YY(A)', 'Q_YZ(A)', 'Q_ZZ(A)']\n",
      "['Atom', 'R-2(A)', 'R-1(A)', 'R0(A)', 'R+1(A)', 'R+2(A)']\n",
      "['Atom', 'Area(A)', 'Vol(A)', 'N(Vol(A))', 'N(Vol(A))/Vol(A)', '%N(Vol(A))']\n"
     ]
    },
    {
     "data": {
      "text/plain": [
       "{'C1': {'xyz': array([0., 0., 0.]),\n",
       "  'q': [0.6181000154],\n",
       "  'K': [37.399461789],\n",
       "  'K_Scaled': [-37.611585114],\n",
       "  'Mu_Intra_X': [0.20429893848],\n",
       "  'Mu_Intra_Y': [0.55036571736],\n",
       "  'Mu_Intra_Z': [0.28413900603],\n",
       "  'Mu_Bond_X': [-0.15693694296],\n",
       "  'Mu_Bond_Y': [-0.56007812492],\n",
       "  'Mu_Bond_Z': [-0.2187898453],\n",
       "  'Mu_X': [0.04736199552],\n",
       "  'Mu_Y': [-0.0097124075554],\n",
       "  'Mu_Z': [0.065349160734],\n",
       "  '|Mu_Intra|': [0.65220813691],\n",
       "  '|Mu_Bond|': [0.62143841729],\n",
       "  '|Mu|': [0.08128961981],\n",
       "  'Q_XX': [-0.42620547034],\n",
       "  'Q_XY': [0.40159459646],\n",
       "  'Q_XZ': [0.20294321691],\n",
       "  'Q_YY': [0.7118632802],\n",
       "  'Q_YZ': [0.5568112971],\n",
       "  'Q_ZZ': [-0.28565780986],\n",
       "  'R+2': [7.0525047078],\n",
       "  'R+1': [4.995993954],\n",
       "  'Vol': [50.594926203],\n",
       "  'quadContrib': {'Q_xx': [-0.21310273516999967],\n",
       "   'Q_xy': [0.20079729823000003],\n",
       "   'Q_xz': [0.101471608455],\n",
       "   'Q_yy': [0.35593164010000056],\n",
       "   'Q_yz': [0.27840564855],\n",
       "   'Q_zz': [-0.1428289049299991]}},\n",
       " 'H2': {'xyz': array([-2.06324645,  0.        ,  0.        ]),\n",
       "  'q': [0.00710793958],\n",
       "  'K': [0.63265067882],\n",
       "  'K_Scaled': [-0.63623896483],\n",
       "  'Mu_Intra_X': [0.1357332489],\n",
       "  'Mu_Intra_Y': [0.0054406481157],\n",
       "  'Mu_Intra_Z': [0.0091067942334],\n",
       "  'Mu_Bond_X': [-0.0052682901263],\n",
       "  'Mu_Bond_Y': [-1.4354308505e-05],\n",
       "  'Mu_Bond_Z': [-3.7726890905e-05],\n",
       "  'Mu_X': [0.13046495877],\n",
       "  'Mu_Y': [0.0054262938072],\n",
       "  'Mu_Z': [0.0090690673425],\n",
       "  '|Mu_Intra|': [0.13614716013],\n",
       "  '|Mu_Bond|': [0.0052684447629],\n",
       "  '|Mu|': [0.13089231496],\n",
       "  'Q_XX': [0.38830581075],\n",
       "  'Q_XY': [-0.00043096208227],\n",
       "  'Q_XZ': [-0.011441687756],\n",
       "  'Q_YY': [-0.18137064081],\n",
       "  'Q_YZ': [-0.006801143839],\n",
       "  'Q_ZZ': [-0.20693516994],\n",
       "  'R+2': [1.5760832564],\n",
       "  'R+1': [1.0872177057],\n",
       "  'Vol': [47.289561136],\n",
       "  'quadContrib': {'Q_xx': [-0.3356909829916826],\n",
       "   'Q_xy': [-0.017053577878197418],\n",
       "   'Q_xz': [-0.03390518513960386],\n",
       "   'Q_yy': [0.17423662377834126],\n",
       "   'Q_yz': [-0.0034005719195],\n",
       "   'Q_zz': [0.16145435921334128]}},\n",
       " 'H3': {'xyz': array([ 0.66148729,  0.        , -1.95433397]),\n",
       "  'q': [0.00710439235],\n",
       "  'K': [0.63265820053],\n",
       "  'K_Scaled': [-0.6362465292],\n",
       "  'Mu_Intra_X': [-0.034881417575],\n",
       "  'Mu_Intra_Y': [0.0054437466008],\n",
       "  'Mu_Intra_Z': [0.13146955041],\n",
       "  'Mu_Bond_X': [0.0016524849821],\n",
       "  'Mu_Bond_Y': [-1.4339159668e-05],\n",
       "  'Mu_Bond_Z': [-0.0049998041273],\n",
       "  'Mu_X': [-0.033228932593],\n",
       "  'Mu_Y': [0.0054294074411],\n",
       "  'Mu_Z': [0.12646974628],\n",
       "  '|Mu_Intra|': [0.13612711102],\n",
       "  '|Mu_Bond|': [0.0052658288558],\n",
       "  '|Mu|': [0.13087489122],\n",
       "  'Q_XX': [-0.13873796233],\n",
       "  'Q_XY': [-0.0062782716743],\n",
       "  'Q_XZ': [-0.1898505352],\n",
       "  'Q_YY': [-0.18140524356],\n",
       "  'Q_YZ': [-0.0025813792369],\n",
       "  'Q_ZZ': [0.32014320588],\n",
       "  'R+2': [1.5760502994],\n",
       "  'R+1': [1.0872108466],\n",
       "  'Vol': [47.250973713],\n",
       "  'quadContrib': {'Q_xx': [0.13096050139647952],\n",
       "   'Q_xy': [0.002262317955121567],\n",
       "   'Q_xz': [0.12400130973190954],\n",
       "   'Q_yy': [0.17418474927919847],\n",
       "   'Q_yz': [-0.017249037985638826],\n",
       "   'Q_zz': [-0.30514525067567794]}},\n",
       " 'C4': {'xyz': array([ 1.04295497, -2.2175766 ,  1.45408869]),\n",
       "  'q': [0.0384287295],\n",
       "  'K': [37.774070864],\n",
       "  'K_Scaled': [-37.988318907],\n",
       "  'Mu_Intra_X': [-0.020280307261],\n",
       "  'Mu_Intra_Y': [0.059539512195],\n",
       "  'Mu_Intra_Z': [-0.027930630925],\n",
       "  'Mu_Bond_X': [0.029816012771],\n",
       "  'Mu_Bond_Y': [-0.051660862823],\n",
       "  'Mu_Bond_Z': [0.041572794172],\n",
       "  'Mu_X': [0.0095357055097],\n",
       "  'Mu_Y': [0.0078786493722],\n",
       "  'Mu_Z': [0.013642163247],\n",
       "  '|Mu_Intra|': [0.068821250489],\n",
       "  '|Mu_Bond|': [0.072705822191],\n",
       "  '|Mu|': [0.018414977968],\n",
       "  'Q_XX': [-0.085070558287],\n",
       "  'Q_XY': [-0.056471825266],\n",
       "  'Q_XZ': [0.066721468916],\n",
       "  'Q_YY': [0.12403545295],\n",
       "  'Q_YZ': [-0.076861756944],\n",
       "  'Q_ZZ': [-0.038964894661],\n",
       "  'R+2': [8.9881283477],\n",
       "  'R+1': [5.9792243724],\n",
       "  'Vol': [68.596909344],\n",
       "  'quadContrib': {'Q_xx': [-0.005505880249819128],\n",
       "   'Q_xy': [-0.0009494888760028623],\n",
       "   'Q_xz': [0.03284967924492894],\n",
       "   'Q_yy': [-0.012832057185101498],\n",
       "   'Q_yz': [-0.001533026927588662],\n",
       "   'Q_zz': [0.018337937434921514]}},\n",
       " 'H5': {'xyz': array([ 0.41988203, -3.97969141,  0.58540125]),\n",
       "  'q': [-0.0008940814],\n",
       "  'K': [0.61931649347],\n",
       "  'K_Scaled': [-0.62282915027],\n",
       "  'Mu_Intra_X': [0.042345924016],\n",
       "  'Mu_Intra_Y': [0.11738503949],\n",
       "  'Mu_Intra_Z': [0.059024512969],\n",
       "  'Mu_Bond_X': [0.00020930465695],\n",
       "  'Mu_Bond_Y': [0.00060301900072],\n",
       "  'Mu_Bond_Z': [0.00029180705994],\n",
       "  'Mu_X': [0.042555228673],\n",
       "  'Mu_Y': [0.11798805849],\n",
       "  'Mu_Z': [0.059316320029],\n",
       "  '|Mu_Intra|': [0.13804462289],\n",
       "  '|Mu_Bond|': [0.00070184878349],\n",
       "  '|Mu|': [0.13874637024],\n",
       "  'Q_XX': [-0.16192023183],\n",
       "  'Q_XY': [0.16201292263],\n",
       "  'Q_XZ': [0.096207567303],\n",
       "  'Q_YY': [0.25867396603],\n",
       "  'Q_YZ': [0.22588188324],\n",
       "  'Q_ZZ': [-0.096753734203],\n",
       "  'R+2': [1.6500975448],\n",
       "  'R+1': [1.1151057998],\n",
       "  'Vol': [48.753248135],\n",
       "  'quadContrib': {'Q_xx': [0.3942794550075273],\n",
       "   'Q_xy': [-0.09560628496130298],\n",
       "   'Q_xz': [0.12213316997548726],\n",
       "   'Q_yy': [-0.8712371980796545],\n",
       "   'Q_yz': [-0.13320762206027667],\n",
       "   'Q_zz': [0.4769577430721272]}},\n",
       " 'H6': {'xyz': array([ 3.10104624, -2.18389601,  1.45417562]),\n",
       "  'q': [0.00561404406],\n",
       "  'K': [0.61938934942],\n",
       "  'K_Scaled': [-0.62290241944],\n",
       "  'Mu_Intra_X': [-0.13781556391],\n",
       "  'Mu_Intra_Y': [0.0077648173301],\n",
       "  'Mu_Intra_Z': [-0.0025797335228],\n",
       "  'Mu_Bond_X': [0.0042434796535],\n",
       "  'Mu_Bond_Y': [5.0255645705e-05],\n",
       "  'Mu_Bond_Z': [2.299555379e-05],\n",
       "  'Mu_X': [-0.13357208426],\n",
       "  'Mu_Y': [0.0078150729758],\n",
       "  'Mu_Z': [-0.002556737969],\n",
       "  '|Mu_Intra|': [0.13805823796],\n",
       "  '|Mu_Bond|': [0.0042438395345],\n",
       "  '|Mu|': [0.13382493776],\n",
       "  'Q_XX': [0.41717136115],\n",
       "  'Q_XY': [0.027279131337],\n",
       "  'Q_XZ': [-0.0059424430709],\n",
       "  'Q_YY': [-0.19605851212],\n",
       "  'Q_YZ': [-0.018065522878],\n",
       "  'Q_ZZ': [-0.22111284903],\n",
       "  'R+2': [1.6202474627],\n",
       "  'R+1': [1.1021502277],\n",
       "  'Vol': [48.394896244],\n",
       "  'quadContrib': {'Q_xx': [-0.5907864863045202],\n",
       "   'Q_xy': [0.4441899301356668],\n",
       "   'Q_xz': [-0.2776085711492382],\n",
       "   'Q_yy': [0.29302559345017387],\n",
       "   'Q_yz': [-0.010388199788463785],\n",
       "   'Q_zz': [0.2977608928543466]}},\n",
       " 'H7': {'xyz': array([ 0.38320055, -2.18389601,  3.40356872]),\n",
       "  'q': [0.00561601176],\n",
       "  'K': [0.61938428724],\n",
       "  'K_Scaled': [-0.62289732854],\n",
       "  'Mu_Intra_X': [0.041750930753],\n",
       "  'Mu_Intra_Y': [0.0077661422419],\n",
       "  'Mu_Intra_Z': [-0.131382333],\n",
       "  'Mu_Bond_X': [-0.0013391734037],\n",
       "  'Mu_Bond_Y': [5.0278825999e-05],\n",
       "  'Mu_Bond_Z': [0.0040282808598],\n",
       "  'Mu_X': [0.040411757349],\n",
       "  'Mu_Y': [0.0078164210679],\n",
       "  'Mu_Z': [-0.12735405214],\n",
       "  '|Mu_Intra|': [0.13807523532],\n",
       "  '|Mu_Bond|': [0.0042453456927],\n",
       "  '|Mu|': [0.13384043173],\n",
       "  'Q_XX': [-0.15197287198],\n",
       "  'Q_XY': [-0.025847693051],\n",
       "  'Q_XZ': [-0.19855834492],\n",
       "  'Q_YY': [-0.19601235589],\n",
       "  'Q_YZ': [0.020039377037],\n",
       "  'Q_ZZ': [0.34798522787],\n",
       "  'R+2': [1.6202846815],\n",
       "  'R+1': [1.1021576813],\n",
       "  'Vol': [48.394872485],\n",
       "  'quadContrib': {'Q_xx': [0.37504420446625614],\n",
       "   'Q_xy': [-0.15227920719132795],\n",
       "   'Q_xz': [0.04934241619887794],\n",
       "   'Q_yy': [0.2930867016215207],\n",
       "   'Q_yz': [0.4174405548300284],\n",
       "   'Q_zz': [-0.6681309060877767]}},\n",
       " 'F8': {'xyz': array([0.78702936, 2.24484913, 1.09727873]),\n",
       "  'q': [-0.6807277277],\n",
       "  'K': [99.770660032],\n",
       "  'K_Scaled': [-100.33654208],\n",
       "  'Mu_Intra_X': [0.077369444388],\n",
       "  'Mu_Intra_Y': [0.22116634429],\n",
       "  'Mu_Intra_Z': [0.10786921159],\n",
       "  'Mu_Bond_X': [-0.35901288827],\n",
       "  'Mu_Bond_Y': [-1.0228705244],\n",
       "  'Mu_Bond_Z': [-0.50054215298],\n",
       "  'Mu_X': [-0.28164344388],\n",
       "  'Mu_Y': [-0.80170418013],\n",
       "  'Mu_Z': [-0.39267294139],\n",
       "  '|Mu_Intra|': [0.25794640835],\n",
       "  '|Mu_Bond|': [1.1940254648],\n",
       "  '|Mu|': [0.93607940946],\n",
       "  'Q_XX': [-0.19000280741],\n",
       "  'Q_XY': [0.16417311668],\n",
       "  'Q_XZ': [0.093561463023],\n",
       "  'Q_YY': [0.31660192195],\n",
       "  'Q_YZ': [0.2288195482],\n",
       "  'Q_ZZ': [-0.12659911453],\n",
       "  'R+2': [11.703243965],\n",
       "  'R+1': [8.7500471334],\n",
       "  'Vol': [107.62087785],\n",
       "  'quadContrib': {'Q_xx': [1.1152988020174046],\n",
       "   'Q_xy': [-1.2003187293457778],\n",
       "   'Q_xz': [-0.5803362211694066],\n",
       "   'Q_yy': [-1.8377754842694705],\n",
       "   'Q_yz': [-1.6735219262793044],\n",
       "   'Q_zz': [0.722476682252065]}}}"
      ]
     },
     "execution_count": 5,
     "metadata": {},
     "output_type": "execute_result"
    }
   ],
   "source": [
    "negXAtomLabel = molecule_xyz['Atoms'][2-1]\n",
    "sumFile = open('SubCH3_CFH2_anti2146_reor'+\".sum\",\"r\") #open file, read lines, close file\n",
    "data = sumFile.readlines()\n",
    "sumFile.close()\n",
    "atomDict = qt.get_atomic_props(data)\n",
    "atomDict"
   ]
  },
  {
   "cell_type": "code",
   "execution_count": 6,
   "metadata": {},
   "outputs": [],
   "source": [
    "# sr._get_ref_bcps('SubH_CFHCH3_reor_wb97xd_aug-cc-pvtz',[['C1','H3'],['C1','C4'],['C1','F8']],originAtom='C1')\n"
   ]
  },
  {
   "cell_type": "code",
   "execution_count": 7,
   "metadata": {},
   "outputs": [],
   "source": [
    "# final_orientation = sr.set_yaxis(molecule_xaxis,posYPoint)\n",
    "# final_orientation"
   ]
  },
  {
   "cell_type": "code",
   "execution_count": 8,
   "metadata": {},
   "outputs": [],
   "source": [
    "# outFrame = pd.DataFrame(final_orientation*0.529177,columns = ['x','y','z'])\n",
    "# outFrame['Atom'] = molecule_xyz['Atoms']\n",
    "# outFrame = outFrame[['Atom','x','y','z']]\n",
    "# with open('SubCH3_CFH2_anti2146_reor'+'reor.txt','w') as txt_file:\n",
    "#     of_string = outFrame.to_string(header=False,index=False)\n",
    "#     txt_file.write(of_string)"
   ]
  },
  {
   "cell_type": "code",
   "execution_count": 9,
   "metadata": {},
   "outputs": [],
   "source": [
    "# sr._get_ref_bcps('SubH_CHCH2_wb97xd_aug-cc-pvtz_reor',[['C1','H3'],['C1','C4']],originAtom='C1')"
   ]
  },
  {
   "cell_type": "code",
   "execution_count": 10,
   "metadata": {},
   "outputs": [],
   "source": [
    "# sr._get_ref_bcps('SubH_BHCH3BH2_wb97xd_aug-cc-pvtz_reor',[['B1','H3'],['B1','H4'],['B1','C5']],originAtom='B1')"
   ]
  },
  {
   "cell_type": "code",
   "execution_count": 11,
   "metadata": {},
   "outputs": [],
   "source": [
    "# sr._get_ref_bcps('SubH_BHF_wb97xd_aug-cc-pvtz_reor',[['B1','H3'],['B1','F4']],originAtom='B1')"
   ]
  },
  {
   "cell_type": "code",
   "execution_count": 12,
   "metadata": {},
   "outputs": [],
   "source": [
    "# sr._get_ref_bcps('SubH_NHOCH3_wb97xd_aug-cc-pvtz_reor',[['N1','H3'],['N1','O4'],['N1','C5']],originAtom='N1')"
   ]
  },
  {
   "cell_type": "code",
   "execution_count": 13,
   "metadata": {},
   "outputs": [],
   "source": [
    "# sr._get_ref_bcps('SubH_POCH3H_wb97xd_aug-cc-pvtz_reor',[['P1','H3'],['P1','O4'],['P1','C5']],originAtom='P1')"
   ]
  },
  {
   "cell_type": "code",
   "execution_count": 14,
   "metadata": {},
   "outputs": [],
   "source": [
    "# sr._get_ref_bcps('SubH_SiFHCH3_wb97xd_augccpvtz_reor',[['Si1','H3'],['Si1','C4'],['Si1','F8']],originAtom='Si1')"
   ]
  },
  {
   "cell_type": "code",
   "execution_count": 15,
   "metadata": {},
   "outputs": [],
   "source": [
    "# sr._get_ref_bcps('SubH_Si2H3_wb97xd_augccpvtz_reor',[['Si1','H3'],['Si1','NNA7']],originAtom='Si1')"
   ]
  },
  {
   "cell_type": "code",
   "execution_count": 16,
   "metadata": {},
   "outputs": [
    {
     "name": "stdout",
     "output_type": "stream",
     "text": [
      "['Atom', 'Charge', 'X', 'Y', 'Z']\n",
      "['Atom', 'q(A)', 'L(A)', 'K(A)', 'K_Scaled(A)', '|Mu_Intra(A)|']\n",
      "['Atom', 'Mu_Intra_X(A)', 'Mu_Bond_X(A)', 'Mu_X(A)']\n",
      "['Atom', 'Mu_Intra_Y(A)', 'Mu_Bond_Y(A)', 'Mu_Y(A)']\n",
      "['Atom', 'Mu_Intra_Z(A)', 'Mu_Bond_Z(A)', 'Mu_Z(A)']\n",
      "['Atom', '|Mu_Intra(A)|', '|Mu_Bond(A)|', '|Mu(A)|']\n",
      "['Atom', 'Q_XX(A)', 'Q_XY(A)', 'Q_XZ(A)', 'Q_YY(A)', 'Q_YZ(A)', 'Q_ZZ(A)']\n",
      "['Atom', 'R-2(A)', 'R-1(A)', 'R0(A)', 'R+1(A)', 'R+2(A)']\n",
      "['Atom', 'Area(A)', 'Vol(A)', 'N(Vol(A))', 'N(Vol(A))/Vol(A)', '%N(Vol(A))']\n",
      "['Atom', 'Charge', 'X', 'Y', 'Z']\n",
      "here\n",
      "H3-Si1\n",
      "H3-Si1\n",
      "C4-Si1\n",
      "Si1-F8\n",
      "C4-Si1\n",
      "H3-Si1\n",
      "C4-Si1\n",
      "Si1-F8\n",
      "Si1-F8\n",
      "H3-Si1\n",
      "C4-Si1\n",
      "Si1-F8\n",
      "H3-Si1\n",
      "C4-Si1\n",
      "Si1-F8\n",
      "H3-Si1\n",
      "C4-Si1\n",
      "Si1-F8\n",
      "H3-Si1\n",
      "C4-Si1\n",
      "Si1-F8\n"
     ]
    }
   ],
   "source": [
    "outFrame = sr.rotate_substituent('SubH_SiFHCH3_wb97xd_augccpvtz_reor',1,2)\n",
    "sr.output_to_gjf('old_file',outFrame)"
   ]
  },
  {
   "cell_type": "code",
   "execution_count": 17,
   "metadata": {},
   "outputs": [],
   "source": [
    "# import os\n",
    "# os.path.exists('old_file_reor.gjf')"
   ]
  },
  {
   "cell_type": "code",
   "execution_count": 18,
   "metadata": {},
   "outputs": [
    {
     "name": "stdout",
     "output_type": "stream",
     "text": [
      "['Atom', 'Charge', 'X', 'Y', 'Z']\n",
      "['Atom', 'q(A)', 'L(A)', 'K(A)', 'K_Scaled(A)', '|Mu_Intra(A)|']\n",
      "['Atom', 'Mu_Intra_X(A)', 'Mu_Bond_X(A)', 'Mu_X(A)']\n",
      "['Atom', 'Mu_Intra_Y(A)', 'Mu_Bond_Y(A)', 'Mu_Y(A)']\n",
      "['Atom', 'Mu_Intra_Z(A)', 'Mu_Bond_Z(A)', 'Mu_Z(A)']\n",
      "['Atom', '|Mu_Intra(A)|', '|Mu_Bond(A)|', '|Mu(A)|']\n",
      "['Atom', 'Q_XX(A)', 'Q_XY(A)', 'Q_XZ(A)', 'Q_YY(A)', 'Q_YZ(A)', 'Q_ZZ(A)']\n",
      "['Atom', 'R-2(A)', 'R-1(A)', 'R0(A)', 'R+1(A)', 'R+2(A)']\n",
      "['Atom', 'Area(A)', 'Vol(A)', 'N(Vol(A))', 'N(Vol(A))/Vol(A)', '%N(Vol(A))']\n",
      "['Atom', 'Charge', 'X', 'Y', 'Z']\n",
      "here\n",
      "C3-C1\n",
      "C3-C1\n"
     ]
    },
    {
     "data": {
      "text/html": [
       "<div>\n",
       "<style scoped>\n",
       "    .dataframe tbody tr th:only-of-type {\n",
       "        vertical-align: middle;\n",
       "    }\n",
       "\n",
       "    .dataframe tbody tr th {\n",
       "        vertical-align: top;\n",
       "    }\n",
       "\n",
       "    .dataframe thead th {\n",
       "        text-align: right;\n",
       "    }\n",
       "</style>\n",
       "<table border=\"1\" class=\"dataframe\">\n",
       "  <thead>\n",
       "    <tr style=\"text-align: right;\">\n",
       "      <th></th>\n",
       "      <th>Atom</th>\n",
       "      <th>x</th>\n",
       "      <th>y</th>\n",
       "      <th>z</th>\n",
       "    </tr>\n",
       "  </thead>\n",
       "  <tbody>\n",
       "    <tr>\n",
       "      <th>0</th>\n",
       "      <td>C1</td>\n",
       "      <td>0.000000</td>\n",
       "      <td>0.0</td>\n",
       "      <td>0.0</td>\n",
       "    </tr>\n",
       "    <tr>\n",
       "      <th>1</th>\n",
       "      <td>H2</td>\n",
       "      <td>-1.061209</td>\n",
       "      <td>0.0</td>\n",
       "      <td>0.0</td>\n",
       "    </tr>\n",
       "    <tr>\n",
       "      <th>2</th>\n",
       "      <td>C3</td>\n",
       "      <td>1.198908</td>\n",
       "      <td>0.0</td>\n",
       "      <td>0.0</td>\n",
       "    </tr>\n",
       "    <tr>\n",
       "      <th>3</th>\n",
       "      <td>Cl4</td>\n",
       "      <td>2.834984</td>\n",
       "      <td>0.0</td>\n",
       "      <td>0.0</td>\n",
       "    </tr>\n",
       "  </tbody>\n",
       "</table>\n",
       "</div>"
      ],
      "text/plain": [
       "  Atom         x    y    z\n",
       "0   C1  0.000000  0.0  0.0\n",
       "1   H2 -1.061209  0.0  0.0\n",
       "2   C3  1.198908  0.0  0.0\n",
       "3  Cl4  2.834984  0.0  0.0"
      ]
     },
     "execution_count": 18,
     "metadata": {},
     "output_type": "execute_result"
    }
   ],
   "source": [
    "sr.rotate_substituent('SubH_CCCl-ReorPosY-B3LYP-def2-TZVPPD-Field',1,2)"
   ]
  },
  {
   "cell_type": "code",
   "execution_count": null,
   "metadata": {},
   "outputs": [],
   "source": []
  }
 ],
 "metadata": {
  "kernelspec": {
   "display_name": "my-matplotlib-env",
   "language": "python",
   "name": "python3"
  },
  "language_info": {
   "codemirror_mode": {
    "name": "ipython",
    "version": 3
   },
   "file_extension": ".py",
   "mimetype": "text/x-python",
   "name": "python",
   "nbconvert_exporter": "python",
   "pygments_lexer": "ipython3",
   "version": "3.11.3"
  },
  "orig_nbformat": 4
 },
 "nbformat": 4,
 "nbformat_minor": 2
}
